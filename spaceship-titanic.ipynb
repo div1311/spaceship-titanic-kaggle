{
 "cells": [
  {
   "cell_type": "code",
   "execution_count": 64,
   "metadata": {},
   "outputs": [],
   "source": [
    "import pandas as pd\n",
    "import numpy as np \n",
    "import matplotlib.pyplot as plt"
   ]
  },
  {
   "cell_type": "code",
   "execution_count": 65,
   "metadata": {
    "execution": {
     "iopub.execute_input": "2023-12-13T16:00:42.923585Z",
     "iopub.status.busy": "2023-12-13T16:00:42.923125Z",
     "iopub.status.idle": "2023-12-13T16:00:42.987450Z",
     "shell.execute_reply": "2023-12-13T16:00:42.986292Z",
     "shell.execute_reply.started": "2023-12-13T16:00:42.923554Z"
    }
   },
   "outputs": [],
   "source": [
    "test=pd.read_csv(\"train.csv\")"
   ]
  },
  {
   "cell_type": "code",
   "execution_count": 66,
   "metadata": {
    "execution": {
     "iopub.execute_input": "2023-12-13T16:00:42.988998Z",
     "iopub.status.busy": "2023-12-13T16:00:42.988652Z",
     "iopub.status.idle": "2023-12-13T16:00:43.033993Z",
     "shell.execute_reply": "2023-12-13T16:00:43.032950Z",
     "shell.execute_reply.started": "2023-12-13T16:00:42.988966Z"
    }
   },
   "outputs": [
    {
     "data": {
      "text/html": [
       "<div>\n",
       "<style scoped>\n",
       "    .dataframe tbody tr th:only-of-type {\n",
       "        vertical-align: middle;\n",
       "    }\n",
       "\n",
       "    .dataframe tbody tr th {\n",
       "        vertical-align: top;\n",
       "    }\n",
       "\n",
       "    .dataframe thead th {\n",
       "        text-align: right;\n",
       "    }\n",
       "</style>\n",
       "<table border=\"1\" class=\"dataframe\">\n",
       "  <thead>\n",
       "    <tr style=\"text-align: right;\">\n",
       "      <th></th>\n",
       "      <th>PassengerId</th>\n",
       "      <th>HomePlanet</th>\n",
       "      <th>CryoSleep</th>\n",
       "      <th>Cabin</th>\n",
       "      <th>Destination</th>\n",
       "      <th>Age</th>\n",
       "      <th>VIP</th>\n",
       "      <th>RoomService</th>\n",
       "      <th>FoodCourt</th>\n",
       "      <th>ShoppingMall</th>\n",
       "      <th>Spa</th>\n",
       "      <th>VRDeck</th>\n",
       "      <th>Name</th>\n",
       "      <th>Transported</th>\n",
       "    </tr>\n",
       "  </thead>\n",
       "  <tbody>\n",
       "    <tr>\n",
       "      <th>0</th>\n",
       "      <td>0001_01</td>\n",
       "      <td>Europa</td>\n",
       "      <td>False</td>\n",
       "      <td>B/0/P</td>\n",
       "      <td>TRAPPIST-1e</td>\n",
       "      <td>39.0</td>\n",
       "      <td>False</td>\n",
       "      <td>0.0</td>\n",
       "      <td>0.0</td>\n",
       "      <td>0.0</td>\n",
       "      <td>0.0</td>\n",
       "      <td>0.0</td>\n",
       "      <td>Maham Ofracculy</td>\n",
       "      <td>False</td>\n",
       "    </tr>\n",
       "    <tr>\n",
       "      <th>1</th>\n",
       "      <td>0002_01</td>\n",
       "      <td>Earth</td>\n",
       "      <td>False</td>\n",
       "      <td>F/0/S</td>\n",
       "      <td>TRAPPIST-1e</td>\n",
       "      <td>24.0</td>\n",
       "      <td>False</td>\n",
       "      <td>109.0</td>\n",
       "      <td>9.0</td>\n",
       "      <td>25.0</td>\n",
       "      <td>549.0</td>\n",
       "      <td>44.0</td>\n",
       "      <td>Juanna Vines</td>\n",
       "      <td>True</td>\n",
       "    </tr>\n",
       "    <tr>\n",
       "      <th>2</th>\n",
       "      <td>0003_01</td>\n",
       "      <td>Europa</td>\n",
       "      <td>False</td>\n",
       "      <td>A/0/S</td>\n",
       "      <td>TRAPPIST-1e</td>\n",
       "      <td>58.0</td>\n",
       "      <td>True</td>\n",
       "      <td>43.0</td>\n",
       "      <td>3576.0</td>\n",
       "      <td>0.0</td>\n",
       "      <td>6715.0</td>\n",
       "      <td>49.0</td>\n",
       "      <td>Altark Susent</td>\n",
       "      <td>False</td>\n",
       "    </tr>\n",
       "    <tr>\n",
       "      <th>3</th>\n",
       "      <td>0003_02</td>\n",
       "      <td>Europa</td>\n",
       "      <td>False</td>\n",
       "      <td>A/0/S</td>\n",
       "      <td>TRAPPIST-1e</td>\n",
       "      <td>33.0</td>\n",
       "      <td>False</td>\n",
       "      <td>0.0</td>\n",
       "      <td>1283.0</td>\n",
       "      <td>371.0</td>\n",
       "      <td>3329.0</td>\n",
       "      <td>193.0</td>\n",
       "      <td>Solam Susent</td>\n",
       "      <td>False</td>\n",
       "    </tr>\n",
       "    <tr>\n",
       "      <th>4</th>\n",
       "      <td>0004_01</td>\n",
       "      <td>Earth</td>\n",
       "      <td>False</td>\n",
       "      <td>F/1/S</td>\n",
       "      <td>TRAPPIST-1e</td>\n",
       "      <td>16.0</td>\n",
       "      <td>False</td>\n",
       "      <td>303.0</td>\n",
       "      <td>70.0</td>\n",
       "      <td>151.0</td>\n",
       "      <td>565.0</td>\n",
       "      <td>2.0</td>\n",
       "      <td>Willy Santantines</td>\n",
       "      <td>True</td>\n",
       "    </tr>\n",
       "    <tr>\n",
       "      <th>...</th>\n",
       "      <td>...</td>\n",
       "      <td>...</td>\n",
       "      <td>...</td>\n",
       "      <td>...</td>\n",
       "      <td>...</td>\n",
       "      <td>...</td>\n",
       "      <td>...</td>\n",
       "      <td>...</td>\n",
       "      <td>...</td>\n",
       "      <td>...</td>\n",
       "      <td>...</td>\n",
       "      <td>...</td>\n",
       "      <td>...</td>\n",
       "      <td>...</td>\n",
       "    </tr>\n",
       "    <tr>\n",
       "      <th>8688</th>\n",
       "      <td>9276_01</td>\n",
       "      <td>Europa</td>\n",
       "      <td>False</td>\n",
       "      <td>A/98/P</td>\n",
       "      <td>55 Cancri e</td>\n",
       "      <td>41.0</td>\n",
       "      <td>True</td>\n",
       "      <td>0.0</td>\n",
       "      <td>6819.0</td>\n",
       "      <td>0.0</td>\n",
       "      <td>1643.0</td>\n",
       "      <td>74.0</td>\n",
       "      <td>Gravior Noxnuther</td>\n",
       "      <td>False</td>\n",
       "    </tr>\n",
       "    <tr>\n",
       "      <th>8689</th>\n",
       "      <td>9278_01</td>\n",
       "      <td>Earth</td>\n",
       "      <td>True</td>\n",
       "      <td>G/1499/S</td>\n",
       "      <td>PSO J318.5-22</td>\n",
       "      <td>18.0</td>\n",
       "      <td>False</td>\n",
       "      <td>0.0</td>\n",
       "      <td>0.0</td>\n",
       "      <td>0.0</td>\n",
       "      <td>0.0</td>\n",
       "      <td>0.0</td>\n",
       "      <td>Kurta Mondalley</td>\n",
       "      <td>False</td>\n",
       "    </tr>\n",
       "    <tr>\n",
       "      <th>8690</th>\n",
       "      <td>9279_01</td>\n",
       "      <td>Earth</td>\n",
       "      <td>False</td>\n",
       "      <td>G/1500/S</td>\n",
       "      <td>TRAPPIST-1e</td>\n",
       "      <td>26.0</td>\n",
       "      <td>False</td>\n",
       "      <td>0.0</td>\n",
       "      <td>0.0</td>\n",
       "      <td>1872.0</td>\n",
       "      <td>1.0</td>\n",
       "      <td>0.0</td>\n",
       "      <td>Fayey Connon</td>\n",
       "      <td>True</td>\n",
       "    </tr>\n",
       "    <tr>\n",
       "      <th>8691</th>\n",
       "      <td>9280_01</td>\n",
       "      <td>Europa</td>\n",
       "      <td>False</td>\n",
       "      <td>E/608/S</td>\n",
       "      <td>55 Cancri e</td>\n",
       "      <td>32.0</td>\n",
       "      <td>False</td>\n",
       "      <td>0.0</td>\n",
       "      <td>1049.0</td>\n",
       "      <td>0.0</td>\n",
       "      <td>353.0</td>\n",
       "      <td>3235.0</td>\n",
       "      <td>Celeon Hontichre</td>\n",
       "      <td>False</td>\n",
       "    </tr>\n",
       "    <tr>\n",
       "      <th>8692</th>\n",
       "      <td>9280_02</td>\n",
       "      <td>Europa</td>\n",
       "      <td>False</td>\n",
       "      <td>E/608/S</td>\n",
       "      <td>TRAPPIST-1e</td>\n",
       "      <td>44.0</td>\n",
       "      <td>False</td>\n",
       "      <td>126.0</td>\n",
       "      <td>4688.0</td>\n",
       "      <td>0.0</td>\n",
       "      <td>0.0</td>\n",
       "      <td>12.0</td>\n",
       "      <td>Propsh Hontichre</td>\n",
       "      <td>True</td>\n",
       "    </tr>\n",
       "  </tbody>\n",
       "</table>\n",
       "<p>8693 rows × 14 columns</p>\n",
       "</div>"
      ],
      "text/plain": [
       "     PassengerId HomePlanet CryoSleep     Cabin    Destination   Age    VIP  \\\n",
       "0        0001_01     Europa     False     B/0/P    TRAPPIST-1e  39.0  False   \n",
       "1        0002_01      Earth     False     F/0/S    TRAPPIST-1e  24.0  False   \n",
       "2        0003_01     Europa     False     A/0/S    TRAPPIST-1e  58.0   True   \n",
       "3        0003_02     Europa     False     A/0/S    TRAPPIST-1e  33.0  False   \n",
       "4        0004_01      Earth     False     F/1/S    TRAPPIST-1e  16.0  False   \n",
       "...          ...        ...       ...       ...            ...   ...    ...   \n",
       "8688     9276_01     Europa     False    A/98/P    55 Cancri e  41.0   True   \n",
       "8689     9278_01      Earth      True  G/1499/S  PSO J318.5-22  18.0  False   \n",
       "8690     9279_01      Earth     False  G/1500/S    TRAPPIST-1e  26.0  False   \n",
       "8691     9280_01     Europa     False   E/608/S    55 Cancri e  32.0  False   \n",
       "8692     9280_02     Europa     False   E/608/S    TRAPPIST-1e  44.0  False   \n",
       "\n",
       "      RoomService  FoodCourt  ShoppingMall     Spa  VRDeck               Name  \\\n",
       "0             0.0        0.0           0.0     0.0     0.0    Maham Ofracculy   \n",
       "1           109.0        9.0          25.0   549.0    44.0       Juanna Vines   \n",
       "2            43.0     3576.0           0.0  6715.0    49.0      Altark Susent   \n",
       "3             0.0     1283.0         371.0  3329.0   193.0       Solam Susent   \n",
       "4           303.0       70.0         151.0   565.0     2.0  Willy Santantines   \n",
       "...           ...        ...           ...     ...     ...                ...   \n",
       "8688          0.0     6819.0           0.0  1643.0    74.0  Gravior Noxnuther   \n",
       "8689          0.0        0.0           0.0     0.0     0.0    Kurta Mondalley   \n",
       "8690          0.0        0.0        1872.0     1.0     0.0       Fayey Connon   \n",
       "8691          0.0     1049.0           0.0   353.0  3235.0   Celeon Hontichre   \n",
       "8692        126.0     4688.0           0.0     0.0    12.0   Propsh Hontichre   \n",
       "\n",
       "      Transported  \n",
       "0           False  \n",
       "1            True  \n",
       "2           False  \n",
       "3           False  \n",
       "4            True  \n",
       "...           ...  \n",
       "8688        False  \n",
       "8689        False  \n",
       "8690         True  \n",
       "8691        False  \n",
       "8692         True  \n",
       "\n",
       "[8693 rows x 14 columns]"
      ]
     },
     "execution_count": 66,
     "metadata": {},
     "output_type": "execute_result"
    }
   ],
   "source": [
    "test"
   ]
  },
  {
   "cell_type": "code",
   "execution_count": 67,
   "metadata": {
    "execution": {
     "iopub.execute_input": "2023-12-13T16:00:43.037089Z",
     "iopub.status.busy": "2023-12-13T16:00:43.036681Z",
     "iopub.status.idle": "2023-12-13T16:00:43.051133Z",
     "shell.execute_reply": "2023-12-13T16:00:43.049749Z",
     "shell.execute_reply.started": "2023-12-13T16:00:43.037053Z"
    }
   },
   "outputs": [
    {
     "data": {
      "text/plain": [
       "PassengerId       0\n",
       "HomePlanet      201\n",
       "CryoSleep       217\n",
       "Cabin           199\n",
       "Destination     182\n",
       "Age             179\n",
       "VIP             203\n",
       "RoomService     181\n",
       "FoodCourt       183\n",
       "ShoppingMall    208\n",
       "Spa             183\n",
       "VRDeck          188\n",
       "Name            200\n",
       "Transported       0\n",
       "dtype: int64"
      ]
     },
     "execution_count": 67,
     "metadata": {},
     "output_type": "execute_result"
    }
   ],
   "source": [
    "test.isna().sum()"
   ]
  },
  {
   "cell_type": "code",
   "execution_count": 68,
   "metadata": {},
   "outputs": [
    {
     "name": "stdout",
     "output_type": "stream",
     "text": [
      "<class 'pandas.core.frame.DataFrame'>\n",
      "RangeIndex: 8693 entries, 0 to 8692\n",
      "Data columns (total 14 columns):\n",
      " #   Column        Non-Null Count  Dtype  \n",
      "---  ------        --------------  -----  \n",
      " 0   PassengerId   8693 non-null   object \n",
      " 1   HomePlanet    8492 non-null   object \n",
      " 2   CryoSleep     8476 non-null   object \n",
      " 3   Cabin         8494 non-null   object \n",
      " 4   Destination   8511 non-null   object \n",
      " 5   Age           8514 non-null   float64\n",
      " 6   VIP           8490 non-null   object \n",
      " 7   RoomService   8512 non-null   float64\n",
      " 8   FoodCourt     8510 non-null   float64\n",
      " 9   ShoppingMall  8485 non-null   float64\n",
      " 10  Spa           8510 non-null   float64\n",
      " 11  VRDeck        8505 non-null   float64\n",
      " 12  Name          8493 non-null   object \n",
      " 13  Transported   8693 non-null   bool   \n",
      "dtypes: bool(1), float64(6), object(7)\n",
      "memory usage: 891.5+ KB\n"
     ]
    }
   ],
   "source": [
    "test.info()"
   ]
  },
  {
   "cell_type": "code",
   "execution_count": 69,
   "metadata": {},
   "outputs": [
    {
     "data": {
      "text/html": [
       "<div>\n",
       "<style scoped>\n",
       "    .dataframe tbody tr th:only-of-type {\n",
       "        vertical-align: middle;\n",
       "    }\n",
       "\n",
       "    .dataframe tbody tr th {\n",
       "        vertical-align: top;\n",
       "    }\n",
       "\n",
       "    .dataframe thead th {\n",
       "        text-align: right;\n",
       "    }\n",
       "</style>\n",
       "<table border=\"1\" class=\"dataframe\">\n",
       "  <thead>\n",
       "    <tr style=\"text-align: right;\">\n",
       "      <th></th>\n",
       "      <th>Age</th>\n",
       "      <th>RoomService</th>\n",
       "      <th>FoodCourt</th>\n",
       "      <th>ShoppingMall</th>\n",
       "      <th>Spa</th>\n",
       "      <th>VRDeck</th>\n",
       "    </tr>\n",
       "  </thead>\n",
       "  <tbody>\n",
       "    <tr>\n",
       "      <th>count</th>\n",
       "      <td>8514.000000</td>\n",
       "      <td>8512.000000</td>\n",
       "      <td>8510.000000</td>\n",
       "      <td>8485.000000</td>\n",
       "      <td>8510.000000</td>\n",
       "      <td>8505.000000</td>\n",
       "    </tr>\n",
       "    <tr>\n",
       "      <th>mean</th>\n",
       "      <td>28.827930</td>\n",
       "      <td>224.687617</td>\n",
       "      <td>458.077203</td>\n",
       "      <td>173.729169</td>\n",
       "      <td>311.138778</td>\n",
       "      <td>304.854791</td>\n",
       "    </tr>\n",
       "    <tr>\n",
       "      <th>std</th>\n",
       "      <td>14.489021</td>\n",
       "      <td>666.717663</td>\n",
       "      <td>1611.489240</td>\n",
       "      <td>604.696458</td>\n",
       "      <td>1136.705535</td>\n",
       "      <td>1145.717189</td>\n",
       "    </tr>\n",
       "    <tr>\n",
       "      <th>min</th>\n",
       "      <td>0.000000</td>\n",
       "      <td>0.000000</td>\n",
       "      <td>0.000000</td>\n",
       "      <td>0.000000</td>\n",
       "      <td>0.000000</td>\n",
       "      <td>0.000000</td>\n",
       "    </tr>\n",
       "    <tr>\n",
       "      <th>25%</th>\n",
       "      <td>19.000000</td>\n",
       "      <td>0.000000</td>\n",
       "      <td>0.000000</td>\n",
       "      <td>0.000000</td>\n",
       "      <td>0.000000</td>\n",
       "      <td>0.000000</td>\n",
       "    </tr>\n",
       "    <tr>\n",
       "      <th>50%</th>\n",
       "      <td>27.000000</td>\n",
       "      <td>0.000000</td>\n",
       "      <td>0.000000</td>\n",
       "      <td>0.000000</td>\n",
       "      <td>0.000000</td>\n",
       "      <td>0.000000</td>\n",
       "    </tr>\n",
       "    <tr>\n",
       "      <th>75%</th>\n",
       "      <td>38.000000</td>\n",
       "      <td>47.000000</td>\n",
       "      <td>76.000000</td>\n",
       "      <td>27.000000</td>\n",
       "      <td>59.000000</td>\n",
       "      <td>46.000000</td>\n",
       "    </tr>\n",
       "    <tr>\n",
       "      <th>max</th>\n",
       "      <td>79.000000</td>\n",
       "      <td>14327.000000</td>\n",
       "      <td>29813.000000</td>\n",
       "      <td>23492.000000</td>\n",
       "      <td>22408.000000</td>\n",
       "      <td>24133.000000</td>\n",
       "    </tr>\n",
       "  </tbody>\n",
       "</table>\n",
       "</div>"
      ],
      "text/plain": [
       "               Age   RoomService     FoodCourt  ShoppingMall           Spa  \\\n",
       "count  8514.000000   8512.000000   8510.000000   8485.000000   8510.000000   \n",
       "mean     28.827930    224.687617    458.077203    173.729169    311.138778   \n",
       "std      14.489021    666.717663   1611.489240    604.696458   1136.705535   \n",
       "min       0.000000      0.000000      0.000000      0.000000      0.000000   \n",
       "25%      19.000000      0.000000      0.000000      0.000000      0.000000   \n",
       "50%      27.000000      0.000000      0.000000      0.000000      0.000000   \n",
       "75%      38.000000     47.000000     76.000000     27.000000     59.000000   \n",
       "max      79.000000  14327.000000  29813.000000  23492.000000  22408.000000   \n",
       "\n",
       "             VRDeck  \n",
       "count   8505.000000  \n",
       "mean     304.854791  \n",
       "std     1145.717189  \n",
       "min        0.000000  \n",
       "25%        0.000000  \n",
       "50%        0.000000  \n",
       "75%       46.000000  \n",
       "max    24133.000000  "
      ]
     },
     "execution_count": 69,
     "metadata": {},
     "output_type": "execute_result"
    }
   ],
   "source": [
    "test.describe()"
   ]
  },
  {
   "cell_type": "code",
   "execution_count": 70,
   "metadata": {},
   "outputs": [
    {
     "data": {
      "text/plain": [
       "0.0"
      ]
     },
     "execution_count": 70,
     "metadata": {},
     "output_type": "execute_result"
    }
   ],
   "source": [
    "test[\"FoodCourt\"].median()"
   ]
  },
  {
   "cell_type": "code",
   "execution_count": 71,
   "metadata": {},
   "outputs": [
    {
     "data": {
      "text/plain": [
       "0.0       5456\n",
       "1.0        116\n",
       "2.0         75\n",
       "3.0         53\n",
       "4.0         53\n",
       "          ... \n",
       "3846.0       1\n",
       "5193.0       1\n",
       "312.0        1\n",
       "827.0        1\n",
       "4688.0       1\n",
       "Name: FoodCourt, Length: 1507, dtype: int64"
      ]
     },
     "execution_count": 71,
     "metadata": {},
     "output_type": "execute_result"
    }
   ],
   "source": [
    "test[\"FoodCourt\"].value_counts()"
   ]
  },
  {
   "cell_type": "code",
   "execution_count": 72,
   "metadata": {},
   "outputs": [
    {
     "data": {
      "text/plain": [
       "183"
      ]
     },
     "execution_count": 72,
     "metadata": {},
     "output_type": "execute_result"
    }
   ],
   "source": [
    "test[\"FoodCourt\"].isna().sum()"
   ]
  },
  {
   "cell_type": "code",
   "execution_count": 73,
   "metadata": {},
   "outputs": [],
   "source": [
    "test[\"RoomService\"]=test[\"RoomService\"].fillna(0.0)\n",
    "test[\"FoodCourt\"]=test[\"FoodCourt\"].fillna(0.0)\n",
    "test[\"ShoppingMall\"]=test[\"ShoppingMall\"].fillna(0.0)\n",
    "test[\"Spa\"]=test[\"Spa\"].fillna(0.0)\n",
    "test[\"VRDeck\"]=test[\"VRDeck\"].fillna(0.0)"
   ]
  },
  {
   "cell_type": "code",
   "execution_count": 74,
   "metadata": {
    "execution": {
     "iopub.execute_input": "2023-12-13T16:00:43.080828Z",
     "iopub.status.busy": "2023-12-13T16:00:43.080224Z",
     "iopub.status.idle": "2023-12-13T16:00:43.089530Z",
     "shell.execute_reply": "2023-12-13T16:00:43.088463Z",
     "shell.execute_reply.started": "2023-12-13T16:00:43.080787Z"
    }
   },
   "outputs": [
    {
     "data": {
      "text/plain": [
       "27.0"
      ]
     },
     "execution_count": 74,
     "metadata": {},
     "output_type": "execute_result"
    }
   ],
   "source": [
    "test[\"Age\"].median()"
   ]
  },
  {
   "cell_type": "code",
   "execution_count": 75,
   "metadata": {
    "execution": {
     "iopub.execute_input": "2023-12-13T16:00:43.091365Z",
     "iopub.status.busy": "2023-12-13T16:00:43.090769Z",
     "iopub.status.idle": "2023-12-13T16:00:43.100265Z",
     "shell.execute_reply": "2023-12-13T16:00:43.099286Z",
     "shell.execute_reply.started": "2023-12-13T16:00:43.091330Z"
    }
   },
   "outputs": [],
   "source": [
    "test[\"Age\"]=test[\"Age\"].fillna(27)"
   ]
  },
  {
   "cell_type": "code",
   "execution_count": 76,
   "metadata": {
    "execution": {
     "iopub.execute_input": "2023-12-13T16:00:43.102669Z",
     "iopub.status.busy": "2023-12-13T16:00:43.101977Z",
     "iopub.status.idle": "2023-12-13T16:00:43.117025Z",
     "shell.execute_reply": "2023-12-13T16:00:43.115870Z",
     "shell.execute_reply.started": "2023-12-13T16:00:43.102631Z"
    }
   },
   "outputs": [
    {
     "data": {
      "text/plain": [
       "0"
      ]
     },
     "execution_count": 76,
     "metadata": {},
     "output_type": "execute_result"
    }
   ],
   "source": [
    "test[\"Age\"].isna().sum()"
   ]
  },
  {
   "cell_type": "code",
   "execution_count": 77,
   "metadata": {
    "execution": {
     "iopub.execute_input": "2023-12-13T16:00:43.119760Z",
     "iopub.status.busy": "2023-12-13T16:00:43.118908Z",
     "iopub.status.idle": "2023-12-13T16:00:43.133137Z",
     "shell.execute_reply": "2023-12-13T16:00:43.132047Z",
     "shell.execute_reply.started": "2023-12-13T16:00:43.119708Z"
    }
   },
   "outputs": [
    {
     "data": {
      "text/plain": [
       "PassengerId       0\n",
       "HomePlanet      201\n",
       "CryoSleep       217\n",
       "Cabin           199\n",
       "Destination     182\n",
       "Age               0\n",
       "VIP             203\n",
       "RoomService       0\n",
       "FoodCourt         0\n",
       "ShoppingMall      0\n",
       "Spa               0\n",
       "VRDeck            0\n",
       "Name            200\n",
       "Transported       0\n",
       "dtype: int64"
      ]
     },
     "execution_count": 77,
     "metadata": {},
     "output_type": "execute_result"
    }
   ],
   "source": [
    "test.isna().sum()"
   ]
  },
  {
   "cell_type": "code",
   "execution_count": 78,
   "metadata": {},
   "outputs": [
    {
     "data": {
      "text/plain": [
       "Earth     4602\n",
       "Europa    2131\n",
       "Mars      1759\n",
       "Name: HomePlanet, dtype: int64"
      ]
     },
     "execution_count": 78,
     "metadata": {},
     "output_type": "execute_result"
    }
   ],
   "source": [
    "test[\"HomePlanet\"].value_counts()"
   ]
  },
  {
   "cell_type": "code",
   "execution_count": 79,
   "metadata": {},
   "outputs": [
    {
     "data": {
      "text/plain": [
       "False    5439\n",
       "True     3037\n",
       "Name: CryoSleep, dtype: int64"
      ]
     },
     "execution_count": 79,
     "metadata": {},
     "output_type": "execute_result"
    }
   ],
   "source": [
    "test[\"CryoSleep\"].value_counts()"
   ]
  },
  {
   "cell_type": "code",
   "execution_count": 80,
   "metadata": {},
   "outputs": [
    {
     "data": {
      "text/plain": [
       "TRAPPIST-1e      5915\n",
       "55 Cancri e      1800\n",
       "PSO J318.5-22     796\n",
       "Name: Destination, dtype: int64"
      ]
     },
     "execution_count": 80,
     "metadata": {},
     "output_type": "execute_result"
    }
   ],
   "source": [
    "test[\"Destination\"].value_counts()"
   ]
  },
  {
   "cell_type": "code",
   "execution_count": 81,
   "metadata": {},
   "outputs": [
    {
     "data": {
      "text/plain": [
       "False    8291\n",
       "True      199\n",
       "Name: VIP, dtype: int64"
      ]
     },
     "execution_count": 81,
     "metadata": {},
     "output_type": "execute_result"
    }
   ],
   "source": [
    "test[\"VIP\"].value_counts()"
   ]
  },
  {
   "cell_type": "code",
   "execution_count": 82,
   "metadata": {},
   "outputs": [
    {
     "data": {
      "text/plain": [
       "G/734/S     8\n",
       "G/109/P     7\n",
       "B/201/P     7\n",
       "G/1368/P    7\n",
       "G/981/S     7\n",
       "           ..\n",
       "G/556/P     1\n",
       "E/231/S     1\n",
       "G/545/S     1\n",
       "G/543/S     1\n",
       "F/947/P     1\n",
       "Name: Cabin, Length: 6560, dtype: int64"
      ]
     },
     "execution_count": 82,
     "metadata": {},
     "output_type": "execute_result"
    }
   ],
   "source": [
    "test[\"Cabin\"].value_counts()"
   ]
  },
  {
   "cell_type": "code",
   "execution_count": 83,
   "metadata": {},
   "outputs": [],
   "source": [
    "test[\"HomePlanet\"]=test[\"HomePlanet\"].fillna(\"Earth\")\n",
    "test[\"CryoSleep\"]=test[\"CryoSleep\"].fillna(\"False\")\n",
    "test[\"Cabin\"]=test[\"Cabin\"].fillna(\"NA\")\n",
    "test[\"Destination\"]=test[\"Destination\"].fillna(\"TRAPPIST-1e\")\n",
    "test[\"VIP\"]=test[\"VIP\"].fillna(\"False\")"
   ]
  },
  {
   "cell_type": "code",
   "execution_count": 84,
   "metadata": {},
   "outputs": [
    {
     "data": {
      "text/plain": [
       "PassengerId       0\n",
       "HomePlanet        0\n",
       "CryoSleep         0\n",
       "Cabin             0\n",
       "Destination       0\n",
       "Age               0\n",
       "VIP               0\n",
       "RoomService       0\n",
       "FoodCourt         0\n",
       "ShoppingMall      0\n",
       "Spa               0\n",
       "VRDeck            0\n",
       "Name            200\n",
       "Transported       0\n",
       "dtype: int64"
      ]
     },
     "execution_count": 84,
     "metadata": {},
     "output_type": "execute_result"
    }
   ],
   "source": [
    "test.isna().sum()"
   ]
  },
  {
   "cell_type": "code",
   "execution_count": 85,
   "metadata": {},
   "outputs": [],
   "source": [
    "test[\"Name\"]=test[\"Name\"].fillna(\"NA\")"
   ]
  },
  {
   "cell_type": "code",
   "execution_count": 86,
   "metadata": {},
   "outputs": [
    {
     "data": {
      "text/plain": [
       "PassengerId     0\n",
       "HomePlanet      0\n",
       "CryoSleep       0\n",
       "Cabin           0\n",
       "Destination     0\n",
       "Age             0\n",
       "VIP             0\n",
       "RoomService     0\n",
       "FoodCourt       0\n",
       "ShoppingMall    0\n",
       "Spa             0\n",
       "VRDeck          0\n",
       "Name            0\n",
       "Transported     0\n",
       "dtype: int64"
      ]
     },
     "execution_count": 86,
     "metadata": {},
     "output_type": "execute_result"
    }
   ],
   "source": [
    "test.isna().sum()"
   ]
  },
  {
   "cell_type": "code",
   "execution_count": 88,
   "metadata": {
    "execution": {
     "iopub.execute_input": "2023-12-13T16:00:43.138049Z",
     "iopub.status.busy": "2023-12-13T16:00:43.137429Z",
     "iopub.status.idle": "2023-12-13T16:00:43.166660Z",
     "shell.execute_reply": "2023-12-13T16:00:43.165826Z",
     "shell.execute_reply.started": "2023-12-13T16:00:43.138011Z"
    }
   },
   "outputs": [
    {
     "data": {
      "text/html": [
       "<div>\n",
       "<style scoped>\n",
       "    .dataframe tbody tr th:only-of-type {\n",
       "        vertical-align: middle;\n",
       "    }\n",
       "\n",
       "    .dataframe tbody tr th {\n",
       "        vertical-align: top;\n",
       "    }\n",
       "\n",
       "    .dataframe thead th {\n",
       "        text-align: right;\n",
       "    }\n",
       "</style>\n",
       "<table border=\"1\" class=\"dataframe\">\n",
       "  <thead>\n",
       "    <tr style=\"text-align: right;\">\n",
       "      <th></th>\n",
       "      <th>PassengerId</th>\n",
       "      <th>HomePlanet</th>\n",
       "      <th>CryoSleep</th>\n",
       "      <th>Cabin</th>\n",
       "      <th>Destination</th>\n",
       "      <th>Age</th>\n",
       "      <th>VIP</th>\n",
       "      <th>RoomService</th>\n",
       "      <th>FoodCourt</th>\n",
       "      <th>ShoppingMall</th>\n",
       "      <th>Spa</th>\n",
       "      <th>VRDeck</th>\n",
       "      <th>Name</th>\n",
       "      <th>Transported</th>\n",
       "    </tr>\n",
       "  </thead>\n",
       "  <tbody>\n",
       "    <tr>\n",
       "      <th>0</th>\n",
       "      <td>0001_01</td>\n",
       "      <td>Europa</td>\n",
       "      <td>False</td>\n",
       "      <td>B/0/P</td>\n",
       "      <td>TRAPPIST-1e</td>\n",
       "      <td>39.0</td>\n",
       "      <td>False</td>\n",
       "      <td>0.0</td>\n",
       "      <td>0.0</td>\n",
       "      <td>0.0</td>\n",
       "      <td>0.0</td>\n",
       "      <td>0.0</td>\n",
       "      <td>Maham Ofracculy</td>\n",
       "      <td>False</td>\n",
       "    </tr>\n",
       "    <tr>\n",
       "      <th>1</th>\n",
       "      <td>0002_01</td>\n",
       "      <td>Earth</td>\n",
       "      <td>False</td>\n",
       "      <td>F/0/S</td>\n",
       "      <td>TRAPPIST-1e</td>\n",
       "      <td>24.0</td>\n",
       "      <td>False</td>\n",
       "      <td>109.0</td>\n",
       "      <td>9.0</td>\n",
       "      <td>25.0</td>\n",
       "      <td>549.0</td>\n",
       "      <td>44.0</td>\n",
       "      <td>Juanna Vines</td>\n",
       "      <td>True</td>\n",
       "    </tr>\n",
       "    <tr>\n",
       "      <th>2</th>\n",
       "      <td>0003_01</td>\n",
       "      <td>Europa</td>\n",
       "      <td>False</td>\n",
       "      <td>A/0/S</td>\n",
       "      <td>TRAPPIST-1e</td>\n",
       "      <td>58.0</td>\n",
       "      <td>True</td>\n",
       "      <td>43.0</td>\n",
       "      <td>3576.0</td>\n",
       "      <td>0.0</td>\n",
       "      <td>6715.0</td>\n",
       "      <td>49.0</td>\n",
       "      <td>Altark Susent</td>\n",
       "      <td>False</td>\n",
       "    </tr>\n",
       "    <tr>\n",
       "      <th>3</th>\n",
       "      <td>0003_02</td>\n",
       "      <td>Europa</td>\n",
       "      <td>False</td>\n",
       "      <td>A/0/S</td>\n",
       "      <td>TRAPPIST-1e</td>\n",
       "      <td>33.0</td>\n",
       "      <td>False</td>\n",
       "      <td>0.0</td>\n",
       "      <td>1283.0</td>\n",
       "      <td>371.0</td>\n",
       "      <td>3329.0</td>\n",
       "      <td>193.0</td>\n",
       "      <td>Solam Susent</td>\n",
       "      <td>False</td>\n",
       "    </tr>\n",
       "    <tr>\n",
       "      <th>4</th>\n",
       "      <td>0004_01</td>\n",
       "      <td>Earth</td>\n",
       "      <td>False</td>\n",
       "      <td>F/1/S</td>\n",
       "      <td>TRAPPIST-1e</td>\n",
       "      <td>16.0</td>\n",
       "      <td>False</td>\n",
       "      <td>303.0</td>\n",
       "      <td>70.0</td>\n",
       "      <td>151.0</td>\n",
       "      <td>565.0</td>\n",
       "      <td>2.0</td>\n",
       "      <td>Willy Santantines</td>\n",
       "      <td>True</td>\n",
       "    </tr>\n",
       "    <tr>\n",
       "      <th>...</th>\n",
       "      <td>...</td>\n",
       "      <td>...</td>\n",
       "      <td>...</td>\n",
       "      <td>...</td>\n",
       "      <td>...</td>\n",
       "      <td>...</td>\n",
       "      <td>...</td>\n",
       "      <td>...</td>\n",
       "      <td>...</td>\n",
       "      <td>...</td>\n",
       "      <td>...</td>\n",
       "      <td>...</td>\n",
       "      <td>...</td>\n",
       "      <td>...</td>\n",
       "    </tr>\n",
       "    <tr>\n",
       "      <th>8688</th>\n",
       "      <td>9276_01</td>\n",
       "      <td>Europa</td>\n",
       "      <td>False</td>\n",
       "      <td>A/98/P</td>\n",
       "      <td>55 Cancri e</td>\n",
       "      <td>41.0</td>\n",
       "      <td>True</td>\n",
       "      <td>0.0</td>\n",
       "      <td>6819.0</td>\n",
       "      <td>0.0</td>\n",
       "      <td>1643.0</td>\n",
       "      <td>74.0</td>\n",
       "      <td>Gravior Noxnuther</td>\n",
       "      <td>False</td>\n",
       "    </tr>\n",
       "    <tr>\n",
       "      <th>8689</th>\n",
       "      <td>9278_01</td>\n",
       "      <td>Earth</td>\n",
       "      <td>True</td>\n",
       "      <td>G/1499/S</td>\n",
       "      <td>PSO J318.5-22</td>\n",
       "      <td>18.0</td>\n",
       "      <td>False</td>\n",
       "      <td>0.0</td>\n",
       "      <td>0.0</td>\n",
       "      <td>0.0</td>\n",
       "      <td>0.0</td>\n",
       "      <td>0.0</td>\n",
       "      <td>Kurta Mondalley</td>\n",
       "      <td>False</td>\n",
       "    </tr>\n",
       "    <tr>\n",
       "      <th>8690</th>\n",
       "      <td>9279_01</td>\n",
       "      <td>Earth</td>\n",
       "      <td>False</td>\n",
       "      <td>G/1500/S</td>\n",
       "      <td>TRAPPIST-1e</td>\n",
       "      <td>26.0</td>\n",
       "      <td>False</td>\n",
       "      <td>0.0</td>\n",
       "      <td>0.0</td>\n",
       "      <td>1872.0</td>\n",
       "      <td>1.0</td>\n",
       "      <td>0.0</td>\n",
       "      <td>Fayey Connon</td>\n",
       "      <td>True</td>\n",
       "    </tr>\n",
       "    <tr>\n",
       "      <th>8691</th>\n",
       "      <td>9280_01</td>\n",
       "      <td>Europa</td>\n",
       "      <td>False</td>\n",
       "      <td>E/608/S</td>\n",
       "      <td>55 Cancri e</td>\n",
       "      <td>32.0</td>\n",
       "      <td>False</td>\n",
       "      <td>0.0</td>\n",
       "      <td>1049.0</td>\n",
       "      <td>0.0</td>\n",
       "      <td>353.0</td>\n",
       "      <td>3235.0</td>\n",
       "      <td>Celeon Hontichre</td>\n",
       "      <td>False</td>\n",
       "    </tr>\n",
       "    <tr>\n",
       "      <th>8692</th>\n",
       "      <td>9280_02</td>\n",
       "      <td>Europa</td>\n",
       "      <td>False</td>\n",
       "      <td>E/608/S</td>\n",
       "      <td>TRAPPIST-1e</td>\n",
       "      <td>44.0</td>\n",
       "      <td>False</td>\n",
       "      <td>126.0</td>\n",
       "      <td>4688.0</td>\n",
       "      <td>0.0</td>\n",
       "      <td>0.0</td>\n",
       "      <td>12.0</td>\n",
       "      <td>Propsh Hontichre</td>\n",
       "      <td>True</td>\n",
       "    </tr>\n",
       "  </tbody>\n",
       "</table>\n",
       "<p>8693 rows × 14 columns</p>\n",
       "</div>"
      ],
      "text/plain": [
       "     PassengerId HomePlanet CryoSleep     Cabin    Destination   Age    VIP  \\\n",
       "0        0001_01     Europa     False     B/0/P    TRAPPIST-1e  39.0  False   \n",
       "1        0002_01      Earth     False     F/0/S    TRAPPIST-1e  24.0  False   \n",
       "2        0003_01     Europa     False     A/0/S    TRAPPIST-1e  58.0   True   \n",
       "3        0003_02     Europa     False     A/0/S    TRAPPIST-1e  33.0  False   \n",
       "4        0004_01      Earth     False     F/1/S    TRAPPIST-1e  16.0  False   \n",
       "...          ...        ...       ...       ...            ...   ...    ...   \n",
       "8688     9276_01     Europa     False    A/98/P    55 Cancri e  41.0   True   \n",
       "8689     9278_01      Earth      True  G/1499/S  PSO J318.5-22  18.0  False   \n",
       "8690     9279_01      Earth     False  G/1500/S    TRAPPIST-1e  26.0  False   \n",
       "8691     9280_01     Europa     False   E/608/S    55 Cancri e  32.0  False   \n",
       "8692     9280_02     Europa     False   E/608/S    TRAPPIST-1e  44.0  False   \n",
       "\n",
       "      RoomService  FoodCourt  ShoppingMall     Spa  VRDeck               Name  \\\n",
       "0             0.0        0.0           0.0     0.0     0.0    Maham Ofracculy   \n",
       "1           109.0        9.0          25.0   549.0    44.0       Juanna Vines   \n",
       "2            43.0     3576.0           0.0  6715.0    49.0      Altark Susent   \n",
       "3             0.0     1283.0         371.0  3329.0   193.0       Solam Susent   \n",
       "4           303.0       70.0         151.0   565.0     2.0  Willy Santantines   \n",
       "...           ...        ...           ...     ...     ...                ...   \n",
       "8688          0.0     6819.0           0.0  1643.0    74.0  Gravior Noxnuther   \n",
       "8689          0.0        0.0           0.0     0.0     0.0    Kurta Mondalley   \n",
       "8690          0.0        0.0        1872.0     1.0     0.0       Fayey Connon   \n",
       "8691          0.0     1049.0           0.0   353.0  3235.0   Celeon Hontichre   \n",
       "8692        126.0     4688.0           0.0     0.0    12.0   Propsh Hontichre   \n",
       "\n",
       "      Transported  \n",
       "0           False  \n",
       "1            True  \n",
       "2           False  \n",
       "3           False  \n",
       "4            True  \n",
       "...           ...  \n",
       "8688        False  \n",
       "8689        False  \n",
       "8690         True  \n",
       "8691        False  \n",
       "8692         True  \n",
       "\n",
       "[8693 rows x 14 columns]"
      ]
     },
     "execution_count": 88,
     "metadata": {},
     "output_type": "execute_result"
    }
   ],
   "source": [
    "test"
   ]
  },
  {
   "cell_type": "code",
   "execution_count": 89,
   "metadata": {},
   "outputs": [
    {
     "name": "stdout",
     "output_type": "stream",
     "text": [
      "<class 'pandas.core.frame.DataFrame'>\n",
      "RangeIndex: 8693 entries, 0 to 8692\n",
      "Data columns (total 14 columns):\n",
      " #   Column        Non-Null Count  Dtype  \n",
      "---  ------        --------------  -----  \n",
      " 0   PassengerId   8693 non-null   object \n",
      " 1   HomePlanet    8693 non-null   object \n",
      " 2   CryoSleep     8693 non-null   object \n",
      " 3   Cabin         8693 non-null   object \n",
      " 4   Destination   8693 non-null   object \n",
      " 5   Age           8693 non-null   float64\n",
      " 6   VIP           8693 non-null   object \n",
      " 7   RoomService   8693 non-null   float64\n",
      " 8   FoodCourt     8693 non-null   float64\n",
      " 9   ShoppingMall  8693 non-null   float64\n",
      " 10  Spa           8693 non-null   float64\n",
      " 11  VRDeck        8693 non-null   float64\n",
      " 12  Name          8693 non-null   object \n",
      " 13  Transported   8693 non-null   bool   \n",
      "dtypes: bool(1), float64(6), object(7)\n",
      "memory usage: 891.5+ KB\n"
     ]
    }
   ],
   "source": [
    "test.info()"
   ]
  },
  {
   "cell_type": "code",
   "execution_count": 116,
   "metadata": {},
   "outputs": [],
   "source": [
    "data=test.copy()"
   ]
  },
  {
   "cell_type": "code",
   "execution_count": 117,
   "metadata": {},
   "outputs": [
    {
     "data": {
      "text/html": [
       "<div>\n",
       "<style scoped>\n",
       "    .dataframe tbody tr th:only-of-type {\n",
       "        vertical-align: middle;\n",
       "    }\n",
       "\n",
       "    .dataframe tbody tr th {\n",
       "        vertical-align: top;\n",
       "    }\n",
       "\n",
       "    .dataframe thead th {\n",
       "        text-align: right;\n",
       "    }\n",
       "</style>\n",
       "<table border=\"1\" class=\"dataframe\">\n",
       "  <thead>\n",
       "    <tr style=\"text-align: right;\">\n",
       "      <th></th>\n",
       "      <th>PassengerId</th>\n",
       "      <th>HomePlanet</th>\n",
       "      <th>CryoSleep</th>\n",
       "      <th>Cabin</th>\n",
       "      <th>Destination</th>\n",
       "      <th>Age</th>\n",
       "      <th>VIP</th>\n",
       "      <th>RoomService</th>\n",
       "      <th>FoodCourt</th>\n",
       "      <th>ShoppingMall</th>\n",
       "      <th>Spa</th>\n",
       "      <th>VRDeck</th>\n",
       "      <th>Name</th>\n",
       "      <th>Transported</th>\n",
       "    </tr>\n",
       "  </thead>\n",
       "  <tbody>\n",
       "    <tr>\n",
       "      <th>0</th>\n",
       "      <td>0001_01</td>\n",
       "      <td>Europa</td>\n",
       "      <td>False</td>\n",
       "      <td>B/0/P</td>\n",
       "      <td>TRAPPIST-1e</td>\n",
       "      <td>39.0</td>\n",
       "      <td>False</td>\n",
       "      <td>0.0</td>\n",
       "      <td>0.0</td>\n",
       "      <td>0.0</td>\n",
       "      <td>0.0</td>\n",
       "      <td>0.0</td>\n",
       "      <td>Maham Ofracculy</td>\n",
       "      <td>False</td>\n",
       "    </tr>\n",
       "    <tr>\n",
       "      <th>1</th>\n",
       "      <td>0002_01</td>\n",
       "      <td>Earth</td>\n",
       "      <td>False</td>\n",
       "      <td>F/0/S</td>\n",
       "      <td>TRAPPIST-1e</td>\n",
       "      <td>24.0</td>\n",
       "      <td>False</td>\n",
       "      <td>109.0</td>\n",
       "      <td>9.0</td>\n",
       "      <td>25.0</td>\n",
       "      <td>549.0</td>\n",
       "      <td>44.0</td>\n",
       "      <td>Juanna Vines</td>\n",
       "      <td>True</td>\n",
       "    </tr>\n",
       "    <tr>\n",
       "      <th>2</th>\n",
       "      <td>0003_01</td>\n",
       "      <td>Europa</td>\n",
       "      <td>False</td>\n",
       "      <td>A/0/S</td>\n",
       "      <td>TRAPPIST-1e</td>\n",
       "      <td>58.0</td>\n",
       "      <td>True</td>\n",
       "      <td>43.0</td>\n",
       "      <td>3576.0</td>\n",
       "      <td>0.0</td>\n",
       "      <td>6715.0</td>\n",
       "      <td>49.0</td>\n",
       "      <td>Altark Susent</td>\n",
       "      <td>False</td>\n",
       "    </tr>\n",
       "    <tr>\n",
       "      <th>3</th>\n",
       "      <td>0003_02</td>\n",
       "      <td>Europa</td>\n",
       "      <td>False</td>\n",
       "      <td>A/0/S</td>\n",
       "      <td>TRAPPIST-1e</td>\n",
       "      <td>33.0</td>\n",
       "      <td>False</td>\n",
       "      <td>0.0</td>\n",
       "      <td>1283.0</td>\n",
       "      <td>371.0</td>\n",
       "      <td>3329.0</td>\n",
       "      <td>193.0</td>\n",
       "      <td>Solam Susent</td>\n",
       "      <td>False</td>\n",
       "    </tr>\n",
       "    <tr>\n",
       "      <th>4</th>\n",
       "      <td>0004_01</td>\n",
       "      <td>Earth</td>\n",
       "      <td>False</td>\n",
       "      <td>F/1/S</td>\n",
       "      <td>TRAPPIST-1e</td>\n",
       "      <td>16.0</td>\n",
       "      <td>False</td>\n",
       "      <td>303.0</td>\n",
       "      <td>70.0</td>\n",
       "      <td>151.0</td>\n",
       "      <td>565.0</td>\n",
       "      <td>2.0</td>\n",
       "      <td>Willy Santantines</td>\n",
       "      <td>True</td>\n",
       "    </tr>\n",
       "    <tr>\n",
       "      <th>...</th>\n",
       "      <td>...</td>\n",
       "      <td>...</td>\n",
       "      <td>...</td>\n",
       "      <td>...</td>\n",
       "      <td>...</td>\n",
       "      <td>...</td>\n",
       "      <td>...</td>\n",
       "      <td>...</td>\n",
       "      <td>...</td>\n",
       "      <td>...</td>\n",
       "      <td>...</td>\n",
       "      <td>...</td>\n",
       "      <td>...</td>\n",
       "      <td>...</td>\n",
       "    </tr>\n",
       "    <tr>\n",
       "      <th>8688</th>\n",
       "      <td>9276_01</td>\n",
       "      <td>Europa</td>\n",
       "      <td>False</td>\n",
       "      <td>A/98/P</td>\n",
       "      <td>55 Cancri e</td>\n",
       "      <td>41.0</td>\n",
       "      <td>True</td>\n",
       "      <td>0.0</td>\n",
       "      <td>6819.0</td>\n",
       "      <td>0.0</td>\n",
       "      <td>1643.0</td>\n",
       "      <td>74.0</td>\n",
       "      <td>Gravior Noxnuther</td>\n",
       "      <td>False</td>\n",
       "    </tr>\n",
       "    <tr>\n",
       "      <th>8689</th>\n",
       "      <td>9278_01</td>\n",
       "      <td>Earth</td>\n",
       "      <td>True</td>\n",
       "      <td>G/1499/S</td>\n",
       "      <td>PSO J318.5-22</td>\n",
       "      <td>18.0</td>\n",
       "      <td>False</td>\n",
       "      <td>0.0</td>\n",
       "      <td>0.0</td>\n",
       "      <td>0.0</td>\n",
       "      <td>0.0</td>\n",
       "      <td>0.0</td>\n",
       "      <td>Kurta Mondalley</td>\n",
       "      <td>False</td>\n",
       "    </tr>\n",
       "    <tr>\n",
       "      <th>8690</th>\n",
       "      <td>9279_01</td>\n",
       "      <td>Earth</td>\n",
       "      <td>False</td>\n",
       "      <td>G/1500/S</td>\n",
       "      <td>TRAPPIST-1e</td>\n",
       "      <td>26.0</td>\n",
       "      <td>False</td>\n",
       "      <td>0.0</td>\n",
       "      <td>0.0</td>\n",
       "      <td>1872.0</td>\n",
       "      <td>1.0</td>\n",
       "      <td>0.0</td>\n",
       "      <td>Fayey Connon</td>\n",
       "      <td>True</td>\n",
       "    </tr>\n",
       "    <tr>\n",
       "      <th>8691</th>\n",
       "      <td>9280_01</td>\n",
       "      <td>Europa</td>\n",
       "      <td>False</td>\n",
       "      <td>E/608/S</td>\n",
       "      <td>55 Cancri e</td>\n",
       "      <td>32.0</td>\n",
       "      <td>False</td>\n",
       "      <td>0.0</td>\n",
       "      <td>1049.0</td>\n",
       "      <td>0.0</td>\n",
       "      <td>353.0</td>\n",
       "      <td>3235.0</td>\n",
       "      <td>Celeon Hontichre</td>\n",
       "      <td>False</td>\n",
       "    </tr>\n",
       "    <tr>\n",
       "      <th>8692</th>\n",
       "      <td>9280_02</td>\n",
       "      <td>Europa</td>\n",
       "      <td>False</td>\n",
       "      <td>E/608/S</td>\n",
       "      <td>TRAPPIST-1e</td>\n",
       "      <td>44.0</td>\n",
       "      <td>False</td>\n",
       "      <td>126.0</td>\n",
       "      <td>4688.0</td>\n",
       "      <td>0.0</td>\n",
       "      <td>0.0</td>\n",
       "      <td>12.0</td>\n",
       "      <td>Propsh Hontichre</td>\n",
       "      <td>True</td>\n",
       "    </tr>\n",
       "  </tbody>\n",
       "</table>\n",
       "<p>8693 rows × 14 columns</p>\n",
       "</div>"
      ],
      "text/plain": [
       "     PassengerId HomePlanet CryoSleep     Cabin    Destination   Age    VIP  \\\n",
       "0        0001_01     Europa     False     B/0/P    TRAPPIST-1e  39.0  False   \n",
       "1        0002_01      Earth     False     F/0/S    TRAPPIST-1e  24.0  False   \n",
       "2        0003_01     Europa     False     A/0/S    TRAPPIST-1e  58.0   True   \n",
       "3        0003_02     Europa     False     A/0/S    TRAPPIST-1e  33.0  False   \n",
       "4        0004_01      Earth     False     F/1/S    TRAPPIST-1e  16.0  False   \n",
       "...          ...        ...       ...       ...            ...   ...    ...   \n",
       "8688     9276_01     Europa     False    A/98/P    55 Cancri e  41.0   True   \n",
       "8689     9278_01      Earth      True  G/1499/S  PSO J318.5-22  18.0  False   \n",
       "8690     9279_01      Earth     False  G/1500/S    TRAPPIST-1e  26.0  False   \n",
       "8691     9280_01     Europa     False   E/608/S    55 Cancri e  32.0  False   \n",
       "8692     9280_02     Europa     False   E/608/S    TRAPPIST-1e  44.0  False   \n",
       "\n",
       "      RoomService  FoodCourt  ShoppingMall     Spa  VRDeck               Name  \\\n",
       "0             0.0        0.0           0.0     0.0     0.0    Maham Ofracculy   \n",
       "1           109.0        9.0          25.0   549.0    44.0       Juanna Vines   \n",
       "2            43.0     3576.0           0.0  6715.0    49.0      Altark Susent   \n",
       "3             0.0     1283.0         371.0  3329.0   193.0       Solam Susent   \n",
       "4           303.0       70.0         151.0   565.0     2.0  Willy Santantines   \n",
       "...           ...        ...           ...     ...     ...                ...   \n",
       "8688          0.0     6819.0           0.0  1643.0    74.0  Gravior Noxnuther   \n",
       "8689          0.0        0.0           0.0     0.0     0.0    Kurta Mondalley   \n",
       "8690          0.0        0.0        1872.0     1.0     0.0       Fayey Connon   \n",
       "8691          0.0     1049.0           0.0   353.0  3235.0   Celeon Hontichre   \n",
       "8692        126.0     4688.0           0.0     0.0    12.0   Propsh Hontichre   \n",
       "\n",
       "      Transported  \n",
       "0           False  \n",
       "1            True  \n",
       "2           False  \n",
       "3           False  \n",
       "4            True  \n",
       "...           ...  \n",
       "8688        False  \n",
       "8689        False  \n",
       "8690         True  \n",
       "8691        False  \n",
       "8692         True  \n",
       "\n",
       "[8693 rows x 14 columns]"
      ]
     },
     "execution_count": 117,
     "metadata": {},
     "output_type": "execute_result"
    }
   ],
   "source": [
    "data"
   ]
  },
  {
   "cell_type": "code",
   "execution_count": 118,
   "metadata": {
    "execution": {
     "iopub.execute_input": "2023-12-13T16:00:43.255879Z",
     "iopub.status.busy": "2023-12-13T16:00:43.255204Z",
     "iopub.status.idle": "2023-12-13T16:00:43.268960Z",
     "shell.execute_reply": "2023-12-13T16:00:43.267867Z",
     "shell.execute_reply.started": "2023-12-13T16:00:43.255843Z"
    }
   },
   "outputs": [
    {
     "data": {
      "text/plain": [
       "PassengerId     0\n",
       "HomePlanet      0\n",
       "CryoSleep       0\n",
       "Cabin           0\n",
       "Destination     0\n",
       "Age             0\n",
       "VIP             0\n",
       "RoomService     0\n",
       "FoodCourt       0\n",
       "ShoppingMall    0\n",
       "Spa             0\n",
       "VRDeck          0\n",
       "Name            0\n",
       "Transported     0\n",
       "dtype: int64"
      ]
     },
     "execution_count": 118,
     "metadata": {},
     "output_type": "execute_result"
    }
   ],
   "source": [
    "data.isna().sum()"
   ]
  },
  {
   "cell_type": "code",
   "execution_count": 119,
   "metadata": {
    "execution": {
     "iopub.execute_input": "2023-12-13T16:00:43.286966Z",
     "iopub.status.busy": "2023-12-13T16:00:43.286474Z",
     "iopub.status.idle": "2023-12-13T16:00:43.298155Z",
     "shell.execute_reply": "2023-12-13T16:00:43.296862Z",
     "shell.execute_reply.started": "2023-12-13T16:00:43.286887Z"
    }
   },
   "outputs": [],
   "source": [
    "data=data.drop([\"PassengerId\",\"Name\",\"Cabin\"],axis=1)"
   ]
  },
  {
   "cell_type": "code",
   "execution_count": 120,
   "metadata": {
    "execution": {
     "iopub.execute_input": "2023-12-13T16:00:43.300313Z",
     "iopub.status.busy": "2023-12-13T16:00:43.299850Z",
     "iopub.status.idle": "2023-12-13T16:00:43.339022Z",
     "shell.execute_reply": "2023-12-13T16:00:43.336761Z",
     "shell.execute_reply.started": "2023-12-13T16:00:43.300266Z"
    }
   },
   "outputs": [
    {
     "data": {
      "text/html": [
       "<div>\n",
       "<style scoped>\n",
       "    .dataframe tbody tr th:only-of-type {\n",
       "        vertical-align: middle;\n",
       "    }\n",
       "\n",
       "    .dataframe tbody tr th {\n",
       "        vertical-align: top;\n",
       "    }\n",
       "\n",
       "    .dataframe thead th {\n",
       "        text-align: right;\n",
       "    }\n",
       "</style>\n",
       "<table border=\"1\" class=\"dataframe\">\n",
       "  <thead>\n",
       "    <tr style=\"text-align: right;\">\n",
       "      <th></th>\n",
       "      <th>HomePlanet</th>\n",
       "      <th>CryoSleep</th>\n",
       "      <th>Destination</th>\n",
       "      <th>Age</th>\n",
       "      <th>VIP</th>\n",
       "      <th>RoomService</th>\n",
       "      <th>FoodCourt</th>\n",
       "      <th>ShoppingMall</th>\n",
       "      <th>Spa</th>\n",
       "      <th>VRDeck</th>\n",
       "      <th>Transported</th>\n",
       "    </tr>\n",
       "  </thead>\n",
       "  <tbody>\n",
       "    <tr>\n",
       "      <th>0</th>\n",
       "      <td>Europa</td>\n",
       "      <td>False</td>\n",
       "      <td>TRAPPIST-1e</td>\n",
       "      <td>39.0</td>\n",
       "      <td>False</td>\n",
       "      <td>0.0</td>\n",
       "      <td>0.0</td>\n",
       "      <td>0.0</td>\n",
       "      <td>0.0</td>\n",
       "      <td>0.0</td>\n",
       "      <td>False</td>\n",
       "    </tr>\n",
       "    <tr>\n",
       "      <th>1</th>\n",
       "      <td>Earth</td>\n",
       "      <td>False</td>\n",
       "      <td>TRAPPIST-1e</td>\n",
       "      <td>24.0</td>\n",
       "      <td>False</td>\n",
       "      <td>109.0</td>\n",
       "      <td>9.0</td>\n",
       "      <td>25.0</td>\n",
       "      <td>549.0</td>\n",
       "      <td>44.0</td>\n",
       "      <td>True</td>\n",
       "    </tr>\n",
       "    <tr>\n",
       "      <th>2</th>\n",
       "      <td>Europa</td>\n",
       "      <td>False</td>\n",
       "      <td>TRAPPIST-1e</td>\n",
       "      <td>58.0</td>\n",
       "      <td>True</td>\n",
       "      <td>43.0</td>\n",
       "      <td>3576.0</td>\n",
       "      <td>0.0</td>\n",
       "      <td>6715.0</td>\n",
       "      <td>49.0</td>\n",
       "      <td>False</td>\n",
       "    </tr>\n",
       "    <tr>\n",
       "      <th>3</th>\n",
       "      <td>Europa</td>\n",
       "      <td>False</td>\n",
       "      <td>TRAPPIST-1e</td>\n",
       "      <td>33.0</td>\n",
       "      <td>False</td>\n",
       "      <td>0.0</td>\n",
       "      <td>1283.0</td>\n",
       "      <td>371.0</td>\n",
       "      <td>3329.0</td>\n",
       "      <td>193.0</td>\n",
       "      <td>False</td>\n",
       "    </tr>\n",
       "    <tr>\n",
       "      <th>4</th>\n",
       "      <td>Earth</td>\n",
       "      <td>False</td>\n",
       "      <td>TRAPPIST-1e</td>\n",
       "      <td>16.0</td>\n",
       "      <td>False</td>\n",
       "      <td>303.0</td>\n",
       "      <td>70.0</td>\n",
       "      <td>151.0</td>\n",
       "      <td>565.0</td>\n",
       "      <td>2.0</td>\n",
       "      <td>True</td>\n",
       "    </tr>\n",
       "    <tr>\n",
       "      <th>...</th>\n",
       "      <td>...</td>\n",
       "      <td>...</td>\n",
       "      <td>...</td>\n",
       "      <td>...</td>\n",
       "      <td>...</td>\n",
       "      <td>...</td>\n",
       "      <td>...</td>\n",
       "      <td>...</td>\n",
       "      <td>...</td>\n",
       "      <td>...</td>\n",
       "      <td>...</td>\n",
       "    </tr>\n",
       "    <tr>\n",
       "      <th>8688</th>\n",
       "      <td>Europa</td>\n",
       "      <td>False</td>\n",
       "      <td>55 Cancri e</td>\n",
       "      <td>41.0</td>\n",
       "      <td>True</td>\n",
       "      <td>0.0</td>\n",
       "      <td>6819.0</td>\n",
       "      <td>0.0</td>\n",
       "      <td>1643.0</td>\n",
       "      <td>74.0</td>\n",
       "      <td>False</td>\n",
       "    </tr>\n",
       "    <tr>\n",
       "      <th>8689</th>\n",
       "      <td>Earth</td>\n",
       "      <td>True</td>\n",
       "      <td>PSO J318.5-22</td>\n",
       "      <td>18.0</td>\n",
       "      <td>False</td>\n",
       "      <td>0.0</td>\n",
       "      <td>0.0</td>\n",
       "      <td>0.0</td>\n",
       "      <td>0.0</td>\n",
       "      <td>0.0</td>\n",
       "      <td>False</td>\n",
       "    </tr>\n",
       "    <tr>\n",
       "      <th>8690</th>\n",
       "      <td>Earth</td>\n",
       "      <td>False</td>\n",
       "      <td>TRAPPIST-1e</td>\n",
       "      <td>26.0</td>\n",
       "      <td>False</td>\n",
       "      <td>0.0</td>\n",
       "      <td>0.0</td>\n",
       "      <td>1872.0</td>\n",
       "      <td>1.0</td>\n",
       "      <td>0.0</td>\n",
       "      <td>True</td>\n",
       "    </tr>\n",
       "    <tr>\n",
       "      <th>8691</th>\n",
       "      <td>Europa</td>\n",
       "      <td>False</td>\n",
       "      <td>55 Cancri e</td>\n",
       "      <td>32.0</td>\n",
       "      <td>False</td>\n",
       "      <td>0.0</td>\n",
       "      <td>1049.0</td>\n",
       "      <td>0.0</td>\n",
       "      <td>353.0</td>\n",
       "      <td>3235.0</td>\n",
       "      <td>False</td>\n",
       "    </tr>\n",
       "    <tr>\n",
       "      <th>8692</th>\n",
       "      <td>Europa</td>\n",
       "      <td>False</td>\n",
       "      <td>TRAPPIST-1e</td>\n",
       "      <td>44.0</td>\n",
       "      <td>False</td>\n",
       "      <td>126.0</td>\n",
       "      <td>4688.0</td>\n",
       "      <td>0.0</td>\n",
       "      <td>0.0</td>\n",
       "      <td>12.0</td>\n",
       "      <td>True</td>\n",
       "    </tr>\n",
       "  </tbody>\n",
       "</table>\n",
       "<p>8693 rows × 11 columns</p>\n",
       "</div>"
      ],
      "text/plain": [
       "     HomePlanet CryoSleep    Destination   Age    VIP  RoomService  FoodCourt  \\\n",
       "0        Europa     False    TRAPPIST-1e  39.0  False          0.0        0.0   \n",
       "1         Earth     False    TRAPPIST-1e  24.0  False        109.0        9.0   \n",
       "2        Europa     False    TRAPPIST-1e  58.0   True         43.0     3576.0   \n",
       "3        Europa     False    TRAPPIST-1e  33.0  False          0.0     1283.0   \n",
       "4         Earth     False    TRAPPIST-1e  16.0  False        303.0       70.0   \n",
       "...         ...       ...            ...   ...    ...          ...        ...   \n",
       "8688     Europa     False    55 Cancri e  41.0   True          0.0     6819.0   \n",
       "8689      Earth      True  PSO J318.5-22  18.0  False          0.0        0.0   \n",
       "8690      Earth     False    TRAPPIST-1e  26.0  False          0.0        0.0   \n",
       "8691     Europa     False    55 Cancri e  32.0  False          0.0     1049.0   \n",
       "8692     Europa     False    TRAPPIST-1e  44.0  False        126.0     4688.0   \n",
       "\n",
       "      ShoppingMall     Spa  VRDeck  Transported  \n",
       "0              0.0     0.0     0.0        False  \n",
       "1             25.0   549.0    44.0         True  \n",
       "2              0.0  6715.0    49.0        False  \n",
       "3            371.0  3329.0   193.0        False  \n",
       "4            151.0   565.0     2.0         True  \n",
       "...            ...     ...     ...          ...  \n",
       "8688           0.0  1643.0    74.0        False  \n",
       "8689           0.0     0.0     0.0        False  \n",
       "8690        1872.0     1.0     0.0         True  \n",
       "8691           0.0   353.0  3235.0        False  \n",
       "8692           0.0     0.0    12.0         True  \n",
       "\n",
       "[8693 rows x 11 columns]"
      ]
     },
     "execution_count": 120,
     "metadata": {},
     "output_type": "execute_result"
    }
   ],
   "source": [
    "data"
   ]
  },
  {
   "cell_type": "code",
   "execution_count": 121,
   "metadata": {
    "execution": {
     "iopub.execute_input": "2023-12-13T16:00:43.345078Z",
     "iopub.status.busy": "2023-12-13T16:00:43.340488Z",
     "iopub.status.idle": "2023-12-13T16:00:43.367703Z",
     "shell.execute_reply": "2023-12-13T16:00:43.366983Z",
     "shell.execute_reply.started": "2023-12-13T16:00:43.345031Z"
    }
   },
   "outputs": [
    {
     "name": "stdout",
     "output_type": "stream",
     "text": [
      "<class 'pandas.core.frame.DataFrame'>\n",
      "RangeIndex: 8693 entries, 0 to 8692\n",
      "Data columns (total 11 columns):\n",
      " #   Column        Non-Null Count  Dtype  \n",
      "---  ------        --------------  -----  \n",
      " 0   HomePlanet    8693 non-null   object \n",
      " 1   CryoSleep     8693 non-null   object \n",
      " 2   Destination   8693 non-null   object \n",
      " 3   Age           8693 non-null   float64\n",
      " 4   VIP           8693 non-null   object \n",
      " 5   RoomService   8693 non-null   float64\n",
      " 6   FoodCourt     8693 non-null   float64\n",
      " 7   ShoppingMall  8693 non-null   float64\n",
      " 8   Spa           8693 non-null   float64\n",
      " 9   VRDeck        8693 non-null   float64\n",
      " 10  Transported   8693 non-null   bool   \n",
      "dtypes: bool(1), float64(6), object(4)\n",
      "memory usage: 687.8+ KB\n"
     ]
    }
   ],
   "source": [
    "data.info()"
   ]
  },
  {
   "cell_type": "code",
   "execution_count": 122,
   "metadata": {},
   "outputs": [],
   "source": [
    "data[\"Transported\"]=data[\"Transported\"].astype(\"str\")"
   ]
  },
  {
   "cell_type": "code",
   "execution_count": 123,
   "metadata": {},
   "outputs": [
    {
     "name": "stdout",
     "output_type": "stream",
     "text": [
      "<class 'pandas.core.frame.DataFrame'>\n",
      "RangeIndex: 8693 entries, 0 to 8692\n",
      "Data columns (total 11 columns):\n",
      " #   Column        Non-Null Count  Dtype  \n",
      "---  ------        --------------  -----  \n",
      " 0   HomePlanet    8693 non-null   object \n",
      " 1   CryoSleep     8693 non-null   object \n",
      " 2   Destination   8693 non-null   object \n",
      " 3   Age           8693 non-null   float64\n",
      " 4   VIP           8693 non-null   object \n",
      " 5   RoomService   8693 non-null   float64\n",
      " 6   FoodCourt     8693 non-null   float64\n",
      " 7   ShoppingMall  8693 non-null   float64\n",
      " 8   Spa           8693 non-null   float64\n",
      " 9   VRDeck        8693 non-null   float64\n",
      " 10  Transported   8693 non-null   object \n",
      "dtypes: float64(6), object(5)\n",
      "memory usage: 747.2+ KB\n"
     ]
    }
   ],
   "source": [
    "data.info()"
   ]
  },
  {
   "cell_type": "code",
   "execution_count": 124,
   "metadata": {
    "execution": {
     "iopub.execute_input": "2023-12-13T16:00:43.369540Z",
     "iopub.status.busy": "2023-12-13T16:00:43.368820Z",
     "iopub.status.idle": "2023-12-13T16:00:43.373662Z",
     "shell.execute_reply": "2023-12-13T16:00:43.372760Z",
     "shell.execute_reply.started": "2023-12-13T16:00:43.369508Z"
    }
   },
   "outputs": [],
   "source": [
    "lst=[\"HomePlanet\",\"CryoSleep\",\"Destination\",\"VIP\"]"
   ]
  },
  {
   "cell_type": "code",
   "execution_count": 125,
   "metadata": {
    "execution": {
     "iopub.execute_input": "2023-12-13T16:00:43.375453Z",
     "iopub.status.busy": "2023-12-13T16:00:43.374948Z",
     "iopub.status.idle": "2023-12-13T16:00:44.933219Z",
     "shell.execute_reply": "2023-12-13T16:00:44.931768Z",
     "shell.execute_reply.started": "2023-12-13T16:00:43.375413Z"
    }
   },
   "outputs": [],
   "source": [
    "from sklearn.preprocessing import LabelEncoder\n",
    "labelencoder = LabelEncoder()"
   ]
  },
  {
   "cell_type": "code",
   "execution_count": 127,
   "metadata": {
    "execution": {
     "iopub.execute_input": "2023-12-13T16:00:44.935552Z",
     "iopub.status.busy": "2023-12-13T16:00:44.934649Z",
     "iopub.status.idle": "2023-12-13T16:00:44.954477Z",
     "shell.execute_reply": "2023-12-13T16:00:44.953051Z",
     "shell.execute_reply.started": "2023-12-13T16:00:44.935514Z"
    }
   },
   "outputs": [],
   "source": [
    "data[\"HomePlanet\"]=labelencoder.fit_transform(data[\"HomePlanet\"])"
   ]
  },
  {
   "cell_type": "code",
   "execution_count": 130,
   "metadata": {},
   "outputs": [],
   "source": [
    "data[\"CryoSleep\"]=data[\"CryoSleep\"].astype(\"str\")\n",
    "data[\"CryoSleep\"]=labelencoder.fit_transform(data[\"CryoSleep\"])"
   ]
  },
  {
   "cell_type": "code",
   "execution_count": 131,
   "metadata": {},
   "outputs": [],
   "source": [
    "data[\"Destination\"]=labelencoder.fit_transform(data[\"Destination\"])"
   ]
  },
  {
   "cell_type": "code",
   "execution_count": 134,
   "metadata": {},
   "outputs": [
    {
     "data": {
      "text/plain": [
       "False    8291\n",
       "False     203\n",
       "True      199\n",
       "Name: VIP, dtype: int64"
      ]
     },
     "execution_count": 134,
     "metadata": {},
     "output_type": "execute_result"
    }
   ],
   "source": [
    "data[\"VIP\"].value_counts()"
   ]
  },
  {
   "cell_type": "code",
   "execution_count": 135,
   "metadata": {},
   "outputs": [],
   "source": [
    "data[\"VIP\"]=data[\"VIP\"].astype(\"str\")"
   ]
  },
  {
   "cell_type": "code",
   "execution_count": 136,
   "metadata": {},
   "outputs": [
    {
     "data": {
      "text/plain": [
       "False    8494\n",
       "True      199\n",
       "Name: VIP, dtype: int64"
      ]
     },
     "execution_count": 136,
     "metadata": {},
     "output_type": "execute_result"
    }
   ],
   "source": [
    "data[\"VIP\"].value_counts()"
   ]
  },
  {
   "cell_type": "code",
   "execution_count": 137,
   "metadata": {},
   "outputs": [],
   "source": [
    "data[\"VIP\"]=labelencoder.fit_transform(data[\"VIP\"])"
   ]
  },
  {
   "cell_type": "code",
   "execution_count": 141,
   "metadata": {},
   "outputs": [],
   "source": [
    "data[\"Transported\"]=labelencoder.fit_transform(data[\"Transported\"])"
   ]
  },
  {
   "cell_type": "code",
   "execution_count": 142,
   "metadata": {},
   "outputs": [
    {
     "name": "stdout",
     "output_type": "stream",
     "text": [
      "<class 'pandas.core.frame.DataFrame'>\n",
      "RangeIndex: 8693 entries, 0 to 8692\n",
      "Data columns (total 11 columns):\n",
      " #   Column        Non-Null Count  Dtype  \n",
      "---  ------        --------------  -----  \n",
      " 0   HomePlanet    8693 non-null   int64  \n",
      " 1   CryoSleep     8693 non-null   int32  \n",
      " 2   Destination   8693 non-null   int32  \n",
      " 3   Age           8693 non-null   float64\n",
      " 4   VIP           8693 non-null   int32  \n",
      " 5   RoomService   8693 non-null   float64\n",
      " 6   FoodCourt     8693 non-null   float64\n",
      " 7   ShoppingMall  8693 non-null   float64\n",
      " 8   Spa           8693 non-null   float64\n",
      " 9   VRDeck        8693 non-null   float64\n",
      " 10  Transported   8693 non-null   int32  \n",
      "dtypes: float64(6), int32(4), int64(1)\n",
      "memory usage: 611.4 KB\n"
     ]
    }
   ],
   "source": [
    "data.info()"
   ]
  },
  {
   "cell_type": "code",
   "execution_count": 144,
   "metadata": {
    "execution": {
     "iopub.execute_input": "2023-12-13T16:00:44.956351Z",
     "iopub.status.busy": "2023-12-13T16:00:44.955915Z",
     "iopub.status.idle": "2023-12-13T16:00:44.990616Z",
     "shell.execute_reply": "2023-12-13T16:00:44.989362Z",
     "shell.execute_reply.started": "2023-12-13T16:00:44.956311Z"
    }
   },
   "outputs": [
    {
     "data": {
      "text/html": [
       "<div>\n",
       "<style scoped>\n",
       "    .dataframe tbody tr th:only-of-type {\n",
       "        vertical-align: middle;\n",
       "    }\n",
       "\n",
       "    .dataframe tbody tr th {\n",
       "        vertical-align: top;\n",
       "    }\n",
       "\n",
       "    .dataframe thead th {\n",
       "        text-align: right;\n",
       "    }\n",
       "</style>\n",
       "<table border=\"1\" class=\"dataframe\">\n",
       "  <thead>\n",
       "    <tr style=\"text-align: right;\">\n",
       "      <th></th>\n",
       "      <th>HomePlanet</th>\n",
       "      <th>CryoSleep</th>\n",
       "      <th>Destination</th>\n",
       "      <th>Age</th>\n",
       "      <th>VIP</th>\n",
       "      <th>RoomService</th>\n",
       "      <th>FoodCourt</th>\n",
       "      <th>ShoppingMall</th>\n",
       "      <th>Spa</th>\n",
       "      <th>VRDeck</th>\n",
       "      <th>Transported</th>\n",
       "    </tr>\n",
       "  </thead>\n",
       "  <tbody>\n",
       "    <tr>\n",
       "      <th>0</th>\n",
       "      <td>1</td>\n",
       "      <td>0</td>\n",
       "      <td>2</td>\n",
       "      <td>39.0</td>\n",
       "      <td>0</td>\n",
       "      <td>0.0</td>\n",
       "      <td>0.0</td>\n",
       "      <td>0.0</td>\n",
       "      <td>0.0</td>\n",
       "      <td>0.0</td>\n",
       "      <td>0</td>\n",
       "    </tr>\n",
       "    <tr>\n",
       "      <th>1</th>\n",
       "      <td>0</td>\n",
       "      <td>0</td>\n",
       "      <td>2</td>\n",
       "      <td>24.0</td>\n",
       "      <td>0</td>\n",
       "      <td>109.0</td>\n",
       "      <td>9.0</td>\n",
       "      <td>25.0</td>\n",
       "      <td>549.0</td>\n",
       "      <td>44.0</td>\n",
       "      <td>1</td>\n",
       "    </tr>\n",
       "    <tr>\n",
       "      <th>2</th>\n",
       "      <td>1</td>\n",
       "      <td>0</td>\n",
       "      <td>2</td>\n",
       "      <td>58.0</td>\n",
       "      <td>1</td>\n",
       "      <td>43.0</td>\n",
       "      <td>3576.0</td>\n",
       "      <td>0.0</td>\n",
       "      <td>6715.0</td>\n",
       "      <td>49.0</td>\n",
       "      <td>0</td>\n",
       "    </tr>\n",
       "    <tr>\n",
       "      <th>3</th>\n",
       "      <td>1</td>\n",
       "      <td>0</td>\n",
       "      <td>2</td>\n",
       "      <td>33.0</td>\n",
       "      <td>0</td>\n",
       "      <td>0.0</td>\n",
       "      <td>1283.0</td>\n",
       "      <td>371.0</td>\n",
       "      <td>3329.0</td>\n",
       "      <td>193.0</td>\n",
       "      <td>0</td>\n",
       "    </tr>\n",
       "    <tr>\n",
       "      <th>4</th>\n",
       "      <td>0</td>\n",
       "      <td>0</td>\n",
       "      <td>2</td>\n",
       "      <td>16.0</td>\n",
       "      <td>0</td>\n",
       "      <td>303.0</td>\n",
       "      <td>70.0</td>\n",
       "      <td>151.0</td>\n",
       "      <td>565.0</td>\n",
       "      <td>2.0</td>\n",
       "      <td>1</td>\n",
       "    </tr>\n",
       "    <tr>\n",
       "      <th>...</th>\n",
       "      <td>...</td>\n",
       "      <td>...</td>\n",
       "      <td>...</td>\n",
       "      <td>...</td>\n",
       "      <td>...</td>\n",
       "      <td>...</td>\n",
       "      <td>...</td>\n",
       "      <td>...</td>\n",
       "      <td>...</td>\n",
       "      <td>...</td>\n",
       "      <td>...</td>\n",
       "    </tr>\n",
       "    <tr>\n",
       "      <th>8688</th>\n",
       "      <td>1</td>\n",
       "      <td>0</td>\n",
       "      <td>0</td>\n",
       "      <td>41.0</td>\n",
       "      <td>1</td>\n",
       "      <td>0.0</td>\n",
       "      <td>6819.0</td>\n",
       "      <td>0.0</td>\n",
       "      <td>1643.0</td>\n",
       "      <td>74.0</td>\n",
       "      <td>0</td>\n",
       "    </tr>\n",
       "    <tr>\n",
       "      <th>8689</th>\n",
       "      <td>0</td>\n",
       "      <td>1</td>\n",
       "      <td>1</td>\n",
       "      <td>18.0</td>\n",
       "      <td>0</td>\n",
       "      <td>0.0</td>\n",
       "      <td>0.0</td>\n",
       "      <td>0.0</td>\n",
       "      <td>0.0</td>\n",
       "      <td>0.0</td>\n",
       "      <td>0</td>\n",
       "    </tr>\n",
       "    <tr>\n",
       "      <th>8690</th>\n",
       "      <td>0</td>\n",
       "      <td>0</td>\n",
       "      <td>2</td>\n",
       "      <td>26.0</td>\n",
       "      <td>0</td>\n",
       "      <td>0.0</td>\n",
       "      <td>0.0</td>\n",
       "      <td>1872.0</td>\n",
       "      <td>1.0</td>\n",
       "      <td>0.0</td>\n",
       "      <td>1</td>\n",
       "    </tr>\n",
       "    <tr>\n",
       "      <th>8691</th>\n",
       "      <td>1</td>\n",
       "      <td>0</td>\n",
       "      <td>0</td>\n",
       "      <td>32.0</td>\n",
       "      <td>0</td>\n",
       "      <td>0.0</td>\n",
       "      <td>1049.0</td>\n",
       "      <td>0.0</td>\n",
       "      <td>353.0</td>\n",
       "      <td>3235.0</td>\n",
       "      <td>0</td>\n",
       "    </tr>\n",
       "    <tr>\n",
       "      <th>8692</th>\n",
       "      <td>1</td>\n",
       "      <td>0</td>\n",
       "      <td>2</td>\n",
       "      <td>44.0</td>\n",
       "      <td>0</td>\n",
       "      <td>126.0</td>\n",
       "      <td>4688.0</td>\n",
       "      <td>0.0</td>\n",
       "      <td>0.0</td>\n",
       "      <td>12.0</td>\n",
       "      <td>1</td>\n",
       "    </tr>\n",
       "  </tbody>\n",
       "</table>\n",
       "<p>8693 rows × 11 columns</p>\n",
       "</div>"
      ],
      "text/plain": [
       "      HomePlanet  CryoSleep  Destination   Age  VIP  RoomService  FoodCourt  \\\n",
       "0              1          0            2  39.0    0          0.0        0.0   \n",
       "1              0          0            2  24.0    0        109.0        9.0   \n",
       "2              1          0            2  58.0    1         43.0     3576.0   \n",
       "3              1          0            2  33.0    0          0.0     1283.0   \n",
       "4              0          0            2  16.0    0        303.0       70.0   \n",
       "...          ...        ...          ...   ...  ...          ...        ...   \n",
       "8688           1          0            0  41.0    1          0.0     6819.0   \n",
       "8689           0          1            1  18.0    0          0.0        0.0   \n",
       "8690           0          0            2  26.0    0          0.0        0.0   \n",
       "8691           1          0            0  32.0    0          0.0     1049.0   \n",
       "8692           1          0            2  44.0    0        126.0     4688.0   \n",
       "\n",
       "      ShoppingMall     Spa  VRDeck  Transported  \n",
       "0              0.0     0.0     0.0            0  \n",
       "1             25.0   549.0    44.0            1  \n",
       "2              0.0  6715.0    49.0            0  \n",
       "3            371.0  3329.0   193.0            0  \n",
       "4            151.0   565.0     2.0            1  \n",
       "...            ...     ...     ...          ...  \n",
       "8688           0.0  1643.0    74.0            0  \n",
       "8689           0.0     0.0     0.0            0  \n",
       "8690        1872.0     1.0     0.0            1  \n",
       "8691           0.0   353.0  3235.0            0  \n",
       "8692           0.0     0.0    12.0            1  \n",
       "\n",
       "[8693 rows x 11 columns]"
      ]
     },
     "execution_count": 144,
     "metadata": {},
     "output_type": "execute_result"
    }
   ],
   "source": [
    "data"
   ]
  },
  {
   "cell_type": "code",
   "execution_count": 320,
   "metadata": {
    "execution": {
     "iopub.execute_input": "2023-12-13T16:00:44.992936Z",
     "iopub.status.busy": "2023-12-13T16:00:44.992386Z",
     "iopub.status.idle": "2023-12-13T16:00:45.009517Z",
     "shell.execute_reply": "2023-12-13T16:00:45.008004Z",
     "shell.execute_reply.started": "2023-12-13T16:00:44.992896Z"
    }
   },
   "outputs": [],
   "source": [
    "X=data.drop([\"Transported\"],axis=1)\n",
    "y=data[\"Transported\"]"
   ]
  },
  {
   "cell_type": "code",
   "execution_count": 147,
   "metadata": {
    "execution": {
     "iopub.execute_input": "2023-12-13T16:00:45.395192Z",
     "iopub.status.busy": "2023-12-13T16:00:45.394509Z",
     "iopub.status.idle": "2023-12-13T16:00:45.642297Z",
     "shell.execute_reply": "2023-12-13T16:00:45.641057Z",
     "shell.execute_reply.started": "2023-12-13T16:00:45.395151Z"
    }
   },
   "outputs": [
    {
     "data": {
      "text/html": [
       "<div>\n",
       "<style scoped>\n",
       "    .dataframe tbody tr th:only-of-type {\n",
       "        vertical-align: middle;\n",
       "    }\n",
       "\n",
       "    .dataframe tbody tr th {\n",
       "        vertical-align: top;\n",
       "    }\n",
       "\n",
       "    .dataframe thead th {\n",
       "        text-align: right;\n",
       "    }\n",
       "</style>\n",
       "<table border=\"1\" class=\"dataframe\">\n",
       "  <thead>\n",
       "    <tr style=\"text-align: right;\">\n",
       "      <th></th>\n",
       "      <th>features</th>\n",
       "      <th>vif_values</th>\n",
       "    </tr>\n",
       "  </thead>\n",
       "  <tbody>\n",
       "    <tr>\n",
       "      <th>0</th>\n",
       "      <td>HomePlanet</td>\n",
       "      <td>1.897209</td>\n",
       "    </tr>\n",
       "    <tr>\n",
       "      <th>1</th>\n",
       "      <td>CryoSleep</td>\n",
       "      <td>1.696660</td>\n",
       "    </tr>\n",
       "    <tr>\n",
       "      <th>2</th>\n",
       "      <td>Destination</td>\n",
       "      <td>2.793632</td>\n",
       "    </tr>\n",
       "    <tr>\n",
       "      <th>3</th>\n",
       "      <td>Age</td>\n",
       "      <td>3.476892</td>\n",
       "    </tr>\n",
       "    <tr>\n",
       "      <th>4</th>\n",
       "      <td>VIP</td>\n",
       "      <td>1.072034</td>\n",
       "    </tr>\n",
       "    <tr>\n",
       "      <th>5</th>\n",
       "      <td>RoomService</td>\n",
       "      <td>1.259238</td>\n",
       "    </tr>\n",
       "    <tr>\n",
       "      <th>6</th>\n",
       "      <td>FoodCourt</td>\n",
       "      <td>1.235012</td>\n",
       "    </tr>\n",
       "    <tr>\n",
       "      <th>7</th>\n",
       "      <td>ShoppingMall</td>\n",
       "      <td>1.137351</td>\n",
       "    </tr>\n",
       "    <tr>\n",
       "      <th>8</th>\n",
       "      <td>Spa</td>\n",
       "      <td>1.174844</td>\n",
       "    </tr>\n",
       "    <tr>\n",
       "      <th>9</th>\n",
       "      <td>VRDeck</td>\n",
       "      <td>1.173273</td>\n",
       "    </tr>\n",
       "  </tbody>\n",
       "</table>\n",
       "</div>"
      ],
      "text/plain": [
       "       features  vif_values\n",
       "0    HomePlanet    1.897209\n",
       "1     CryoSleep    1.696660\n",
       "2   Destination    2.793632\n",
       "3           Age    3.476892\n",
       "4           VIP    1.072034\n",
       "5   RoomService    1.259238\n",
       "6     FoodCourt    1.235012\n",
       "7  ShoppingMall    1.137351\n",
       "8           Spa    1.174844\n",
       "9        VRDeck    1.173273"
      ]
     },
     "execution_count": 147,
     "metadata": {},
     "output_type": "execute_result"
    }
   ],
   "source": [
    "from statsmodels.stats.outliers_influence import variance_inflation_factor\n",
    "vif_data=pd.DataFrame()\n",
    "vif_data[\"features\"]=X.columns\n",
    "vif_data[\"vif_values\"]=[variance_inflation_factor(X.values,i) for i in range(len(X.columns))]\n",
    "vif_data"
   ]
  },
  {
   "cell_type": "code",
   "execution_count": 148,
   "metadata": {},
   "outputs": [
    {
     "data": {
      "text/html": [
       "<div>\n",
       "<style scoped>\n",
       "    .dataframe tbody tr th:only-of-type {\n",
       "        vertical-align: middle;\n",
       "    }\n",
       "\n",
       "    .dataframe tbody tr th {\n",
       "        vertical-align: top;\n",
       "    }\n",
       "\n",
       "    .dataframe thead th {\n",
       "        text-align: right;\n",
       "    }\n",
       "</style>\n",
       "<table border=\"1\" class=\"dataframe\">\n",
       "  <thead>\n",
       "    <tr style=\"text-align: right;\">\n",
       "      <th></th>\n",
       "      <th>HomePlanet</th>\n",
       "      <th>CryoSleep</th>\n",
       "      <th>Destination</th>\n",
       "      <th>Age</th>\n",
       "      <th>VIP</th>\n",
       "      <th>RoomService</th>\n",
       "      <th>FoodCourt</th>\n",
       "      <th>ShoppingMall</th>\n",
       "      <th>Spa</th>\n",
       "      <th>VRDeck</th>\n",
       "    </tr>\n",
       "  </thead>\n",
       "  <tbody>\n",
       "    <tr>\n",
       "      <th>0</th>\n",
       "      <td>1</td>\n",
       "      <td>0</td>\n",
       "      <td>2</td>\n",
       "      <td>39.0</td>\n",
       "      <td>0</td>\n",
       "      <td>0.0</td>\n",
       "      <td>0.0</td>\n",
       "      <td>0.0</td>\n",
       "      <td>0.0</td>\n",
       "      <td>0.0</td>\n",
       "    </tr>\n",
       "    <tr>\n",
       "      <th>1</th>\n",
       "      <td>0</td>\n",
       "      <td>0</td>\n",
       "      <td>2</td>\n",
       "      <td>24.0</td>\n",
       "      <td>0</td>\n",
       "      <td>109.0</td>\n",
       "      <td>9.0</td>\n",
       "      <td>25.0</td>\n",
       "      <td>549.0</td>\n",
       "      <td>44.0</td>\n",
       "    </tr>\n",
       "    <tr>\n",
       "      <th>2</th>\n",
       "      <td>1</td>\n",
       "      <td>0</td>\n",
       "      <td>2</td>\n",
       "      <td>58.0</td>\n",
       "      <td>1</td>\n",
       "      <td>43.0</td>\n",
       "      <td>3576.0</td>\n",
       "      <td>0.0</td>\n",
       "      <td>6715.0</td>\n",
       "      <td>49.0</td>\n",
       "    </tr>\n",
       "    <tr>\n",
       "      <th>3</th>\n",
       "      <td>1</td>\n",
       "      <td>0</td>\n",
       "      <td>2</td>\n",
       "      <td>33.0</td>\n",
       "      <td>0</td>\n",
       "      <td>0.0</td>\n",
       "      <td>1283.0</td>\n",
       "      <td>371.0</td>\n",
       "      <td>3329.0</td>\n",
       "      <td>193.0</td>\n",
       "    </tr>\n",
       "    <tr>\n",
       "      <th>4</th>\n",
       "      <td>0</td>\n",
       "      <td>0</td>\n",
       "      <td>2</td>\n",
       "      <td>16.0</td>\n",
       "      <td>0</td>\n",
       "      <td>303.0</td>\n",
       "      <td>70.0</td>\n",
       "      <td>151.0</td>\n",
       "      <td>565.0</td>\n",
       "      <td>2.0</td>\n",
       "    </tr>\n",
       "    <tr>\n",
       "      <th>...</th>\n",
       "      <td>...</td>\n",
       "      <td>...</td>\n",
       "      <td>...</td>\n",
       "      <td>...</td>\n",
       "      <td>...</td>\n",
       "      <td>...</td>\n",
       "      <td>...</td>\n",
       "      <td>...</td>\n",
       "      <td>...</td>\n",
       "      <td>...</td>\n",
       "    </tr>\n",
       "    <tr>\n",
       "      <th>8688</th>\n",
       "      <td>1</td>\n",
       "      <td>0</td>\n",
       "      <td>0</td>\n",
       "      <td>41.0</td>\n",
       "      <td>1</td>\n",
       "      <td>0.0</td>\n",
       "      <td>6819.0</td>\n",
       "      <td>0.0</td>\n",
       "      <td>1643.0</td>\n",
       "      <td>74.0</td>\n",
       "    </tr>\n",
       "    <tr>\n",
       "      <th>8689</th>\n",
       "      <td>0</td>\n",
       "      <td>1</td>\n",
       "      <td>1</td>\n",
       "      <td>18.0</td>\n",
       "      <td>0</td>\n",
       "      <td>0.0</td>\n",
       "      <td>0.0</td>\n",
       "      <td>0.0</td>\n",
       "      <td>0.0</td>\n",
       "      <td>0.0</td>\n",
       "    </tr>\n",
       "    <tr>\n",
       "      <th>8690</th>\n",
       "      <td>0</td>\n",
       "      <td>0</td>\n",
       "      <td>2</td>\n",
       "      <td>26.0</td>\n",
       "      <td>0</td>\n",
       "      <td>0.0</td>\n",
       "      <td>0.0</td>\n",
       "      <td>1872.0</td>\n",
       "      <td>1.0</td>\n",
       "      <td>0.0</td>\n",
       "    </tr>\n",
       "    <tr>\n",
       "      <th>8691</th>\n",
       "      <td>1</td>\n",
       "      <td>0</td>\n",
       "      <td>0</td>\n",
       "      <td>32.0</td>\n",
       "      <td>0</td>\n",
       "      <td>0.0</td>\n",
       "      <td>1049.0</td>\n",
       "      <td>0.0</td>\n",
       "      <td>353.0</td>\n",
       "      <td>3235.0</td>\n",
       "    </tr>\n",
       "    <tr>\n",
       "      <th>8692</th>\n",
       "      <td>1</td>\n",
       "      <td>0</td>\n",
       "      <td>2</td>\n",
       "      <td>44.0</td>\n",
       "      <td>0</td>\n",
       "      <td>126.0</td>\n",
       "      <td>4688.0</td>\n",
       "      <td>0.0</td>\n",
       "      <td>0.0</td>\n",
       "      <td>12.0</td>\n",
       "    </tr>\n",
       "  </tbody>\n",
       "</table>\n",
       "<p>8693 rows × 10 columns</p>\n",
       "</div>"
      ],
      "text/plain": [
       "      HomePlanet  CryoSleep  Destination   Age  VIP  RoomService  FoodCourt  \\\n",
       "0              1          0            2  39.0    0          0.0        0.0   \n",
       "1              0          0            2  24.0    0        109.0        9.0   \n",
       "2              1          0            2  58.0    1         43.0     3576.0   \n",
       "3              1          0            2  33.0    0          0.0     1283.0   \n",
       "4              0          0            2  16.0    0        303.0       70.0   \n",
       "...          ...        ...          ...   ...  ...          ...        ...   \n",
       "8688           1          0            0  41.0    1          0.0     6819.0   \n",
       "8689           0          1            1  18.0    0          0.0        0.0   \n",
       "8690           0          0            2  26.0    0          0.0        0.0   \n",
       "8691           1          0            0  32.0    0          0.0     1049.0   \n",
       "8692           1          0            2  44.0    0        126.0     4688.0   \n",
       "\n",
       "      ShoppingMall     Spa  VRDeck  \n",
       "0              0.0     0.0     0.0  \n",
       "1             25.0   549.0    44.0  \n",
       "2              0.0  6715.0    49.0  \n",
       "3            371.0  3329.0   193.0  \n",
       "4            151.0   565.0     2.0  \n",
       "...            ...     ...     ...  \n",
       "8688           0.0  1643.0    74.0  \n",
       "8689           0.0     0.0     0.0  \n",
       "8690        1872.0     1.0     0.0  \n",
       "8691           0.0   353.0  3235.0  \n",
       "8692           0.0     0.0    12.0  \n",
       "\n",
       "[8693 rows x 10 columns]"
      ]
     },
     "execution_count": 148,
     "metadata": {},
     "output_type": "execute_result"
    }
   ],
   "source": [
    "X"
   ]
  },
  {
   "cell_type": "code",
   "execution_count": 149,
   "metadata": {
    "execution": {
     "iopub.execute_input": "2023-12-13T16:00:45.952121Z",
     "iopub.status.busy": "2023-12-13T16:00:45.949302Z",
     "iopub.status.idle": "2023-12-13T16:00:45.968593Z",
     "shell.execute_reply": "2023-12-13T16:00:45.967338Z",
     "shell.execute_reply.started": "2023-12-13T16:00:45.952071Z"
    }
   },
   "outputs": [
    {
     "data": {
      "text/plain": [
       "0       0\n",
       "1       1\n",
       "2       0\n",
       "3       0\n",
       "4       1\n",
       "       ..\n",
       "8688    0\n",
       "8689    0\n",
       "8690    1\n",
       "8691    0\n",
       "8692    1\n",
       "Name: Transported, Length: 8693, dtype: int32"
      ]
     },
     "execution_count": 149,
     "metadata": {},
     "output_type": "execute_result"
    }
   ],
   "source": [
    "y"
   ]
  },
  {
   "cell_type": "code",
   "execution_count": 150,
   "metadata": {
    "execution": {
     "iopub.execute_input": "2023-12-13T16:00:45.989057Z",
     "iopub.status.busy": "2023-12-13T16:00:45.988191Z",
     "iopub.status.idle": "2023-12-13T16:00:46.142408Z",
     "shell.execute_reply": "2023-12-13T16:00:46.141487Z",
     "shell.execute_reply.started": "2023-12-13T16:00:45.989001Z"
    }
   },
   "outputs": [],
   "source": [
    "from sklearn.model_selection import train_test_split"
   ]
  },
  {
   "cell_type": "code",
   "execution_count": 151,
   "metadata": {
    "execution": {
     "iopub.execute_input": "2023-12-13T16:00:46.144544Z",
     "iopub.status.busy": "2023-12-13T16:00:46.143707Z",
     "iopub.status.idle": "2023-12-13T16:00:46.152755Z",
     "shell.execute_reply": "2023-12-13T16:00:46.151700Z",
     "shell.execute_reply.started": "2023-12-13T16:00:46.144507Z"
    }
   },
   "outputs": [],
   "source": [
    "x_train,x_test,y_train,y_test=train_test_split(X,y,test_size=0.2,random_state=20)"
   ]
  },
  {
   "cell_type": "code",
   "execution_count": 152,
   "metadata": {
    "execution": {
     "iopub.execute_input": "2023-12-13T16:00:46.154993Z",
     "iopub.status.busy": "2023-12-13T16:00:46.154214Z",
     "iopub.status.idle": "2023-12-13T16:00:46.295425Z",
     "shell.execute_reply": "2023-12-13T16:00:46.294213Z",
     "shell.execute_reply.started": "2023-12-13T16:00:46.154956Z"
    }
   },
   "outputs": [],
   "source": [
    "from sklearn.linear_model import LogisticRegression"
   ]
  },
  {
   "cell_type": "code",
   "execution_count": 153,
   "metadata": {
    "execution": {
     "iopub.execute_input": "2023-12-13T16:00:46.298017Z",
     "iopub.status.busy": "2023-12-13T16:00:46.297253Z",
     "iopub.status.idle": "2023-12-13T16:00:46.303232Z",
     "shell.execute_reply": "2023-12-13T16:00:46.302038Z",
     "shell.execute_reply.started": "2023-12-13T16:00:46.297969Z"
    }
   },
   "outputs": [],
   "source": [
    "model=LogisticRegression(max_iter=500)"
   ]
  },
  {
   "cell_type": "code",
   "execution_count": 154,
   "metadata": {
    "execution": {
     "iopub.execute_input": "2023-12-13T16:00:46.305803Z",
     "iopub.status.busy": "2023-12-13T16:00:46.305033Z",
     "iopub.status.idle": "2023-12-13T16:00:46.776383Z",
     "shell.execute_reply": "2023-12-13T16:00:46.775103Z",
     "shell.execute_reply.started": "2023-12-13T16:00:46.305736Z"
    }
   },
   "outputs": [
    {
     "data": {
      "text/html": [
       "<style>#sk-container-id-1 {color: black;}#sk-container-id-1 pre{padding: 0;}#sk-container-id-1 div.sk-toggleable {background-color: white;}#sk-container-id-1 label.sk-toggleable__label {cursor: pointer;display: block;width: 100%;margin-bottom: 0;padding: 0.3em;box-sizing: border-box;text-align: center;}#sk-container-id-1 label.sk-toggleable__label-arrow:before {content: \"▸\";float: left;margin-right: 0.25em;color: #696969;}#sk-container-id-1 label.sk-toggleable__label-arrow:hover:before {color: black;}#sk-container-id-1 div.sk-estimator:hover label.sk-toggleable__label-arrow:before {color: black;}#sk-container-id-1 div.sk-toggleable__content {max-height: 0;max-width: 0;overflow: hidden;text-align: left;background-color: #f0f8ff;}#sk-container-id-1 div.sk-toggleable__content pre {margin: 0.2em;color: black;border-radius: 0.25em;background-color: #f0f8ff;}#sk-container-id-1 input.sk-toggleable__control:checked~div.sk-toggleable__content {max-height: 200px;max-width: 100%;overflow: auto;}#sk-container-id-1 input.sk-toggleable__control:checked~label.sk-toggleable__label-arrow:before {content: \"▾\";}#sk-container-id-1 div.sk-estimator input.sk-toggleable__control:checked~label.sk-toggleable__label {background-color: #d4ebff;}#sk-container-id-1 div.sk-label input.sk-toggleable__control:checked~label.sk-toggleable__label {background-color: #d4ebff;}#sk-container-id-1 input.sk-hidden--visually {border: 0;clip: rect(1px 1px 1px 1px);clip: rect(1px, 1px, 1px, 1px);height: 1px;margin: -1px;overflow: hidden;padding: 0;position: absolute;width: 1px;}#sk-container-id-1 div.sk-estimator {font-family: monospace;background-color: #f0f8ff;border: 1px dotted black;border-radius: 0.25em;box-sizing: border-box;margin-bottom: 0.5em;}#sk-container-id-1 div.sk-estimator:hover {background-color: #d4ebff;}#sk-container-id-1 div.sk-parallel-item::after {content: \"\";width: 100%;border-bottom: 1px solid gray;flex-grow: 1;}#sk-container-id-1 div.sk-label:hover label.sk-toggleable__label {background-color: #d4ebff;}#sk-container-id-1 div.sk-serial::before {content: \"\";position: absolute;border-left: 1px solid gray;box-sizing: border-box;top: 0;bottom: 0;left: 50%;z-index: 0;}#sk-container-id-1 div.sk-serial {display: flex;flex-direction: column;align-items: center;background-color: white;padding-right: 0.2em;padding-left: 0.2em;position: relative;}#sk-container-id-1 div.sk-item {position: relative;z-index: 1;}#sk-container-id-1 div.sk-parallel {display: flex;align-items: stretch;justify-content: center;background-color: white;position: relative;}#sk-container-id-1 div.sk-item::before, #sk-container-id-1 div.sk-parallel-item::before {content: \"\";position: absolute;border-left: 1px solid gray;box-sizing: border-box;top: 0;bottom: 0;left: 50%;z-index: -1;}#sk-container-id-1 div.sk-parallel-item {display: flex;flex-direction: column;z-index: 1;position: relative;background-color: white;}#sk-container-id-1 div.sk-parallel-item:first-child::after {align-self: flex-end;width: 50%;}#sk-container-id-1 div.sk-parallel-item:last-child::after {align-self: flex-start;width: 50%;}#sk-container-id-1 div.sk-parallel-item:only-child::after {width: 0;}#sk-container-id-1 div.sk-dashed-wrapped {border: 1px dashed gray;margin: 0 0.4em 0.5em 0.4em;box-sizing: border-box;padding-bottom: 0.4em;background-color: white;}#sk-container-id-1 div.sk-label label {font-family: monospace;font-weight: bold;display: inline-block;line-height: 1.2em;}#sk-container-id-1 div.sk-label-container {text-align: center;}#sk-container-id-1 div.sk-container {/* jupyter's `normalize.less` sets `[hidden] { display: none; }` but bootstrap.min.css set `[hidden] { display: none !important; }` so we also need the `!important` here to be able to override the default hidden behavior on the sphinx rendered scikit-learn.org. See: https://github.com/scikit-learn/scikit-learn/issues/21755 */display: inline-block !important;position: relative;}#sk-container-id-1 div.sk-text-repr-fallback {display: none;}</style><div id=\"sk-container-id-1\" class=\"sk-top-container\"><div class=\"sk-text-repr-fallback\"><pre>LogisticRegression(max_iter=500)</pre><b>In a Jupyter environment, please rerun this cell to show the HTML representation or trust the notebook. <br />On GitHub, the HTML representation is unable to render, please try loading this page with nbviewer.org.</b></div><div class=\"sk-container\" hidden><div class=\"sk-item\"><div class=\"sk-estimator sk-toggleable\"><input class=\"sk-toggleable__control sk-hidden--visually\" id=\"sk-estimator-id-1\" type=\"checkbox\" checked><label for=\"sk-estimator-id-1\" class=\"sk-toggleable__label sk-toggleable__label-arrow\">LogisticRegression</label><div class=\"sk-toggleable__content\"><pre>LogisticRegression(max_iter=500)</pre></div></div></div></div></div>"
      ],
      "text/plain": [
       "LogisticRegression(max_iter=500)"
      ]
     },
     "execution_count": 154,
     "metadata": {},
     "output_type": "execute_result"
    }
   ],
   "source": [
    "model.fit(x_train,y_train)"
   ]
  },
  {
   "cell_type": "code",
   "execution_count": 155,
   "metadata": {
    "execution": {
     "iopub.execute_input": "2023-12-13T16:00:46.779241Z",
     "iopub.status.busy": "2023-12-13T16:00:46.778220Z",
     "iopub.status.idle": "2023-12-13T16:00:46.792698Z",
     "shell.execute_reply": "2023-12-13T16:00:46.791466Z",
     "shell.execute_reply.started": "2023-12-13T16:00:46.779192Z"
    }
   },
   "outputs": [],
   "source": [
    "pred=model.predict(x_test)"
   ]
  },
  {
   "cell_type": "code",
   "execution_count": 156,
   "metadata": {
    "execution": {
     "iopub.execute_input": "2023-12-13T16:00:46.796681Z",
     "iopub.status.busy": "2023-12-13T16:00:46.794811Z",
     "iopub.status.idle": "2023-12-13T16:00:46.805008Z",
     "shell.execute_reply": "2023-12-13T16:00:46.803140Z",
     "shell.execute_reply.started": "2023-12-13T16:00:46.796621Z"
    }
   },
   "outputs": [],
   "source": [
    "from sklearn.metrics import accuracy_score,classification_report"
   ]
  },
  {
   "cell_type": "code",
   "execution_count": 157,
   "metadata": {
    "execution": {
     "iopub.execute_input": "2023-12-13T16:00:46.808285Z",
     "iopub.status.busy": "2023-12-13T16:00:46.806832Z",
     "iopub.status.idle": "2023-12-13T16:00:46.825379Z",
     "shell.execute_reply": "2023-12-13T16:00:46.824205Z",
     "shell.execute_reply.started": "2023-12-13T16:00:46.808228Z"
    }
   },
   "outputs": [
    {
     "data": {
      "text/plain": [
       "0.7872340425531915"
      ]
     },
     "execution_count": 157,
     "metadata": {},
     "output_type": "execute_result"
    }
   ],
   "source": [
    "accuracy_score(y_test,pred)"
   ]
  },
  {
   "cell_type": "code",
   "execution_count": 158,
   "metadata": {
    "execution": {
     "iopub.execute_input": "2023-12-13T16:00:46.828306Z",
     "iopub.status.busy": "2023-12-13T16:00:46.827642Z",
     "iopub.status.idle": "2023-12-13T16:00:46.869678Z",
     "shell.execute_reply": "2023-12-13T16:00:46.868555Z",
     "shell.execute_reply.started": "2023-12-13T16:00:46.828256Z"
    }
   },
   "outputs": [
    {
     "name": "stdout",
     "output_type": "stream",
     "text": [
      "              precision    recall  f1-score   support\n",
      "\n",
      "           0       0.80      0.75      0.77       839\n",
      "           1       0.78      0.82      0.80       900\n",
      "\n",
      "    accuracy                           0.79      1739\n",
      "   macro avg       0.79      0.79      0.79      1739\n",
      "weighted avg       0.79      0.79      0.79      1739\n",
      "\n"
     ]
    }
   ],
   "source": [
    "print(classification_report(y_test,pred))"
   ]
  },
  {
   "cell_type": "markdown",
   "metadata": {},
   "source": [
    "# Neural Network"
   ]
  },
  {
   "cell_type": "code",
   "execution_count": 159,
   "metadata": {
    "execution": {
     "iopub.execute_input": "2023-12-13T16:00:46.873338Z",
     "iopub.status.busy": "2023-12-13T16:00:46.871584Z",
     "iopub.status.idle": "2023-12-13T16:00:46.884590Z",
     "shell.execute_reply": "2023-12-13T16:00:46.883248Z",
     "shell.execute_reply.started": "2023-12-13T16:00:46.873277Z"
    }
   },
   "outputs": [
    {
     "data": {
      "text/plain": [
       "(6954, 10)"
      ]
     },
     "execution_count": 159,
     "metadata": {},
     "output_type": "execute_result"
    }
   ],
   "source": [
    "x_train.shape"
   ]
  },
  {
   "cell_type": "code",
   "execution_count": 160,
   "metadata": {
    "execution": {
     "iopub.execute_input": "2023-12-13T16:00:46.888049Z",
     "iopub.status.busy": "2023-12-13T16:00:46.886265Z",
     "iopub.status.idle": "2023-12-13T16:01:02.110047Z",
     "shell.execute_reply": "2023-12-13T16:01:02.108804Z",
     "shell.execute_reply.started": "2023-12-13T16:00:46.887988Z"
    }
   },
   "outputs": [],
   "source": [
    "from keras.models import Sequential\n",
    "from keras.layers import Input, Dense, Dropout\n",
    "from keras.optimizers import SGD, Adam"
   ]
  },
  {
   "cell_type": "code",
   "execution_count": 218,
   "metadata": {
    "execution": {
     "iopub.execute_input": "2023-12-13T16:01:02.112700Z",
     "iopub.status.busy": "2023-12-13T16:01:02.112011Z",
     "iopub.status.idle": "2023-12-13T16:01:02.238826Z",
     "shell.execute_reply": "2023-12-13T16:01:02.237403Z",
     "shell.execute_reply.started": "2023-12-13T16:01:02.112664Z"
    }
   },
   "outputs": [],
   "source": [
    "model=Sequential()"
   ]
  },
  {
   "cell_type": "code",
   "execution_count": 219,
   "metadata": {
    "execution": {
     "iopub.execute_input": "2023-12-13T16:01:02.241292Z",
     "iopub.status.busy": "2023-12-13T16:01:02.240808Z",
     "iopub.status.idle": "2023-12-13T16:01:02.254395Z",
     "shell.execute_reply": "2023-12-13T16:01:02.253081Z",
     "shell.execute_reply.started": "2023-12-13T16:01:02.241255Z"
    }
   },
   "outputs": [],
   "source": [
    "model.add(Input(10,))"
   ]
  },
  {
   "cell_type": "code",
   "execution_count": 220,
   "metadata": {
    "execution": {
     "iopub.execute_input": "2023-12-13T16:01:02.256305Z",
     "iopub.status.busy": "2023-12-13T16:01:02.255916Z",
     "iopub.status.idle": "2023-12-13T16:01:02.325685Z",
     "shell.execute_reply": "2023-12-13T16:01:02.324645Z",
     "shell.execute_reply.started": "2023-12-13T16:01:02.256272Z"
    }
   },
   "outputs": [],
   "source": [
    "model.add(Dense(units=8, activation='relu'))\n",
    "model.add(Dense(units=12, activation='relu'))\n",
    "model.add(Dense(units=15, activation='relu'))"
   ]
  },
  {
   "cell_type": "code",
   "execution_count": 221,
   "metadata": {
    "execution": {
     "iopub.execute_input": "2023-12-13T16:01:02.327860Z",
     "iopub.status.busy": "2023-12-13T16:01:02.327235Z",
     "iopub.status.idle": "2023-12-13T16:01:02.353975Z",
     "shell.execute_reply": "2023-12-13T16:01:02.352746Z",
     "shell.execute_reply.started": "2023-12-13T16:01:02.327826Z"
    }
   },
   "outputs": [],
   "source": [
    "model.add(Dense(1, activation='sigmoid')) #Output layer"
   ]
  },
  {
   "cell_type": "code",
   "execution_count": 222,
   "metadata": {
    "execution": {
     "iopub.execute_input": "2023-12-13T16:01:02.355791Z",
     "iopub.status.busy": "2023-12-13T16:01:02.355421Z",
     "iopub.status.idle": "2023-12-13T16:01:02.379946Z",
     "shell.execute_reply": "2023-12-13T16:01:02.378573Z",
     "shell.execute_reply.started": "2023-12-13T16:01:02.355748Z"
    }
   },
   "outputs": [],
   "source": [
    "model.compile(optimizer=Adam(), loss='binary_crossentropy', metrics=['accuracy'])"
   ]
  },
  {
   "cell_type": "code",
   "execution_count": 223,
   "metadata": {
    "execution": {
     "iopub.execute_input": "2023-12-13T16:01:02.382760Z",
     "iopub.status.busy": "2023-12-13T16:01:02.381792Z",
     "iopub.status.idle": "2023-12-13T16:01:26.683715Z",
     "shell.execute_reply": "2023-12-13T16:01:26.682722Z",
     "shell.execute_reply.started": "2023-12-13T16:01:02.382709Z"
    },
    "scrolled": true
   },
   "outputs": [
    {
     "name": "stdout",
     "output_type": "stream",
     "text": [
      "Epoch 1/120\n",
      "58/58 [==============================] - 1s 12ms/step - loss: 65.6585 - accuracy: 0.5998 - val_loss: 6.1013 - val_accuracy: 0.6337\n",
      "Epoch 2/120\n",
      "58/58 [==============================] - 0s 8ms/step - loss: 4.6270 - accuracy: 0.6819 - val_loss: 3.2536 - val_accuracy: 0.7717\n",
      "Epoch 3/120\n",
      "58/58 [==============================] - 0s 9ms/step - loss: 3.2362 - accuracy: 0.7565 - val_loss: 2.4891 - val_accuracy: 0.7556\n",
      "Epoch 4/120\n",
      "58/58 [==============================] - 0s 9ms/step - loss: 2.7751 - accuracy: 0.7441 - val_loss: 1.9725 - val_accuracy: 0.7522\n",
      "Epoch 5/120\n",
      "58/58 [==============================] - 0s 8ms/step - loss: 1.8484 - accuracy: 0.7488 - val_loss: 1.5576 - val_accuracy: 0.7522\n",
      "Epoch 6/120\n",
      "58/58 [==============================] - 0s 8ms/step - loss: 1.5296 - accuracy: 0.7494 - val_loss: 1.3835 - val_accuracy: 0.7556\n",
      "Epoch 7/120\n",
      "58/58 [==============================] - 0s 9ms/step - loss: 1.1923 - accuracy: 0.7534 - val_loss: 1.2390 - val_accuracy: 0.7573\n",
      "Epoch 8/120\n",
      "58/58 [==============================] - 0s 8ms/step - loss: 1.0991 - accuracy: 0.7486 - val_loss: 1.2395 - val_accuracy: 0.7608\n",
      "Epoch 9/120\n",
      "58/58 [==============================] - 1s 9ms/step - loss: 0.9941 - accuracy: 0.7517 - val_loss: 0.9642 - val_accuracy: 0.7746\n",
      "Epoch 10/120\n",
      "58/58 [==============================] - 1s 9ms/step - loss: 0.8944 - accuracy: 0.7445 - val_loss: 0.9023 - val_accuracy: 0.7752\n",
      "Epoch 11/120\n",
      "58/58 [==============================] - 0s 9ms/step - loss: 0.8655 - accuracy: 0.7576 - val_loss: 0.9655 - val_accuracy: 0.7430\n",
      "Epoch 12/120\n",
      "58/58 [==============================] - 0s 8ms/step - loss: 0.8529 - accuracy: 0.7620 - val_loss: 0.9172 - val_accuracy: 0.7435\n",
      "Epoch 13/120\n",
      "58/58 [==============================] - 0s 9ms/step - loss: 0.8081 - accuracy: 0.7631 - val_loss: 0.8443 - val_accuracy: 0.7723\n",
      "Epoch 14/120\n",
      "58/58 [==============================] - 1s 9ms/step - loss: 0.7660 - accuracy: 0.7648 - val_loss: 0.7495 - val_accuracy: 0.7723\n",
      "Epoch 15/120\n",
      "58/58 [==============================] - 1s 9ms/step - loss: 0.7654 - accuracy: 0.7748 - val_loss: 0.8582 - val_accuracy: 0.7533\n",
      "Epoch 16/120\n",
      "58/58 [==============================] - 1s 9ms/step - loss: 0.8234 - accuracy: 0.7591 - val_loss: 0.7014 - val_accuracy: 0.7734\n",
      "Epoch 17/120\n",
      "58/58 [==============================] - 0s 9ms/step - loss: 0.7854 - accuracy: 0.7653 - val_loss: 0.7854 - val_accuracy: 0.7711\n",
      "Epoch 18/120\n",
      "58/58 [==============================] - 1s 9ms/step - loss: 0.7849 - accuracy: 0.7680 - val_loss: 0.7454 - val_accuracy: 0.7619\n",
      "Epoch 19/120\n",
      "58/58 [==============================] - 1s 9ms/step - loss: 0.7001 - accuracy: 0.7729 - val_loss: 0.7328 - val_accuracy: 0.7642\n",
      "Epoch 20/120\n",
      "58/58 [==============================] - 0s 9ms/step - loss: 0.6931 - accuracy: 0.7649 - val_loss: 0.7839 - val_accuracy: 0.7740\n",
      "Epoch 21/120\n",
      "58/58 [==============================] - 1s 9ms/step - loss: 0.7861 - accuracy: 0.7630 - val_loss: 0.6547 - val_accuracy: 0.7901\n",
      "Epoch 22/120\n",
      "58/58 [==============================] - 1s 9ms/step - loss: 0.7005 - accuracy: 0.7741 - val_loss: 0.7434 - val_accuracy: 0.7717\n",
      "Epoch 23/120\n",
      "58/58 [==============================] - 1s 9ms/step - loss: 0.6668 - accuracy: 0.7770 - val_loss: 0.6556 - val_accuracy: 0.7803\n",
      "Epoch 24/120\n",
      "58/58 [==============================] - 1s 9ms/step - loss: 0.6321 - accuracy: 0.7751 - val_loss: 0.6705 - val_accuracy: 0.7688\n",
      "Epoch 25/120\n",
      "58/58 [==============================] - 0s 9ms/step - loss: 0.6277 - accuracy: 0.7665 - val_loss: 0.6991 - val_accuracy: 0.7579\n",
      "Epoch 26/120\n",
      "58/58 [==============================] - 1s 9ms/step - loss: 0.6165 - accuracy: 0.7799 - val_loss: 0.6563 - val_accuracy: 0.7907\n",
      "Epoch 27/120\n",
      "58/58 [==============================] - 1s 9ms/step - loss: 0.6687 - accuracy: 0.7781 - val_loss: 0.6138 - val_accuracy: 0.7757\n",
      "Epoch 28/120\n",
      "58/58 [==============================] - 0s 9ms/step - loss: 0.5801 - accuracy: 0.7782 - val_loss: 0.6916 - val_accuracy: 0.7780\n",
      "Epoch 29/120\n",
      "58/58 [==============================] - 1s 9ms/step - loss: 0.6968 - accuracy: 0.7764 - val_loss: 0.6192 - val_accuracy: 0.7924\n",
      "Epoch 30/120\n",
      "58/58 [==============================] - 0s 8ms/step - loss: 0.6011 - accuracy: 0.7749 - val_loss: 0.6283 - val_accuracy: 0.7861\n",
      "Epoch 31/120\n",
      "58/58 [==============================] - 1s 9ms/step - loss: 0.6024 - accuracy: 0.7871 - val_loss: 0.7427 - val_accuracy: 0.7619\n",
      "Epoch 32/120\n",
      "58/58 [==============================] - 1s 9ms/step - loss: 0.6331 - accuracy: 0.7771 - val_loss: 0.6558 - val_accuracy: 0.7872\n",
      "Epoch 33/120\n",
      "58/58 [==============================] - 0s 9ms/step - loss: 0.6842 - accuracy: 0.7751 - val_loss: 0.6606 - val_accuracy: 0.7752\n",
      "Epoch 34/120\n",
      "58/58 [==============================] - 0s 8ms/step - loss: 0.6193 - accuracy: 0.7635 - val_loss: 0.5699 - val_accuracy: 0.7895\n",
      "Epoch 35/120\n",
      "58/58 [==============================] - 0s 8ms/step - loss: 0.5962 - accuracy: 0.7730 - val_loss: 0.6545 - val_accuracy: 0.7953\n",
      "Epoch 36/120\n",
      "58/58 [==============================] - 0s 8ms/step - loss: 0.6280 - accuracy: 0.7816 - val_loss: 0.5918 - val_accuracy: 0.7890\n",
      "Epoch 37/120\n",
      "58/58 [==============================] - 0s 8ms/step - loss: 0.5866 - accuracy: 0.7708 - val_loss: 0.6215 - val_accuracy: 0.7941\n",
      "Epoch 38/120\n",
      "58/58 [==============================] - 0s 9ms/step - loss: 0.5427 - accuracy: 0.7804 - val_loss: 0.5616 - val_accuracy: 0.7890\n",
      "Epoch 39/120\n",
      "58/58 [==============================] - 1s 9ms/step - loss: 0.5723 - accuracy: 0.7800 - val_loss: 0.5886 - val_accuracy: 0.7815\n",
      "Epoch 40/120\n",
      "58/58 [==============================] - 0s 8ms/step - loss: 0.5559 - accuracy: 0.7830 - val_loss: 0.6192 - val_accuracy: 0.7907\n",
      "Epoch 41/120\n",
      "58/58 [==============================] - 0s 9ms/step - loss: 0.6470 - accuracy: 0.7740 - val_loss: 0.7413 - val_accuracy: 0.7309\n",
      "Epoch 42/120\n",
      "58/58 [==============================] - 0s 8ms/step - loss: 0.6751 - accuracy: 0.7656 - val_loss: 0.5939 - val_accuracy: 0.7740\n",
      "Epoch 43/120\n",
      "58/58 [==============================] - 0s 8ms/step - loss: 0.5477 - accuracy: 0.7799 - val_loss: 0.5710 - val_accuracy: 0.7855\n",
      "Epoch 44/120\n",
      "58/58 [==============================] - 0s 8ms/step - loss: 0.5449 - accuracy: 0.7818 - val_loss: 0.5740 - val_accuracy: 0.7941\n",
      "Epoch 45/120\n",
      "58/58 [==============================] - 0s 9ms/step - loss: 0.5810 - accuracy: 0.7771 - val_loss: 0.5378 - val_accuracy: 0.7924\n",
      "Epoch 46/120\n",
      "58/58 [==============================] - 0s 8ms/step - loss: 0.5348 - accuracy: 0.7888 - val_loss: 0.6036 - val_accuracy: 0.7970\n",
      "Epoch 47/120\n",
      "58/58 [==============================] - 0s 8ms/step - loss: 0.6396 - accuracy: 0.7814 - val_loss: 0.5855 - val_accuracy: 0.7654\n",
      "Epoch 48/120\n",
      "58/58 [==============================] - 0s 8ms/step - loss: 0.5967 - accuracy: 0.7782 - val_loss: 0.5840 - val_accuracy: 0.7775\n",
      "Epoch 49/120\n",
      "58/58 [==============================] - 0s 8ms/step - loss: 0.5450 - accuracy: 0.7803 - val_loss: 0.5240 - val_accuracy: 0.7953\n",
      "Epoch 50/120\n",
      "58/58 [==============================] - 0s 9ms/step - loss: 0.5785 - accuracy: 0.7775 - val_loss: 0.6763 - val_accuracy: 0.7740\n",
      "Epoch 51/120\n",
      "58/58 [==============================] - 1s 9ms/step - loss: 0.6559 - accuracy: 0.7715 - val_loss: 0.5663 - val_accuracy: 0.7780\n",
      "Epoch 52/120\n",
      "58/58 [==============================] - 0s 9ms/step - loss: 0.5435 - accuracy: 0.7823 - val_loss: 0.5275 - val_accuracy: 0.7987\n",
      "Epoch 53/120\n",
      "58/58 [==============================] - 1s 9ms/step - loss: 0.5338 - accuracy: 0.7841 - val_loss: 0.7191 - val_accuracy: 0.7556\n",
      "Epoch 54/120\n",
      "58/58 [==============================] - 0s 9ms/step - loss: 0.5499 - accuracy: 0.7897 - val_loss: 0.5445 - val_accuracy: 0.7947\n",
      "Epoch 55/120\n",
      "58/58 [==============================] - 0s 8ms/step - loss: 0.6038 - accuracy: 0.7807 - val_loss: 0.6299 - val_accuracy: 0.7936\n",
      "Epoch 56/120\n",
      "58/58 [==============================] - 1s 9ms/step - loss: 0.5672 - accuracy: 0.7914 - val_loss: 0.6096 - val_accuracy: 0.7711\n",
      "Epoch 57/120\n",
      "58/58 [==============================] - 1s 9ms/step - loss: 0.5517 - accuracy: 0.7806 - val_loss: 0.5639 - val_accuracy: 0.7959\n",
      "Epoch 58/120\n",
      "58/58 [==============================] - 1s 9ms/step - loss: 0.5526 - accuracy: 0.7901 - val_loss: 0.5191 - val_accuracy: 0.7987\n"
     ]
    },
    {
     "name": "stdout",
     "output_type": "stream",
     "text": [
      "Epoch 59/120\n",
      "58/58 [==============================] - 0s 9ms/step - loss: 0.5238 - accuracy: 0.7901 - val_loss: 0.7158 - val_accuracy: 0.8028\n",
      "Epoch 60/120\n",
      "58/58 [==============================] - 1s 9ms/step - loss: 0.5519 - accuracy: 0.7971 - val_loss: 0.5304 - val_accuracy: 0.7941\n",
      "Epoch 61/120\n",
      "58/58 [==============================] - 0s 8ms/step - loss: 0.5047 - accuracy: 0.7968 - val_loss: 0.5121 - val_accuracy: 0.7936\n",
      "Epoch 62/120\n",
      "58/58 [==============================] - 1s 9ms/step - loss: 0.4715 - accuracy: 0.7945 - val_loss: 0.5009 - val_accuracy: 0.8005\n",
      "Epoch 63/120\n",
      "58/58 [==============================] - 0s 9ms/step - loss: 0.5093 - accuracy: 0.7765 - val_loss: 0.5203 - val_accuracy: 0.7913\n",
      "Epoch 64/120\n",
      "58/58 [==============================] - 0s 8ms/step - loss: 0.5117 - accuracy: 0.7911 - val_loss: 0.6066 - val_accuracy: 0.7913\n",
      "Epoch 65/120\n",
      "58/58 [==============================] - 0s 8ms/step - loss: 0.5453 - accuracy: 0.7721 - val_loss: 0.5063 - val_accuracy: 0.8016\n",
      "Epoch 66/120\n",
      "58/58 [==============================] - 1s 9ms/step - loss: 0.5259 - accuracy: 0.7809 - val_loss: 0.5398 - val_accuracy: 0.7964\n",
      "Epoch 67/120\n",
      "58/58 [==============================] - 1s 9ms/step - loss: 0.5101 - accuracy: 0.7914 - val_loss: 0.5783 - val_accuracy: 0.7803\n",
      "Epoch 68/120\n",
      "58/58 [==============================] - 0s 8ms/step - loss: 0.5593 - accuracy: 0.7826 - val_loss: 0.5987 - val_accuracy: 0.7700\n",
      "Epoch 69/120\n",
      "58/58 [==============================] - 0s 8ms/step - loss: 0.5717 - accuracy: 0.7826 - val_loss: 0.5251 - val_accuracy: 0.7780\n",
      "Epoch 70/120\n",
      "58/58 [==============================] - 0s 8ms/step - loss: 0.5075 - accuracy: 0.7881 - val_loss: 0.5527 - val_accuracy: 0.7717\n",
      "Epoch 71/120\n",
      "58/58 [==============================] - 1s 10ms/step - loss: 0.5319 - accuracy: 0.7829 - val_loss: 0.5682 - val_accuracy: 0.7867\n",
      "Epoch 72/120\n",
      "58/58 [==============================] - 1s 9ms/step - loss: 0.5393 - accuracy: 0.7797 - val_loss: 0.5239 - val_accuracy: 0.8028\n",
      "Epoch 73/120\n",
      "58/58 [==============================] - 1s 9ms/step - loss: 0.5194 - accuracy: 0.7890 - val_loss: 0.5607 - val_accuracy: 0.7855\n",
      "Epoch 74/120\n",
      "58/58 [==============================] - 0s 8ms/step - loss: 0.5016 - accuracy: 0.7925 - val_loss: 0.5063 - val_accuracy: 0.7982\n",
      "Epoch 75/120\n",
      "58/58 [==============================] - 1s 9ms/step - loss: 0.4997 - accuracy: 0.7916 - val_loss: 0.4797 - val_accuracy: 0.8016\n",
      "Epoch 76/120\n",
      "58/58 [==============================] - 0s 8ms/step - loss: 0.4977 - accuracy: 0.7894 - val_loss: 0.5409 - val_accuracy: 0.7953\n",
      "Epoch 77/120\n",
      "58/58 [==============================] - 1s 9ms/step - loss: 0.4852 - accuracy: 0.7869 - val_loss: 0.4878 - val_accuracy: 0.7982\n",
      "Epoch 78/120\n",
      "58/58 [==============================] - 0s 9ms/step - loss: 0.5023 - accuracy: 0.7873 - val_loss: 0.5130 - val_accuracy: 0.7999\n",
      "Epoch 79/120\n",
      "58/58 [==============================] - 0s 8ms/step - loss: 0.4965 - accuracy: 0.7876 - val_loss: 0.6386 - val_accuracy: 0.7930\n",
      "Epoch 80/120\n",
      "58/58 [==============================] - 0s 9ms/step - loss: 0.5723 - accuracy: 0.7870 - val_loss: 0.4977 - val_accuracy: 0.7941\n",
      "Epoch 81/120\n",
      "58/58 [==============================] - 0s 9ms/step - loss: 0.5392 - accuracy: 0.7883 - val_loss: 0.5624 - val_accuracy: 0.8010\n",
      "Epoch 82/120\n",
      "58/58 [==============================] - 1s 9ms/step - loss: 0.6178 - accuracy: 0.7847 - val_loss: 0.5518 - val_accuracy: 0.7982\n",
      "Epoch 83/120\n",
      "58/58 [==============================] - 0s 8ms/step - loss: 0.5257 - accuracy: 0.7936 - val_loss: 0.4925 - val_accuracy: 0.7895\n",
      "Epoch 84/120\n",
      "58/58 [==============================] - 1s 9ms/step - loss: 0.4907 - accuracy: 0.7892 - val_loss: 0.4780 - val_accuracy: 0.7982\n",
      "Epoch 85/120\n",
      "58/58 [==============================] - 1s 10ms/step - loss: 0.4671 - accuracy: 0.7953 - val_loss: 0.4876 - val_accuracy: 0.7976\n",
      "Epoch 86/120\n",
      "58/58 [==============================] - 0s 8ms/step - loss: 0.5296 - accuracy: 0.7797 - val_loss: 0.4951 - val_accuracy: 0.7982\n",
      "Epoch 87/120\n",
      "58/58 [==============================] - 1s 9ms/step - loss: 0.5028 - accuracy: 0.7805 - val_loss: 0.5265 - val_accuracy: 0.7849\n",
      "Epoch 88/120\n",
      "58/58 [==============================] - 1s 9ms/step - loss: 0.5511 - accuracy: 0.7832 - val_loss: 0.5544 - val_accuracy: 0.7964\n",
      "Epoch 89/120\n",
      "58/58 [==============================] - 1s 9ms/step - loss: 0.5251 - accuracy: 0.7893 - val_loss: 0.5606 - val_accuracy: 0.7585\n",
      "Epoch 90/120\n",
      "58/58 [==============================] - 0s 8ms/step - loss: 0.5412 - accuracy: 0.7830 - val_loss: 0.5800 - val_accuracy: 0.7884\n",
      "Epoch 91/120\n",
      "58/58 [==============================] - 0s 8ms/step - loss: 0.5199 - accuracy: 0.7885 - val_loss: 0.4910 - val_accuracy: 0.7809\n",
      "Epoch 92/120\n",
      "58/58 [==============================] - 0s 9ms/step - loss: 0.5197 - accuracy: 0.7889 - val_loss: 0.5274 - val_accuracy: 0.7913\n",
      "Epoch 93/120\n",
      "58/58 [==============================] - 1s 9ms/step - loss: 0.5015 - accuracy: 0.7964 - val_loss: 0.5278 - val_accuracy: 0.7959\n",
      "Epoch 94/120\n",
      "58/58 [==============================] - 1s 9ms/step - loss: 0.4878 - accuracy: 0.7953 - val_loss: 0.5513 - val_accuracy: 0.7803\n",
      "Epoch 95/120\n",
      "58/58 [==============================] - 0s 9ms/step - loss: 0.5402 - accuracy: 0.7840 - val_loss: 0.4883 - val_accuracy: 0.7918\n",
      "Epoch 96/120\n",
      "58/58 [==============================] - 0s 9ms/step - loss: 0.5109 - accuracy: 0.7878 - val_loss: 0.5366 - val_accuracy: 0.7815\n",
      "Epoch 97/120\n",
      "58/58 [==============================] - 0s 9ms/step - loss: 0.4946 - accuracy: 0.7970 - val_loss: 0.5037 - val_accuracy: 0.7970\n",
      "Epoch 98/120\n",
      "58/58 [==============================] - 0s 8ms/step - loss: 0.4937 - accuracy: 0.7907 - val_loss: 0.5149 - val_accuracy: 0.7947\n",
      "Epoch 99/120\n",
      "58/58 [==============================] - 0s 9ms/step - loss: 0.5259 - accuracy: 0.7903 - val_loss: 0.5094 - val_accuracy: 0.7964\n",
      "Epoch 100/120\n",
      "58/58 [==============================] - 0s 9ms/step - loss: 0.5159 - accuracy: 0.7850 - val_loss: 0.4616 - val_accuracy: 0.7987\n",
      "Epoch 101/120\n",
      "58/58 [==============================] - 1s 9ms/step - loss: 0.4854 - accuracy: 0.7828 - val_loss: 0.4894 - val_accuracy: 0.7924\n",
      "Epoch 102/120\n",
      "58/58 [==============================] - 0s 8ms/step - loss: 0.4968 - accuracy: 0.7907 - val_loss: 0.5438 - val_accuracy: 0.7821\n",
      "Epoch 103/120\n",
      "58/58 [==============================] - 1s 9ms/step - loss: 0.5086 - accuracy: 0.7905 - val_loss: 0.4727 - val_accuracy: 0.7976\n",
      "Epoch 104/120\n",
      "58/58 [==============================] - 0s 8ms/step - loss: 0.4775 - accuracy: 0.7954 - val_loss: 0.4890 - val_accuracy: 0.7982\n",
      "Epoch 105/120\n",
      "58/58 [==============================] - 0s 9ms/step - loss: 0.4907 - accuracy: 0.7882 - val_loss: 0.4844 - val_accuracy: 0.7982\n",
      "Epoch 106/120\n",
      "58/58 [==============================] - 0s 8ms/step - loss: 0.5108 - accuracy: 0.7868 - val_loss: 0.5362 - val_accuracy: 0.7953\n",
      "Epoch 107/120\n",
      "58/58 [==============================] - 1s 9ms/step - loss: 0.4771 - accuracy: 0.7910 - val_loss: 0.4726 - val_accuracy: 0.7982\n",
      "Epoch 108/120\n",
      "58/58 [==============================] - 1s 9ms/step - loss: 0.4939 - accuracy: 0.7911 - val_loss: 0.4827 - val_accuracy: 0.8028\n",
      "Epoch 109/120\n",
      "58/58 [==============================] - 1s 9ms/step - loss: 0.5136 - accuracy: 0.7862 - val_loss: 0.6018 - val_accuracy: 0.7688\n",
      "Epoch 110/120\n",
      "58/58 [==============================] - 0s 8ms/step - loss: 0.5110 - accuracy: 0.7829 - val_loss: 0.4973 - val_accuracy: 0.7844\n",
      "Epoch 111/120\n",
      "58/58 [==============================] - 1s 9ms/step - loss: 0.4625 - accuracy: 0.7954 - val_loss: 0.5331 - val_accuracy: 0.7924\n",
      "Epoch 112/120\n",
      "58/58 [==============================] - 1s 9ms/step - loss: 0.5291 - accuracy: 0.7819 - val_loss: 0.4930 - val_accuracy: 0.7918\n",
      "Epoch 113/120\n",
      "58/58 [==============================] - 1s 9ms/step - loss: 0.5204 - accuracy: 0.7947 - val_loss: 0.5062 - val_accuracy: 0.7907\n",
      "Epoch 114/120\n",
      "58/58 [==============================] - 0s 9ms/step - loss: 0.4892 - accuracy: 0.7929 - val_loss: 0.4667 - val_accuracy: 0.7993\n",
      "Epoch 115/120\n",
      "58/58 [==============================] - 1s 9ms/step - loss: 0.4542 - accuracy: 0.8041 - val_loss: 0.5112 - val_accuracy: 0.7895\n",
      "Epoch 116/120\n"
     ]
    },
    {
     "name": "stdout",
     "output_type": "stream",
     "text": [
      "58/58 [==============================] - 0s 8ms/step - loss: 0.4667 - accuracy: 0.7947 - val_loss: 0.4974 - val_accuracy: 0.7901\n",
      "Epoch 117/120\n",
      "58/58 [==============================] - 1s 9ms/step - loss: 0.4883 - accuracy: 0.7950 - val_loss: 0.4856 - val_accuracy: 0.7913\n",
      "Epoch 118/120\n",
      "58/58 [==============================] - 1s 9ms/step - loss: 0.5061 - accuracy: 0.7974 - val_loss: 0.5093 - val_accuracy: 0.7941\n",
      "Epoch 119/120\n",
      "58/58 [==============================] - 1s 9ms/step - loss: 0.4851 - accuracy: 0.7920 - val_loss: 0.4776 - val_accuracy: 0.8016\n",
      "Epoch 120/120\n",
      "58/58 [==============================] - 1s 9ms/step - loss: 0.4892 - accuracy: 0.7945 - val_loss: 0.7226 - val_accuracy: 0.7706\n"
     ]
    },
    {
     "data": {
      "text/plain": [
       "<tensorflow.python.keras.callbacks.History at 0x23a66ec94c0>"
      ]
     },
     "execution_count": 223,
     "metadata": {},
     "output_type": "execute_result"
    }
   ],
   "source": [
    "model.fit(x=x_train,y=y_train,epochs=120,validation_data=(x_test, y_test), batch_size=120)"
   ]
  },
  {
   "cell_type": "code",
   "execution_count": 224,
   "metadata": {
    "execution": {
     "iopub.execute_input": "2023-12-13T16:01:26.686667Z",
     "iopub.status.busy": "2023-12-13T16:01:26.685381Z",
     "iopub.status.idle": "2023-12-13T16:01:26.973226Z",
     "shell.execute_reply": "2023-12-13T16:01:26.972002Z",
     "shell.execute_reply.started": "2023-12-13T16:01:26.686621Z"
    }
   },
   "outputs": [
    {
     "data": {
      "image/png": "[encoded data removed]",
      "text/plain": [
       "<Figure size 640x480 with 1 Axes>"
      ]
     },
     "metadata": {},
     "output_type": "display_data"
    }
   ],
   "source": [
    "import matplotlib.pyplot as plt\n",
    "train_acc = model.history.history[\"accuracy\"]\n",
    "val_acc = model.history.history[\"val_accuracy\"]\n",
    "\n",
    "plt.plot(train_acc)\n",
    "plt.plot(val_acc)\n",
    "plt.xlabel(\"Epochs\")\n",
    "plt.ylabel(\"Accuracy\")\n",
    "#plt.ylim((0.64,0.8))\n",
    "plt.legend([\"Train\", \"Test\"])\n",
    "plt.grid()\n",
    "plt.show()"
   ]
  },
  {
   "cell_type": "code",
   "execution_count": 225,
   "metadata": {
    "execution": {
     "iopub.execute_input": "2023-12-13T16:01:26.975218Z",
     "iopub.status.busy": "2023-12-13T16:01:26.974703Z",
     "iopub.status.idle": "2023-12-13T16:01:27.197612Z",
     "shell.execute_reply": "2023-12-13T16:01:27.196346Z",
     "shell.execute_reply.started": "2023-12-13T16:01:26.975174Z"
    }
   },
   "outputs": [
    {
     "data": {
      "image/png": "[encoded data removed]",
      "text/plain": [
       "<Figure size 640x480 with 1 Axes>"
      ]
     },
     "metadata": {},
     "output_type": "display_data"
    }
   ],
   "source": [
    "train_loss = model.history.history[\"loss\"]\n",
    "val_loss = model.history.history[\"val_loss\"]\n",
    "\n",
    "plt.plot(train_loss)\n",
    "plt.plot(val_loss)\n",
    "plt.xlabel(\"Epochs\")\n",
    "plt.ylabel(\"Loss\")\n",
    "# plt.ylim((0,250))\n",
    "plt.legend([\"Train\", \"Test\"])\n",
    "plt.grid()\n",
    "plt.show()"
   ]
  },
  {
   "cell_type": "markdown",
   "metadata": {},
   "source": [
    "# Model 2"
   ]
  },
  {
   "cell_type": "code",
   "execution_count": 238,
   "metadata": {},
   "outputs": [],
   "source": [
    "from sklearn.preprocessing import StandardScaler\n",
    "scaler=StandardScaler()"
   ]
  },
  {
   "cell_type": "code",
   "execution_count": 239,
   "metadata": {},
   "outputs": [],
   "source": [
    "x_train_sc=scaler.fit_transform(x_train)\n",
    "x_test_sc=scaler.fit_transform(x_test)"
   ]
  },
  {
   "cell_type": "code",
   "execution_count": 261,
   "metadata": {},
   "outputs": [],
   "source": [
    "m2=Sequential()"
   ]
  },
  {
   "cell_type": "code",
   "execution_count": 262,
   "metadata": {},
   "outputs": [],
   "source": [
    "m2.add(Input(10,))"
   ]
  },
  {
   "cell_type": "code",
   "execution_count": 263,
   "metadata": {},
   "outputs": [],
   "source": [
    "m2.add(Dense(units=8, activation='relu'))\n",
    "m2.add(Dense(units=13, activation='relu'))\n",
    "m2.add(Dense(units=16, activation='relu'))"
   ]
  },
  {
   "cell_type": "code",
   "execution_count": 264,
   "metadata": {},
   "outputs": [],
   "source": [
    "m2.add(Dense(1, activation='sigmoid')) #Output layer"
   ]
  },
  {
   "cell_type": "code",
   "execution_count": 265,
   "metadata": {},
   "outputs": [],
   "source": [
    "m2.compile(optimizer=Adam(), loss='binary_crossentropy', metrics=['accuracy'])"
   ]
  },
  {
   "cell_type": "code",
   "execution_count": 266,
   "metadata": {
    "scrolled": true
   },
   "outputs": [
    {
     "name": "stdout",
     "output_type": "stream",
     "text": [
      "Epoch 1/165\n",
      "50/50 [==============================] - 1s 12ms/step - loss: 0.6804 - accuracy: 0.5419 - val_loss: 0.6493 - val_accuracy: 0.6486\n",
      "Epoch 2/165\n",
      "50/50 [==============================] - 0s 8ms/step - loss: 0.6460 - accuracy: 0.6506 - val_loss: 0.5956 - val_accuracy: 0.7039\n",
      "Epoch 3/165\n",
      "50/50 [==============================] - 0s 9ms/step - loss: 0.5846 - accuracy: 0.7070 - val_loss: 0.5260 - val_accuracy: 0.7683\n",
      "Epoch 4/165\n",
      "50/50 [==============================] - 0s 9ms/step - loss: 0.5306 - accuracy: 0.7598 - val_loss: 0.4806 - val_accuracy: 0.7821\n",
      "Epoch 5/165\n",
      "50/50 [==============================] - 0s 9ms/step - loss: 0.4872 - accuracy: 0.7712 - val_loss: 0.4579 - val_accuracy: 0.7895\n",
      "Epoch 6/165\n",
      "50/50 [==============================] - 0s 9ms/step - loss: 0.4754 - accuracy: 0.7710 - val_loss: 0.4466 - val_accuracy: 0.8010\n",
      "Epoch 7/165\n",
      "50/50 [==============================] - 0s 9ms/step - loss: 0.4634 - accuracy: 0.7828 - val_loss: 0.4407 - val_accuracy: 0.8016\n",
      "Epoch 8/165\n",
      "50/50 [==============================] - 0s 9ms/step - loss: 0.4561 - accuracy: 0.7831 - val_loss: 0.4375 - val_accuracy: 0.8016\n",
      "Epoch 9/165\n",
      "50/50 [==============================] - 0s 9ms/step - loss: 0.4567 - accuracy: 0.7863 - val_loss: 0.4360 - val_accuracy: 0.8016\n",
      "Epoch 10/165\n",
      "50/50 [==============================] - 0s 9ms/step - loss: 0.4386 - accuracy: 0.8004 - val_loss: 0.4372 - val_accuracy: 0.8016\n",
      "Epoch 11/165\n",
      "50/50 [==============================] - 0s 9ms/step - loss: 0.4532 - accuracy: 0.7933 - val_loss: 0.4358 - val_accuracy: 0.7987\n",
      "Epoch 12/165\n",
      "50/50 [==============================] - 0s 9ms/step - loss: 0.4460 - accuracy: 0.7872 - val_loss: 0.4342 - val_accuracy: 0.8005\n",
      "Epoch 13/165\n",
      "50/50 [==============================] - 0s 9ms/step - loss: 0.4407 - accuracy: 0.7927 - val_loss: 0.4344 - val_accuracy: 0.7999\n",
      "Epoch 14/165\n",
      "50/50 [==============================] - 0s 9ms/step - loss: 0.4474 - accuracy: 0.7892 - val_loss: 0.4342 - val_accuracy: 0.7999\n",
      "Epoch 15/165\n",
      "50/50 [==============================] - 0s 9ms/step - loss: 0.4474 - accuracy: 0.7921 - val_loss: 0.4334 - val_accuracy: 0.7959\n",
      "Epoch 16/165\n",
      "50/50 [==============================] - 0s 8ms/step - loss: 0.4377 - accuracy: 0.7999 - val_loss: 0.4349 - val_accuracy: 0.7959\n",
      "Epoch 17/165\n",
      "50/50 [==============================] - 0s 9ms/step - loss: 0.4307 - accuracy: 0.8022 - val_loss: 0.4309 - val_accuracy: 0.8016\n",
      "Epoch 18/165\n",
      "50/50 [==============================] - 0s 9ms/step - loss: 0.4399 - accuracy: 0.7943 - val_loss: 0.4311 - val_accuracy: 0.7970\n",
      "Epoch 19/165\n",
      "50/50 [==============================] - 0s 9ms/step - loss: 0.4453 - accuracy: 0.7906 - val_loss: 0.4310 - val_accuracy: 0.7953\n",
      "Epoch 20/165\n",
      "50/50 [==============================] - 0s 9ms/step - loss: 0.4406 - accuracy: 0.7973 - val_loss: 0.4315 - val_accuracy: 0.7976\n",
      "Epoch 21/165\n",
      "50/50 [==============================] - 0s 9ms/step - loss: 0.4263 - accuracy: 0.8024 - val_loss: 0.4310 - val_accuracy: 0.7987\n",
      "Epoch 22/165\n",
      "50/50 [==============================] - 0s 9ms/step - loss: 0.4316 - accuracy: 0.7967 - val_loss: 0.4302 - val_accuracy: 0.7976\n",
      "Epoch 23/165\n",
      "50/50 [==============================] - 0s 9ms/step - loss: 0.4332 - accuracy: 0.7906 - val_loss: 0.4294 - val_accuracy: 0.7970\n",
      "Epoch 24/165\n",
      "50/50 [==============================] - 0s 9ms/step - loss: 0.4291 - accuracy: 0.7993 - val_loss: 0.4281 - val_accuracy: 0.7999\n",
      "Epoch 25/165\n",
      "50/50 [==============================] - 0s 9ms/step - loss: 0.4345 - accuracy: 0.7935 - val_loss: 0.4303 - val_accuracy: 0.7976\n",
      "Epoch 26/165\n",
      "50/50 [==============================] - 0s 9ms/step - loss: 0.4426 - accuracy: 0.7885 - val_loss: 0.4294 - val_accuracy: 0.7993\n",
      "Epoch 27/165\n",
      "50/50 [==============================] - 0s 8ms/step - loss: 0.4336 - accuracy: 0.7919 - val_loss: 0.4275 - val_accuracy: 0.8022\n",
      "Epoch 28/165\n",
      "50/50 [==============================] - 0s 8ms/step - loss: 0.4321 - accuracy: 0.7984 - val_loss: 0.4276 - val_accuracy: 0.8010\n",
      "Epoch 29/165\n",
      "50/50 [==============================] - 0s 8ms/step - loss: 0.4255 - accuracy: 0.7999 - val_loss: 0.4289 - val_accuracy: 0.7987\n",
      "Epoch 30/165\n",
      "50/50 [==============================] - 0s 9ms/step - loss: 0.4219 - accuracy: 0.8065 - val_loss: 0.4281 - val_accuracy: 0.8039\n",
      "Epoch 31/165\n",
      "50/50 [==============================] - 0s 9ms/step - loss: 0.4404 - accuracy: 0.7916 - val_loss: 0.4265 - val_accuracy: 0.8022\n",
      "Epoch 32/165\n",
      "50/50 [==============================] - 0s 9ms/step - loss: 0.4189 - accuracy: 0.8075 - val_loss: 0.4269 - val_accuracy: 0.8045\n",
      "Epoch 33/165\n",
      "50/50 [==============================] - 0s 9ms/step - loss: 0.4280 - accuracy: 0.7976 - val_loss: 0.4269 - val_accuracy: 0.8045\n",
      "Epoch 34/165\n",
      "50/50 [==============================] - 0s 9ms/step - loss: 0.4269 - accuracy: 0.7927 - val_loss: 0.4247 - val_accuracy: 0.8016\n",
      "Epoch 35/165\n",
      "50/50 [==============================] - 0s 9ms/step - loss: 0.4200 - accuracy: 0.8002 - val_loss: 0.4271 - val_accuracy: 0.8033\n",
      "Epoch 36/165\n",
      "50/50 [==============================] - 0s 9ms/step - loss: 0.4246 - accuracy: 0.8028 - val_loss: 0.4262 - val_accuracy: 0.8022\n",
      "Epoch 37/165\n",
      "50/50 [==============================] - 0s 9ms/step - loss: 0.4387 - accuracy: 0.7893 - val_loss: 0.4255 - val_accuracy: 0.7999\n",
      "Epoch 38/165\n",
      "50/50 [==============================] - 0s 9ms/step - loss: 0.4366 - accuracy: 0.7912 - val_loss: 0.4248 - val_accuracy: 0.8028\n",
      "Epoch 39/165\n",
      "50/50 [==============================] - 0s 9ms/step - loss: 0.4260 - accuracy: 0.7996 - val_loss: 0.4263 - val_accuracy: 0.8005\n",
      "Epoch 40/165\n",
      "50/50 [==============================] - 0s 9ms/step - loss: 0.4298 - accuracy: 0.7925 - val_loss: 0.4277 - val_accuracy: 0.7941\n",
      "Epoch 41/165\n",
      "50/50 [==============================] - 0s 9ms/step - loss: 0.4213 - accuracy: 0.8026 - val_loss: 0.4251 - val_accuracy: 0.8028\n",
      "Epoch 42/165\n",
      "50/50 [==============================] - 0s 9ms/step - loss: 0.4208 - accuracy: 0.8071 - val_loss: 0.4272 - val_accuracy: 0.7982\n",
      "Epoch 43/165\n",
      "50/50 [==============================] - 0s 9ms/step - loss: 0.4304 - accuracy: 0.7989 - val_loss: 0.4261 - val_accuracy: 0.8028\n",
      "Epoch 44/165\n",
      "50/50 [==============================] - 0s 9ms/step - loss: 0.4199 - accuracy: 0.8037 - val_loss: 0.4275 - val_accuracy: 0.8039\n",
      "Epoch 45/165\n",
      "50/50 [==============================] - 1s 10ms/step - loss: 0.4165 - accuracy: 0.8074 - val_loss: 0.4251 - val_accuracy: 0.8022\n",
      "Epoch 46/165\n",
      "50/50 [==============================] - 0s 9ms/step - loss: 0.4326 - accuracy: 0.7934 - val_loss: 0.4245 - val_accuracy: 0.8016\n",
      "Epoch 47/165\n",
      "50/50 [==============================] - 0s 9ms/step - loss: 0.4252 - accuracy: 0.7987 - val_loss: 0.4274 - val_accuracy: 0.8016\n",
      "Epoch 48/165\n",
      "50/50 [==============================] - 0s 9ms/step - loss: 0.4103 - accuracy: 0.8078 - val_loss: 0.4284 - val_accuracy: 0.8051\n",
      "Epoch 49/165\n",
      "50/50 [==============================] - 0s 9ms/step - loss: 0.4331 - accuracy: 0.7912 - val_loss: 0.4264 - val_accuracy: 0.8051\n",
      "Epoch 50/165\n",
      "50/50 [==============================] - 0s 9ms/step - loss: 0.4193 - accuracy: 0.8041 - val_loss: 0.4246 - val_accuracy: 0.7999\n",
      "Epoch 51/165\n",
      "50/50 [==============================] - 0s 9ms/step - loss: 0.4278 - accuracy: 0.7981 - val_loss: 0.4282 - val_accuracy: 0.8045\n",
      "Epoch 52/165\n",
      "50/50 [==============================] - 0s 9ms/step - loss: 0.4274 - accuracy: 0.8019 - val_loss: 0.4255 - val_accuracy: 0.8051\n",
      "Epoch 53/165\n",
      "50/50 [==============================] - 0s 9ms/step - loss: 0.4259 - accuracy: 0.7992 - val_loss: 0.4249 - val_accuracy: 0.8010\n",
      "Epoch 54/165\n",
      "50/50 [==============================] - 0s 9ms/step - loss: 0.4189 - accuracy: 0.8048 - val_loss: 0.4246 - val_accuracy: 0.8033\n",
      "Epoch 55/165\n",
      "50/50 [==============================] - 0s 9ms/step - loss: 0.4298 - accuracy: 0.7959 - val_loss: 0.4250 - val_accuracy: 0.8022\n",
      "Epoch 56/165\n",
      "50/50 [==============================] - 0s 10ms/step - loss: 0.4228 - accuracy: 0.8015 - val_loss: 0.4271 - val_accuracy: 0.8033\n",
      "Epoch 57/165\n",
      "50/50 [==============================] - 0s 9ms/step - loss: 0.4243 - accuracy: 0.7995 - val_loss: 0.4246 - val_accuracy: 0.8045\n",
      "Epoch 58/165\n",
      "50/50 [==============================] - 0s 9ms/step - loss: 0.4075 - accuracy: 0.8048 - val_loss: 0.4238 - val_accuracy: 0.8039\n"
     ]
    },
    {
     "name": "stdout",
     "output_type": "stream",
     "text": [
      "Epoch 59/165\n",
      "50/50 [==============================] - 0s 9ms/step - loss: 0.4256 - accuracy: 0.7986 - val_loss: 0.4248 - val_accuracy: 0.8051\n",
      "Epoch 60/165\n",
      "50/50 [==============================] - 0s 9ms/step - loss: 0.4308 - accuracy: 0.7936 - val_loss: 0.4238 - val_accuracy: 0.8016\n",
      "Epoch 61/165\n",
      "50/50 [==============================] - 0s 9ms/step - loss: 0.4190 - accuracy: 0.8024 - val_loss: 0.4244 - val_accuracy: 0.8039\n",
      "Epoch 62/165\n",
      "50/50 [==============================] - 0s 9ms/step - loss: 0.4152 - accuracy: 0.8114 - val_loss: 0.4254 - val_accuracy: 0.8010\n",
      "Epoch 63/165\n",
      "50/50 [==============================] - 0s 9ms/step - loss: 0.4316 - accuracy: 0.8001 - val_loss: 0.4274 - val_accuracy: 0.7999\n",
      "Epoch 64/165\n",
      "50/50 [==============================] - 0s 9ms/step - loss: 0.4212 - accuracy: 0.8010 - val_loss: 0.4274 - val_accuracy: 0.8005\n",
      "Epoch 65/165\n",
      "50/50 [==============================] - 0s 9ms/step - loss: 0.4178 - accuracy: 0.8070 - val_loss: 0.4256 - val_accuracy: 0.8010\n",
      "Epoch 66/165\n",
      "50/50 [==============================] - 0s 8ms/step - loss: 0.4273 - accuracy: 0.8044 - val_loss: 0.4252 - val_accuracy: 0.8005\n",
      "Epoch 67/165\n",
      "50/50 [==============================] - 0s 9ms/step - loss: 0.4197 - accuracy: 0.7983 - val_loss: 0.4246 - val_accuracy: 0.8033\n",
      "Epoch 68/165\n",
      "50/50 [==============================] - 0s 9ms/step - loss: 0.4229 - accuracy: 0.7985 - val_loss: 0.4250 - val_accuracy: 0.8039\n",
      "Epoch 69/165\n",
      "50/50 [==============================] - 0s 9ms/step - loss: 0.4418 - accuracy: 0.7854 - val_loss: 0.4265 - val_accuracy: 0.8010\n",
      "Epoch 70/165\n",
      "50/50 [==============================] - 0s 9ms/step - loss: 0.4338 - accuracy: 0.7918 - val_loss: 0.4247 - val_accuracy: 0.8051\n",
      "Epoch 71/165\n",
      "50/50 [==============================] - 0s 9ms/step - loss: 0.4278 - accuracy: 0.7968 - val_loss: 0.4257 - val_accuracy: 0.7999\n",
      "Epoch 72/165\n",
      "50/50 [==============================] - 0s 9ms/step - loss: 0.4238 - accuracy: 0.7978 - val_loss: 0.4238 - val_accuracy: 0.8045\n",
      "Epoch 73/165\n",
      "50/50 [==============================] - 0s 9ms/step - loss: 0.4209 - accuracy: 0.8019 - val_loss: 0.4256 - val_accuracy: 0.8005\n",
      "Epoch 74/165\n",
      "50/50 [==============================] - 0s 9ms/step - loss: 0.4209 - accuracy: 0.8060 - val_loss: 0.4271 - val_accuracy: 0.8022\n",
      "Epoch 75/165\n",
      "50/50 [==============================] - 0s 9ms/step - loss: 0.4164 - accuracy: 0.8035 - val_loss: 0.4236 - val_accuracy: 0.8045\n",
      "Epoch 76/165\n",
      "50/50 [==============================] - 0s 9ms/step - loss: 0.4355 - accuracy: 0.7902 - val_loss: 0.4237 - val_accuracy: 0.8074\n",
      "Epoch 77/165\n",
      "50/50 [==============================] - 0s 9ms/step - loss: 0.4219 - accuracy: 0.8102 - val_loss: 0.4255 - val_accuracy: 0.8033\n",
      "Epoch 78/165\n",
      "50/50 [==============================] - 0s 9ms/step - loss: 0.4301 - accuracy: 0.7907 - val_loss: 0.4257 - val_accuracy: 0.8016\n",
      "Epoch 79/165\n",
      "50/50 [==============================] - 0s 9ms/step - loss: 0.4211 - accuracy: 0.8067 - val_loss: 0.4246 - val_accuracy: 0.8062\n",
      "Epoch 80/165\n",
      "50/50 [==============================] - 0s 9ms/step - loss: 0.4210 - accuracy: 0.7995 - val_loss: 0.4246 - val_accuracy: 0.8056\n",
      "Epoch 81/165\n",
      "50/50 [==============================] - 0s 9ms/step - loss: 0.4266 - accuracy: 0.7949 - val_loss: 0.4248 - val_accuracy: 0.8039\n",
      "Epoch 82/165\n",
      "50/50 [==============================] - 0s 9ms/step - loss: 0.4204 - accuracy: 0.8045 - val_loss: 0.4251 - val_accuracy: 0.8062\n",
      "Epoch 83/165\n",
      "50/50 [==============================] - 0s 9ms/step - loss: 0.4239 - accuracy: 0.7961 - val_loss: 0.4253 - val_accuracy: 0.8062\n",
      "Epoch 84/165\n",
      "50/50 [==============================] - 0s 9ms/step - loss: 0.4255 - accuracy: 0.8000 - val_loss: 0.4246 - val_accuracy: 0.8051\n",
      "Epoch 85/165\n",
      "50/50 [==============================] - 0s 9ms/step - loss: 0.4236 - accuracy: 0.7989 - val_loss: 0.4243 - val_accuracy: 0.8051\n",
      "Epoch 86/165\n",
      "50/50 [==============================] - 0s 9ms/step - loss: 0.4236 - accuracy: 0.8002 - val_loss: 0.4259 - val_accuracy: 0.8045\n",
      "Epoch 87/165\n",
      "50/50 [==============================] - 0s 9ms/step - loss: 0.4176 - accuracy: 0.8032 - val_loss: 0.4236 - val_accuracy: 0.8051\n",
      "Epoch 88/165\n",
      "50/50 [==============================] - 0s 10ms/step - loss: 0.4227 - accuracy: 0.8002 - val_loss: 0.4234 - val_accuracy: 0.8028\n",
      "Epoch 89/165\n",
      "50/50 [==============================] - 1s 10ms/step - loss: 0.4256 - accuracy: 0.7949 - val_loss: 0.4238 - val_accuracy: 0.8051\n",
      "Epoch 90/165\n",
      "50/50 [==============================] - 1s 10ms/step - loss: 0.4201 - accuracy: 0.8028 - val_loss: 0.4235 - val_accuracy: 0.8051\n",
      "Epoch 91/165\n",
      "50/50 [==============================] - 1s 11ms/step - loss: 0.4098 - accuracy: 0.8073 - val_loss: 0.4240 - val_accuracy: 0.8016\n",
      "Epoch 92/165\n",
      "50/50 [==============================] - 1s 11ms/step - loss: 0.4212 - accuracy: 0.8005 - val_loss: 0.4249 - val_accuracy: 0.8022\n",
      "Epoch 93/165\n",
      "50/50 [==============================] - 1s 10ms/step - loss: 0.4231 - accuracy: 0.8018 - val_loss: 0.4264 - val_accuracy: 0.8062\n",
      "Epoch 94/165\n",
      "50/50 [==============================] - 0s 9ms/step - loss: 0.4183 - accuracy: 0.8016 - val_loss: 0.4244 - val_accuracy: 0.8056\n",
      "Epoch 95/165\n",
      "50/50 [==============================] - 0s 10ms/step - loss: 0.4291 - accuracy: 0.7978 - val_loss: 0.4236 - val_accuracy: 0.8056\n",
      "Epoch 96/165\n",
      "50/50 [==============================] - 0s 9ms/step - loss: 0.4215 - accuracy: 0.8057 - val_loss: 0.4237 - val_accuracy: 0.8062\n",
      "Epoch 97/165\n",
      "50/50 [==============================] - 0s 9ms/step - loss: 0.4215 - accuracy: 0.8021 - val_loss: 0.4239 - val_accuracy: 0.8022\n",
      "Epoch 98/165\n",
      "50/50 [==============================] - 0s 9ms/step - loss: 0.4177 - accuracy: 0.8079 - val_loss: 0.4261 - val_accuracy: 0.8028\n",
      "Epoch 99/165\n",
      "50/50 [==============================] - 0s 9ms/step - loss: 0.4251 - accuracy: 0.7933 - val_loss: 0.4242 - val_accuracy: 0.8039\n",
      "Epoch 100/165\n",
      "50/50 [==============================] - 0s 9ms/step - loss: 0.4272 - accuracy: 0.7992 - val_loss: 0.4274 - val_accuracy: 0.8028\n",
      "Epoch 101/165\n",
      "50/50 [==============================] - 0s 9ms/step - loss: 0.4232 - accuracy: 0.7994 - val_loss: 0.4241 - val_accuracy: 0.8056\n",
      "Epoch 102/165\n",
      "50/50 [==============================] - 0s 9ms/step - loss: 0.4221 - accuracy: 0.8023 - val_loss: 0.4239 - val_accuracy: 0.8056\n",
      "Epoch 103/165\n",
      "50/50 [==============================] - 0s 9ms/step - loss: 0.4184 - accuracy: 0.8009 - val_loss: 0.4243 - val_accuracy: 0.8051\n",
      "Epoch 104/165\n",
      "50/50 [==============================] - 0s 9ms/step - loss: 0.4287 - accuracy: 0.7961 - val_loss: 0.4223 - val_accuracy: 0.8074\n",
      "Epoch 105/165\n",
      "50/50 [==============================] - 0s 9ms/step - loss: 0.4170 - accuracy: 0.8073 - val_loss: 0.4238 - val_accuracy: 0.8039\n",
      "Epoch 106/165\n",
      "50/50 [==============================] - 0s 9ms/step - loss: 0.4214 - accuracy: 0.8086 - val_loss: 0.4256 - val_accuracy: 0.8068\n",
      "Epoch 107/165\n",
      "50/50 [==============================] - 0s 9ms/step - loss: 0.4297 - accuracy: 0.7937 - val_loss: 0.4234 - val_accuracy: 0.8016\n",
      "Epoch 108/165\n",
      "50/50 [==============================] - 0s 9ms/step - loss: 0.4199 - accuracy: 0.8040 - val_loss: 0.4256 - val_accuracy: 0.8033\n",
      "Epoch 109/165\n",
      "50/50 [==============================] - 0s 9ms/step - loss: 0.4179 - accuracy: 0.8053 - val_loss: 0.4242 - val_accuracy: 0.8022\n",
      "Epoch 110/165\n",
      "50/50 [==============================] - 0s 9ms/step - loss: 0.4260 - accuracy: 0.8027 - val_loss: 0.4244 - val_accuracy: 0.8045\n",
      "Epoch 111/165\n",
      "50/50 [==============================] - 0s 9ms/step - loss: 0.4114 - accuracy: 0.8100 - val_loss: 0.4240 - val_accuracy: 0.8028\n",
      "Epoch 112/165\n",
      "50/50 [==============================] - 0s 9ms/step - loss: 0.4153 - accuracy: 0.7991 - val_loss: 0.4250 - val_accuracy: 0.8028\n",
      "Epoch 113/165\n",
      "50/50 [==============================] - 0s 9ms/step - loss: 0.4271 - accuracy: 0.8005 - val_loss: 0.4235 - val_accuracy: 0.8074\n",
      "Epoch 114/165\n",
      "50/50 [==============================] - 1s 10ms/step - loss: 0.4330 - accuracy: 0.7937 - val_loss: 0.4243 - val_accuracy: 0.8062\n",
      "Epoch 115/165\n",
      "50/50 [==============================] - 0s 8ms/step - loss: 0.4267 - accuracy: 0.8041 - val_loss: 0.4241 - val_accuracy: 0.8062\n",
      "Epoch 116/165\n"
     ]
    },
    {
     "name": "stdout",
     "output_type": "stream",
     "text": [
      "50/50 [==============================] - 0s 9ms/step - loss: 0.4236 - accuracy: 0.8008 - val_loss: 0.4247 - val_accuracy: 0.8062\n",
      "Epoch 117/165\n",
      "50/50 [==============================] - 0s 9ms/step - loss: 0.4317 - accuracy: 0.7993 - val_loss: 0.4249 - val_accuracy: 0.8062\n",
      "Epoch 118/165\n",
      "50/50 [==============================] - 0s 9ms/step - loss: 0.4242 - accuracy: 0.8083 - val_loss: 0.4249 - val_accuracy: 0.8056\n",
      "Epoch 119/165\n",
      "50/50 [==============================] - 0s 9ms/step - loss: 0.4096 - accuracy: 0.8123 - val_loss: 0.4241 - val_accuracy: 0.8039\n",
      "Epoch 120/165\n",
      "50/50 [==============================] - 0s 9ms/step - loss: 0.4172 - accuracy: 0.8066 - val_loss: 0.4252 - val_accuracy: 0.8028\n",
      "Epoch 121/165\n",
      "50/50 [==============================] - 0s 9ms/step - loss: 0.4112 - accuracy: 0.8064 - val_loss: 0.4234 - val_accuracy: 0.8045\n",
      "Epoch 122/165\n",
      "50/50 [==============================] - 0s 9ms/step - loss: 0.4151 - accuracy: 0.8077 - val_loss: 0.4253 - val_accuracy: 0.8039\n",
      "Epoch 123/165\n",
      "50/50 [==============================] - 0s 9ms/step - loss: 0.4200 - accuracy: 0.8011 - val_loss: 0.4225 - val_accuracy: 0.8062\n",
      "Epoch 124/165\n",
      "50/50 [==============================] - 0s 9ms/step - loss: 0.4233 - accuracy: 0.7982 - val_loss: 0.4235 - val_accuracy: 0.8062\n",
      "Epoch 125/165\n",
      "50/50 [==============================] - 0s 9ms/step - loss: 0.4134 - accuracy: 0.8108 - val_loss: 0.4264 - val_accuracy: 0.8056\n",
      "Epoch 126/165\n",
      "50/50 [==============================] - 0s 9ms/step - loss: 0.4135 - accuracy: 0.8080 - val_loss: 0.4239 - val_accuracy: 0.8056\n",
      "Epoch 127/165\n",
      "50/50 [==============================] - 0s 9ms/step - loss: 0.4189 - accuracy: 0.8070 - val_loss: 0.4238 - val_accuracy: 0.8051\n",
      "Epoch 128/165\n",
      "50/50 [==============================] - 0s 9ms/step - loss: 0.4031 - accuracy: 0.8156 - val_loss: 0.4252 - val_accuracy: 0.8051\n",
      "Epoch 129/165\n",
      "50/50 [==============================] - 0s 9ms/step - loss: 0.4171 - accuracy: 0.8093 - val_loss: 0.4246 - val_accuracy: 0.8056\n",
      "Epoch 130/165\n",
      "50/50 [==============================] - 0s 9ms/step - loss: 0.4145 - accuracy: 0.8084 - val_loss: 0.4238 - val_accuracy: 0.8056\n",
      "Epoch 131/165\n",
      "50/50 [==============================] - 0s 9ms/step - loss: 0.4247 - accuracy: 0.7992 - val_loss: 0.4287 - val_accuracy: 0.8033\n",
      "Epoch 132/165\n",
      "50/50 [==============================] - 0s 9ms/step - loss: 0.4209 - accuracy: 0.8004 - val_loss: 0.4255 - val_accuracy: 0.8068\n",
      "Epoch 133/165\n",
      "50/50 [==============================] - 0s 9ms/step - loss: 0.4259 - accuracy: 0.7968 - val_loss: 0.4226 - val_accuracy: 0.8068\n",
      "Epoch 134/165\n",
      "50/50 [==============================] - 0s 9ms/step - loss: 0.4147 - accuracy: 0.8104 - val_loss: 0.4238 - val_accuracy: 0.8039\n",
      "Epoch 135/165\n",
      "50/50 [==============================] - 0s 9ms/step - loss: 0.4189 - accuracy: 0.8040 - val_loss: 0.4233 - val_accuracy: 0.8074\n",
      "Epoch 136/165\n",
      "50/50 [==============================] - 0s 9ms/step - loss: 0.4156 - accuracy: 0.8044 - val_loss: 0.4225 - val_accuracy: 0.8051\n",
      "Epoch 137/165\n",
      "50/50 [==============================] - 0s 9ms/step - loss: 0.4220 - accuracy: 0.8017 - val_loss: 0.4268 - val_accuracy: 0.8033\n",
      "Epoch 138/165\n",
      "50/50 [==============================] - 0s 9ms/step - loss: 0.4199 - accuracy: 0.8046 - val_loss: 0.4237 - val_accuracy: 0.8056\n",
      "Epoch 139/165\n",
      "50/50 [==============================] - 0s 9ms/step - loss: 0.4245 - accuracy: 0.7984 - val_loss: 0.4255 - val_accuracy: 0.8051\n",
      "Epoch 140/165\n",
      "50/50 [==============================] - 0s 9ms/step - loss: 0.4204 - accuracy: 0.7996 - val_loss: 0.4240 - val_accuracy: 0.8051\n",
      "Epoch 141/165\n",
      "50/50 [==============================] - 0s 9ms/step - loss: 0.4187 - accuracy: 0.8021 - val_loss: 0.4264 - val_accuracy: 0.8045\n",
      "Epoch 142/165\n",
      "50/50 [==============================] - 0s 8ms/step - loss: 0.4264 - accuracy: 0.7961 - val_loss: 0.4250 - val_accuracy: 0.8022\n",
      "Epoch 143/165\n",
      "50/50 [==============================] - 0s 9ms/step - loss: 0.4079 - accuracy: 0.8111 - val_loss: 0.4258 - val_accuracy: 0.8051\n",
      "Epoch 144/165\n",
      "50/50 [==============================] - 0s 9ms/step - loss: 0.4255 - accuracy: 0.7983 - val_loss: 0.4232 - val_accuracy: 0.8056\n",
      "Epoch 145/165\n",
      "50/50 [==============================] - 0s 9ms/step - loss: 0.4186 - accuracy: 0.8026 - val_loss: 0.4234 - val_accuracy: 0.8068\n",
      "Epoch 146/165\n",
      "50/50 [==============================] - 0s 9ms/step - loss: 0.4165 - accuracy: 0.8059 - val_loss: 0.4232 - val_accuracy: 0.8051\n",
      "Epoch 147/165\n",
      "50/50 [==============================] - 0s 9ms/step - loss: 0.4165 - accuracy: 0.8042 - val_loss: 0.4240 - val_accuracy: 0.8045\n",
      "Epoch 148/165\n",
      "50/50 [==============================] - 0s 9ms/step - loss: 0.4329 - accuracy: 0.8019 - val_loss: 0.4253 - val_accuracy: 0.8068\n",
      "Epoch 149/165\n",
      "50/50 [==============================] - 0s 8ms/step - loss: 0.4144 - accuracy: 0.8059 - val_loss: 0.4243 - val_accuracy: 0.8062\n",
      "Epoch 150/165\n",
      "50/50 [==============================] - 0s 9ms/step - loss: 0.4120 - accuracy: 0.8117 - val_loss: 0.4271 - val_accuracy: 0.7982\n",
      "Epoch 151/165\n",
      "50/50 [==============================] - 0s 9ms/step - loss: 0.4290 - accuracy: 0.8016 - val_loss: 0.4292 - val_accuracy: 0.7970\n",
      "Epoch 152/165\n",
      "50/50 [==============================] - 0s 9ms/step - loss: 0.4088 - accuracy: 0.8111 - val_loss: 0.4237 - val_accuracy: 0.8010\n",
      "Epoch 153/165\n",
      "50/50 [==============================] - 0s 9ms/step - loss: 0.4216 - accuracy: 0.8054 - val_loss: 0.4259 - val_accuracy: 0.8051\n",
      "Epoch 154/165\n",
      "50/50 [==============================] - 0s 9ms/step - loss: 0.4165 - accuracy: 0.8049 - val_loss: 0.4240 - val_accuracy: 0.8056\n",
      "Epoch 155/165\n",
      "50/50 [==============================] - 0s 9ms/step - loss: 0.4219 - accuracy: 0.7989 - val_loss: 0.4259 - val_accuracy: 0.8051\n",
      "Epoch 156/165\n",
      "50/50 [==============================] - 0s 9ms/step - loss: 0.4164 - accuracy: 0.8047 - val_loss: 0.4239 - val_accuracy: 0.8045\n",
      "Epoch 157/165\n",
      "50/50 [==============================] - 0s 10ms/step - loss: 0.4134 - accuracy: 0.8011 - val_loss: 0.4233 - val_accuracy: 0.8056\n",
      "Epoch 158/165\n",
      "50/50 [==============================] - 0s 8ms/step - loss: 0.4242 - accuracy: 0.7989 - val_loss: 0.4227 - val_accuracy: 0.8056\n",
      "Epoch 159/165\n",
      "50/50 [==============================] - 0s 9ms/step - loss: 0.4222 - accuracy: 0.8004 - val_loss: 0.4250 - val_accuracy: 0.8079\n",
      "Epoch 160/165\n",
      "50/50 [==============================] - 0s 9ms/step - loss: 0.4159 - accuracy: 0.8023 - val_loss: 0.4229 - val_accuracy: 0.8056\n",
      "Epoch 161/165\n",
      "50/50 [==============================] - 0s 9ms/step - loss: 0.4323 - accuracy: 0.7952 - val_loss: 0.4238 - val_accuracy: 0.8074\n",
      "Epoch 162/165\n",
      "50/50 [==============================] - 0s 8ms/step - loss: 0.4202 - accuracy: 0.8001 - val_loss: 0.4237 - val_accuracy: 0.8068\n",
      "Epoch 163/165\n",
      "50/50 [==============================] - 0s 9ms/step - loss: 0.4263 - accuracy: 0.7997 - val_loss: 0.4273 - val_accuracy: 0.7993\n",
      "Epoch 164/165\n",
      "50/50 [==============================] - 0s 9ms/step - loss: 0.4175 - accuracy: 0.8038 - val_loss: 0.4249 - val_accuracy: 0.8068\n",
      "Epoch 165/165\n",
      "50/50 [==============================] - 0s 9ms/step - loss: 0.4252 - accuracy: 0.8007 - val_loss: 0.4242 - val_accuracy: 0.8056\n"
     ]
    },
    {
     "data": {
      "text/plain": [
       "<tensorflow.python.keras.callbacks.History at 0x23a6a53aaf0>"
      ]
     },
     "execution_count": 266,
     "metadata": {},
     "output_type": "execute_result"
    }
   ],
   "source": [
    "m2.fit(x=x_train_sc,y=y_train,epochs=165,validation_data=(x_test_sc, y_test), batch_size=140)"
   ]
  },
  {
   "cell_type": "code",
   "execution_count": 267,
   "metadata": {},
   "outputs": [
    {
     "data": {
      "image/png": "[encoded data removed]",
      "text/plain": [
       "<Figure size 640x480 with 1 Axes>"
      ]
     },
     "metadata": {},
     "output_type": "display_data"
    }
   ],
   "source": [
    "train_acc = m2.history.history[\"accuracy\"]\n",
    "val_acc = m2.history.history[\"val_accuracy\"]\n",
    "\n",
    "plt.plot(train_acc)\n",
    "plt.plot(val_acc)\n",
    "plt.xlabel(\"Epochs\")\n",
    "plt.ylabel(\"Accuracy\")\n",
    "#plt.ylim((0.64,0.8))\n",
    "plt.legend([\"Train\", \"Test\"])\n",
    "plt.grid()\n",
    "plt.show()"
   ]
  },
  {
   "cell_type": "markdown",
   "metadata": {},
   "source": [
    "# Final Model"
   ]
  },
  {
   "cell_type": "code",
   "execution_count": 321,
   "metadata": {},
   "outputs": [
    {
     "data": {
      "text/html": [
       "<div>\n",
       "<style scoped>\n",
       "    .dataframe tbody tr th:only-of-type {\n",
       "        vertical-align: middle;\n",
       "    }\n",
       "\n",
       "    .dataframe tbody tr th {\n",
       "        vertical-align: top;\n",
       "    }\n",
       "\n",
       "    .dataframe thead th {\n",
       "        text-align: right;\n",
       "    }\n",
       "</style>\n",
       "<table border=\"1\" class=\"dataframe\">\n",
       "  <thead>\n",
       "    <tr style=\"text-align: right;\">\n",
       "      <th></th>\n",
       "      <th>HomePlanet</th>\n",
       "      <th>CryoSleep</th>\n",
       "      <th>Destination</th>\n",
       "      <th>Age</th>\n",
       "      <th>VIP</th>\n",
       "      <th>RoomService</th>\n",
       "      <th>FoodCourt</th>\n",
       "      <th>ShoppingMall</th>\n",
       "      <th>Spa</th>\n",
       "      <th>VRDeck</th>\n",
       "    </tr>\n",
       "  </thead>\n",
       "  <tbody>\n",
       "    <tr>\n",
       "      <th>0</th>\n",
       "      <td>1</td>\n",
       "      <td>0</td>\n",
       "      <td>2</td>\n",
       "      <td>39.0</td>\n",
       "      <td>0</td>\n",
       "      <td>0.0</td>\n",
       "      <td>0.0</td>\n",
       "      <td>0.0</td>\n",
       "      <td>0.0</td>\n",
       "      <td>0.0</td>\n",
       "    </tr>\n",
       "    <tr>\n",
       "      <th>1</th>\n",
       "      <td>0</td>\n",
       "      <td>0</td>\n",
       "      <td>2</td>\n",
       "      <td>24.0</td>\n",
       "      <td>0</td>\n",
       "      <td>109.0</td>\n",
       "      <td>9.0</td>\n",
       "      <td>25.0</td>\n",
       "      <td>549.0</td>\n",
       "      <td>44.0</td>\n",
       "    </tr>\n",
       "    <tr>\n",
       "      <th>2</th>\n",
       "      <td>1</td>\n",
       "      <td>0</td>\n",
       "      <td>2</td>\n",
       "      <td>58.0</td>\n",
       "      <td>1</td>\n",
       "      <td>43.0</td>\n",
       "      <td>3576.0</td>\n",
       "      <td>0.0</td>\n",
       "      <td>6715.0</td>\n",
       "      <td>49.0</td>\n",
       "    </tr>\n",
       "    <tr>\n",
       "      <th>3</th>\n",
       "      <td>1</td>\n",
       "      <td>0</td>\n",
       "      <td>2</td>\n",
       "      <td>33.0</td>\n",
       "      <td>0</td>\n",
       "      <td>0.0</td>\n",
       "      <td>1283.0</td>\n",
       "      <td>371.0</td>\n",
       "      <td>3329.0</td>\n",
       "      <td>193.0</td>\n",
       "    </tr>\n",
       "    <tr>\n",
       "      <th>4</th>\n",
       "      <td>0</td>\n",
       "      <td>0</td>\n",
       "      <td>2</td>\n",
       "      <td>16.0</td>\n",
       "      <td>0</td>\n",
       "      <td>303.0</td>\n",
       "      <td>70.0</td>\n",
       "      <td>151.0</td>\n",
       "      <td>565.0</td>\n",
       "      <td>2.0</td>\n",
       "    </tr>\n",
       "    <tr>\n",
       "      <th>...</th>\n",
       "      <td>...</td>\n",
       "      <td>...</td>\n",
       "      <td>...</td>\n",
       "      <td>...</td>\n",
       "      <td>...</td>\n",
       "      <td>...</td>\n",
       "      <td>...</td>\n",
       "      <td>...</td>\n",
       "      <td>...</td>\n",
       "      <td>...</td>\n",
       "    </tr>\n",
       "    <tr>\n",
       "      <th>8688</th>\n",
       "      <td>1</td>\n",
       "      <td>0</td>\n",
       "      <td>0</td>\n",
       "      <td>41.0</td>\n",
       "      <td>1</td>\n",
       "      <td>0.0</td>\n",
       "      <td>6819.0</td>\n",
       "      <td>0.0</td>\n",
       "      <td>1643.0</td>\n",
       "      <td>74.0</td>\n",
       "    </tr>\n",
       "    <tr>\n",
       "      <th>8689</th>\n",
       "      <td>0</td>\n",
       "      <td>1</td>\n",
       "      <td>1</td>\n",
       "      <td>18.0</td>\n",
       "      <td>0</td>\n",
       "      <td>0.0</td>\n",
       "      <td>0.0</td>\n",
       "      <td>0.0</td>\n",
       "      <td>0.0</td>\n",
       "      <td>0.0</td>\n",
       "    </tr>\n",
       "    <tr>\n",
       "      <th>8690</th>\n",
       "      <td>0</td>\n",
       "      <td>0</td>\n",
       "      <td>2</td>\n",
       "      <td>26.0</td>\n",
       "      <td>0</td>\n",
       "      <td>0.0</td>\n",
       "      <td>0.0</td>\n",
       "      <td>1872.0</td>\n",
       "      <td>1.0</td>\n",
       "      <td>0.0</td>\n",
       "    </tr>\n",
       "    <tr>\n",
       "      <th>8691</th>\n",
       "      <td>1</td>\n",
       "      <td>0</td>\n",
       "      <td>0</td>\n",
       "      <td>32.0</td>\n",
       "      <td>0</td>\n",
       "      <td>0.0</td>\n",
       "      <td>1049.0</td>\n",
       "      <td>0.0</td>\n",
       "      <td>353.0</td>\n",
       "      <td>3235.0</td>\n",
       "    </tr>\n",
       "    <tr>\n",
       "      <th>8692</th>\n",
       "      <td>1</td>\n",
       "      <td>0</td>\n",
       "      <td>2</td>\n",
       "      <td>44.0</td>\n",
       "      <td>0</td>\n",
       "      <td>126.0</td>\n",
       "      <td>4688.0</td>\n",
       "      <td>0.0</td>\n",
       "      <td>0.0</td>\n",
       "      <td>12.0</td>\n",
       "    </tr>\n",
       "  </tbody>\n",
       "</table>\n",
       "<p>8693 rows × 10 columns</p>\n",
       "</div>"
      ],
      "text/plain": [
       "      HomePlanet  CryoSleep  Destination   Age  VIP  RoomService  FoodCourt  \\\n",
       "0              1          0            2  39.0    0          0.0        0.0   \n",
       "1              0          0            2  24.0    0        109.0        9.0   \n",
       "2              1          0            2  58.0    1         43.0     3576.0   \n",
       "3              1          0            2  33.0    0          0.0     1283.0   \n",
       "4              0          0            2  16.0    0        303.0       70.0   \n",
       "...          ...        ...          ...   ...  ...          ...        ...   \n",
       "8688           1          0            0  41.0    1          0.0     6819.0   \n",
       "8689           0          1            1  18.0    0          0.0        0.0   \n",
       "8690           0          0            2  26.0    0          0.0        0.0   \n",
       "8691           1          0            0  32.0    0          0.0     1049.0   \n",
       "8692           1          0            2  44.0    0        126.0     4688.0   \n",
       "\n",
       "      ShoppingMall     Spa  VRDeck  \n",
       "0              0.0     0.0     0.0  \n",
       "1             25.0   549.0    44.0  \n",
       "2              0.0  6715.0    49.0  \n",
       "3            371.0  3329.0   193.0  \n",
       "4            151.0   565.0     2.0  \n",
       "...            ...     ...     ...  \n",
       "8688           0.0  1643.0    74.0  \n",
       "8689           0.0     0.0     0.0  \n",
       "8690        1872.0     1.0     0.0  \n",
       "8691           0.0   353.0  3235.0  \n",
       "8692           0.0     0.0    12.0  \n",
       "\n",
       "[8693 rows x 10 columns]"
      ]
     },
     "execution_count": 321,
     "metadata": {},
     "output_type": "execute_result"
    }
   ],
   "source": [
    "X"
   ]
  },
  {
   "cell_type": "code",
   "execution_count": 322,
   "metadata": {},
   "outputs": [
    {
     "data": {
      "text/plain": [
       "0       0\n",
       "1       1\n",
       "2       0\n",
       "3       0\n",
       "4       1\n",
       "       ..\n",
       "8688    0\n",
       "8689    0\n",
       "8690    1\n",
       "8691    0\n",
       "8692    1\n",
       "Name: Transported, Length: 8693, dtype: int32"
      ]
     },
     "execution_count": 322,
     "metadata": {},
     "output_type": "execute_result"
    }
   ],
   "source": [
    "y"
   ]
  },
  {
   "cell_type": "code",
   "execution_count": 323,
   "metadata": {},
   "outputs": [],
   "source": [
    "X=scaler.fit_transform(X)"
   ]
  },
  {
   "cell_type": "code",
   "execution_count": 324,
   "metadata": {},
   "outputs": [],
   "source": [
    "test=pd.read_csv(\"test.csv\")"
   ]
  },
  {
   "cell_type": "code",
   "execution_count": 325,
   "metadata": {},
   "outputs": [
    {
     "data": {
      "text/html": [
       "<div>\n",
       "<style scoped>\n",
       "    .dataframe tbody tr th:only-of-type {\n",
       "        vertical-align: middle;\n",
       "    }\n",
       "\n",
       "    .dataframe tbody tr th {\n",
       "        vertical-align: top;\n",
       "    }\n",
       "\n",
       "    .dataframe thead th {\n",
       "        text-align: right;\n",
       "    }\n",
       "</style>\n",
       "<table border=\"1\" class=\"dataframe\">\n",
       "  <thead>\n",
       "    <tr style=\"text-align: right;\">\n",
       "      <th></th>\n",
       "      <th>PassengerId</th>\n",
       "      <th>HomePlanet</th>\n",
       "      <th>CryoSleep</th>\n",
       "      <th>Cabin</th>\n",
       "      <th>Destination</th>\n",
       "      <th>Age</th>\n",
       "      <th>VIP</th>\n",
       "      <th>RoomService</th>\n",
       "      <th>FoodCourt</th>\n",
       "      <th>ShoppingMall</th>\n",
       "      <th>Spa</th>\n",
       "      <th>VRDeck</th>\n",
       "      <th>Name</th>\n",
       "    </tr>\n",
       "  </thead>\n",
       "  <tbody>\n",
       "    <tr>\n",
       "      <th>0</th>\n",
       "      <td>0013_01</td>\n",
       "      <td>Earth</td>\n",
       "      <td>True</td>\n",
       "      <td>G/3/S</td>\n",
       "      <td>TRAPPIST-1e</td>\n",
       "      <td>27.0</td>\n",
       "      <td>False</td>\n",
       "      <td>0.0</td>\n",
       "      <td>0.0</td>\n",
       "      <td>0.0</td>\n",
       "      <td>0.0</td>\n",
       "      <td>0.0</td>\n",
       "      <td>Nelly Carsoning</td>\n",
       "    </tr>\n",
       "    <tr>\n",
       "      <th>1</th>\n",
       "      <td>0018_01</td>\n",
       "      <td>Earth</td>\n",
       "      <td>False</td>\n",
       "      <td>F/4/S</td>\n",
       "      <td>TRAPPIST-1e</td>\n",
       "      <td>19.0</td>\n",
       "      <td>False</td>\n",
       "      <td>0.0</td>\n",
       "      <td>9.0</td>\n",
       "      <td>0.0</td>\n",
       "      <td>2823.0</td>\n",
       "      <td>0.0</td>\n",
       "      <td>Lerome Peckers</td>\n",
       "    </tr>\n",
       "    <tr>\n",
       "      <th>2</th>\n",
       "      <td>0019_01</td>\n",
       "      <td>Europa</td>\n",
       "      <td>True</td>\n",
       "      <td>C/0/S</td>\n",
       "      <td>55 Cancri e</td>\n",
       "      <td>31.0</td>\n",
       "      <td>False</td>\n",
       "      <td>0.0</td>\n",
       "      <td>0.0</td>\n",
       "      <td>0.0</td>\n",
       "      <td>0.0</td>\n",
       "      <td>0.0</td>\n",
       "      <td>Sabih Unhearfus</td>\n",
       "    </tr>\n",
       "    <tr>\n",
       "      <th>3</th>\n",
       "      <td>0021_01</td>\n",
       "      <td>Europa</td>\n",
       "      <td>False</td>\n",
       "      <td>C/1/S</td>\n",
       "      <td>TRAPPIST-1e</td>\n",
       "      <td>38.0</td>\n",
       "      <td>False</td>\n",
       "      <td>0.0</td>\n",
       "      <td>6652.0</td>\n",
       "      <td>0.0</td>\n",
       "      <td>181.0</td>\n",
       "      <td>585.0</td>\n",
       "      <td>Meratz Caltilter</td>\n",
       "    </tr>\n",
       "    <tr>\n",
       "      <th>4</th>\n",
       "      <td>0023_01</td>\n",
       "      <td>Earth</td>\n",
       "      <td>False</td>\n",
       "      <td>F/5/S</td>\n",
       "      <td>TRAPPIST-1e</td>\n",
       "      <td>20.0</td>\n",
       "      <td>False</td>\n",
       "      <td>10.0</td>\n",
       "      <td>0.0</td>\n",
       "      <td>635.0</td>\n",
       "      <td>0.0</td>\n",
       "      <td>0.0</td>\n",
       "      <td>Brence Harperez</td>\n",
       "    </tr>\n",
       "    <tr>\n",
       "      <th>...</th>\n",
       "      <td>...</td>\n",
       "      <td>...</td>\n",
       "      <td>...</td>\n",
       "      <td>...</td>\n",
       "      <td>...</td>\n",
       "      <td>...</td>\n",
       "      <td>...</td>\n",
       "      <td>...</td>\n",
       "      <td>...</td>\n",
       "      <td>...</td>\n",
       "      <td>...</td>\n",
       "      <td>...</td>\n",
       "      <td>...</td>\n",
       "    </tr>\n",
       "    <tr>\n",
       "      <th>4272</th>\n",
       "      <td>9266_02</td>\n",
       "      <td>Earth</td>\n",
       "      <td>True</td>\n",
       "      <td>G/1496/S</td>\n",
       "      <td>TRAPPIST-1e</td>\n",
       "      <td>34.0</td>\n",
       "      <td>False</td>\n",
       "      <td>0.0</td>\n",
       "      <td>0.0</td>\n",
       "      <td>0.0</td>\n",
       "      <td>0.0</td>\n",
       "      <td>0.0</td>\n",
       "      <td>Jeron Peter</td>\n",
       "    </tr>\n",
       "    <tr>\n",
       "      <th>4273</th>\n",
       "      <td>9269_01</td>\n",
       "      <td>Earth</td>\n",
       "      <td>False</td>\n",
       "      <td>NaN</td>\n",
       "      <td>TRAPPIST-1e</td>\n",
       "      <td>42.0</td>\n",
       "      <td>False</td>\n",
       "      <td>0.0</td>\n",
       "      <td>847.0</td>\n",
       "      <td>17.0</td>\n",
       "      <td>10.0</td>\n",
       "      <td>144.0</td>\n",
       "      <td>Matty Scheron</td>\n",
       "    </tr>\n",
       "    <tr>\n",
       "      <th>4274</th>\n",
       "      <td>9271_01</td>\n",
       "      <td>Mars</td>\n",
       "      <td>True</td>\n",
       "      <td>D/296/P</td>\n",
       "      <td>55 Cancri e</td>\n",
       "      <td>NaN</td>\n",
       "      <td>False</td>\n",
       "      <td>0.0</td>\n",
       "      <td>0.0</td>\n",
       "      <td>0.0</td>\n",
       "      <td>0.0</td>\n",
       "      <td>0.0</td>\n",
       "      <td>Jayrin Pore</td>\n",
       "    </tr>\n",
       "    <tr>\n",
       "      <th>4275</th>\n",
       "      <td>9273_01</td>\n",
       "      <td>Europa</td>\n",
       "      <td>False</td>\n",
       "      <td>D/297/P</td>\n",
       "      <td>NaN</td>\n",
       "      <td>NaN</td>\n",
       "      <td>False</td>\n",
       "      <td>0.0</td>\n",
       "      <td>2680.0</td>\n",
       "      <td>0.0</td>\n",
       "      <td>0.0</td>\n",
       "      <td>523.0</td>\n",
       "      <td>Kitakan Conale</td>\n",
       "    </tr>\n",
       "    <tr>\n",
       "      <th>4276</th>\n",
       "      <td>9277_01</td>\n",
       "      <td>Earth</td>\n",
       "      <td>True</td>\n",
       "      <td>G/1498/S</td>\n",
       "      <td>PSO J318.5-22</td>\n",
       "      <td>43.0</td>\n",
       "      <td>False</td>\n",
       "      <td>0.0</td>\n",
       "      <td>0.0</td>\n",
       "      <td>0.0</td>\n",
       "      <td>0.0</td>\n",
       "      <td>0.0</td>\n",
       "      <td>Lilace Leonzaley</td>\n",
       "    </tr>\n",
       "  </tbody>\n",
       "</table>\n",
       "<p>4277 rows × 13 columns</p>\n",
       "</div>"
      ],
      "text/plain": [
       "     PassengerId HomePlanet CryoSleep     Cabin    Destination   Age    VIP  \\\n",
       "0        0013_01      Earth      True     G/3/S    TRAPPIST-1e  27.0  False   \n",
       "1        0018_01      Earth     False     F/4/S    TRAPPIST-1e  19.0  False   \n",
       "2        0019_01     Europa      True     C/0/S    55 Cancri e  31.0  False   \n",
       "3        0021_01     Europa     False     C/1/S    TRAPPIST-1e  38.0  False   \n",
       "4        0023_01      Earth     False     F/5/S    TRAPPIST-1e  20.0  False   \n",
       "...          ...        ...       ...       ...            ...   ...    ...   \n",
       "4272     9266_02      Earth      True  G/1496/S    TRAPPIST-1e  34.0  False   \n",
       "4273     9269_01      Earth     False       NaN    TRAPPIST-1e  42.0  False   \n",
       "4274     9271_01       Mars      True   D/296/P    55 Cancri e   NaN  False   \n",
       "4275     9273_01     Europa     False   D/297/P            NaN   NaN  False   \n",
       "4276     9277_01      Earth      True  G/1498/S  PSO J318.5-22  43.0  False   \n",
       "\n",
       "      RoomService  FoodCourt  ShoppingMall     Spa  VRDeck              Name  \n",
       "0             0.0        0.0           0.0     0.0     0.0   Nelly Carsoning  \n",
       "1             0.0        9.0           0.0  2823.0     0.0    Lerome Peckers  \n",
       "2             0.0        0.0           0.0     0.0     0.0   Sabih Unhearfus  \n",
       "3             0.0     6652.0           0.0   181.0   585.0  Meratz Caltilter  \n",
       "4            10.0        0.0         635.0     0.0     0.0   Brence Harperez  \n",
       "...           ...        ...           ...     ...     ...               ...  \n",
       "4272          0.0        0.0           0.0     0.0     0.0       Jeron Peter  \n",
       "4273          0.0      847.0          17.0    10.0   144.0     Matty Scheron  \n",
       "4274          0.0        0.0           0.0     0.0     0.0       Jayrin Pore  \n",
       "4275          0.0     2680.0           0.0     0.0   523.0    Kitakan Conale  \n",
       "4276          0.0        0.0           0.0     0.0     0.0  Lilace Leonzaley  \n",
       "\n",
       "[4277 rows x 13 columns]"
      ]
     },
     "execution_count": 325,
     "metadata": {},
     "output_type": "execute_result"
    }
   ],
   "source": [
    "test"
   ]
  },
  {
   "cell_type": "code",
   "execution_count": 326,
   "metadata": {},
   "outputs": [],
   "source": [
    "pid=test[\"PassengerId\"]"
   ]
  },
  {
   "cell_type": "code",
   "execution_count": 327,
   "metadata": {},
   "outputs": [],
   "source": [
    "test=test.drop([\"PassengerId\",\"Cabin\",\"Name\"],axis=1)"
   ]
  },
  {
   "cell_type": "code",
   "execution_count": 328,
   "metadata": {},
   "outputs": [
    {
     "data": {
      "text/plain": [
       "HomePlanet       87\n",
       "CryoSleep        93\n",
       "Destination      92\n",
       "Age              91\n",
       "VIP              93\n",
       "RoomService      82\n",
       "FoodCourt       106\n",
       "ShoppingMall     98\n",
       "Spa             101\n",
       "VRDeck           80\n",
       "dtype: int64"
      ]
     },
     "execution_count": 328,
     "metadata": {},
     "output_type": "execute_result"
    }
   ],
   "source": [
    "test.isna().sum()"
   ]
  },
  {
   "cell_type": "code",
   "execution_count": 329,
   "metadata": {},
   "outputs": [
    {
     "name": "stdout",
     "output_type": "stream",
     "text": [
      "<class 'pandas.core.frame.DataFrame'>\n",
      "RangeIndex: 4277 entries, 0 to 4276\n",
      "Data columns (total 10 columns):\n",
      " #   Column        Non-Null Count  Dtype  \n",
      "---  ------        --------------  -----  \n",
      " 0   HomePlanet    4190 non-null   object \n",
      " 1   CryoSleep     4184 non-null   object \n",
      " 2   Destination   4185 non-null   object \n",
      " 3   Age           4186 non-null   float64\n",
      " 4   VIP           4184 non-null   object \n",
      " 5   RoomService   4195 non-null   float64\n",
      " 6   FoodCourt     4171 non-null   float64\n",
      " 7   ShoppingMall  4179 non-null   float64\n",
      " 8   Spa           4176 non-null   float64\n",
      " 9   VRDeck        4197 non-null   float64\n",
      "dtypes: float64(6), object(4)\n",
      "memory usage: 334.3+ KB\n"
     ]
    }
   ],
   "source": [
    "test.info()"
   ]
  },
  {
   "cell_type": "code",
   "execution_count": 330,
   "metadata": {},
   "outputs": [
    {
     "data": {
      "text/html": [
       "<div>\n",
       "<style scoped>\n",
       "    .dataframe tbody tr th:only-of-type {\n",
       "        vertical-align: middle;\n",
       "    }\n",
       "\n",
       "    .dataframe tbody tr th {\n",
       "        vertical-align: top;\n",
       "    }\n",
       "\n",
       "    .dataframe thead th {\n",
       "        text-align: right;\n",
       "    }\n",
       "</style>\n",
       "<table border=\"1\" class=\"dataframe\">\n",
       "  <thead>\n",
       "    <tr style=\"text-align: right;\">\n",
       "      <th></th>\n",
       "      <th>Age</th>\n",
       "      <th>RoomService</th>\n",
       "      <th>FoodCourt</th>\n",
       "      <th>ShoppingMall</th>\n",
       "      <th>Spa</th>\n",
       "      <th>VRDeck</th>\n",
       "    </tr>\n",
       "  </thead>\n",
       "  <tbody>\n",
       "    <tr>\n",
       "      <th>count</th>\n",
       "      <td>4186.000000</td>\n",
       "      <td>4195.000000</td>\n",
       "      <td>4171.000000</td>\n",
       "      <td>4179.000000</td>\n",
       "      <td>4176.000000</td>\n",
       "      <td>4197.000000</td>\n",
       "    </tr>\n",
       "    <tr>\n",
       "      <th>mean</th>\n",
       "      <td>28.658146</td>\n",
       "      <td>219.266269</td>\n",
       "      <td>439.484296</td>\n",
       "      <td>177.295525</td>\n",
       "      <td>303.052443</td>\n",
       "      <td>310.710031</td>\n",
       "    </tr>\n",
       "    <tr>\n",
       "      <th>std</th>\n",
       "      <td>14.179072</td>\n",
       "      <td>607.011289</td>\n",
       "      <td>1527.663045</td>\n",
       "      <td>560.821123</td>\n",
       "      <td>1117.186015</td>\n",
       "      <td>1246.994742</td>\n",
       "    </tr>\n",
       "    <tr>\n",
       "      <th>min</th>\n",
       "      <td>0.000000</td>\n",
       "      <td>0.000000</td>\n",
       "      <td>0.000000</td>\n",
       "      <td>0.000000</td>\n",
       "      <td>0.000000</td>\n",
       "      <td>0.000000</td>\n",
       "    </tr>\n",
       "    <tr>\n",
       "      <th>25%</th>\n",
       "      <td>19.000000</td>\n",
       "      <td>0.000000</td>\n",
       "      <td>0.000000</td>\n",
       "      <td>0.000000</td>\n",
       "      <td>0.000000</td>\n",
       "      <td>0.000000</td>\n",
       "    </tr>\n",
       "    <tr>\n",
       "      <th>50%</th>\n",
       "      <td>26.000000</td>\n",
       "      <td>0.000000</td>\n",
       "      <td>0.000000</td>\n",
       "      <td>0.000000</td>\n",
       "      <td>0.000000</td>\n",
       "      <td>0.000000</td>\n",
       "    </tr>\n",
       "    <tr>\n",
       "      <th>75%</th>\n",
       "      <td>37.000000</td>\n",
       "      <td>53.000000</td>\n",
       "      <td>78.000000</td>\n",
       "      <td>33.000000</td>\n",
       "      <td>50.000000</td>\n",
       "      <td>36.000000</td>\n",
       "    </tr>\n",
       "    <tr>\n",
       "      <th>max</th>\n",
       "      <td>79.000000</td>\n",
       "      <td>11567.000000</td>\n",
       "      <td>25273.000000</td>\n",
       "      <td>8292.000000</td>\n",
       "      <td>19844.000000</td>\n",
       "      <td>22272.000000</td>\n",
       "    </tr>\n",
       "  </tbody>\n",
       "</table>\n",
       "</div>"
      ],
      "text/plain": [
       "               Age   RoomService     FoodCourt  ShoppingMall           Spa  \\\n",
       "count  4186.000000   4195.000000   4171.000000   4179.000000   4176.000000   \n",
       "mean     28.658146    219.266269    439.484296    177.295525    303.052443   \n",
       "std      14.179072    607.011289   1527.663045    560.821123   1117.186015   \n",
       "min       0.000000      0.000000      0.000000      0.000000      0.000000   \n",
       "25%      19.000000      0.000000      0.000000      0.000000      0.000000   \n",
       "50%      26.000000      0.000000      0.000000      0.000000      0.000000   \n",
       "75%      37.000000     53.000000     78.000000     33.000000     50.000000   \n",
       "max      79.000000  11567.000000  25273.000000   8292.000000  19844.000000   \n",
       "\n",
       "             VRDeck  \n",
       "count   4197.000000  \n",
       "mean     310.710031  \n",
       "std     1246.994742  \n",
       "min        0.000000  \n",
       "25%        0.000000  \n",
       "50%        0.000000  \n",
       "75%       36.000000  \n",
       "max    22272.000000  "
      ]
     },
     "execution_count": 330,
     "metadata": {},
     "output_type": "execute_result"
    }
   ],
   "source": [
    "test.describe()"
   ]
  },
  {
   "cell_type": "code",
   "execution_count": 331,
   "metadata": {},
   "outputs": [],
   "source": [
    "test[\"RoomService\"]=test[\"RoomService\"].fillna(0.0)\n",
    "test[\"FoodCourt\"]=test[\"FoodCourt\"].fillna(0.0)\n",
    "test[\"ShoppingMall\"]=test[\"ShoppingMall\"].fillna(0.0)\n",
    "test[\"Spa\"]=test[\"Spa\"].fillna(0.0)\n",
    "test[\"VRDeck\"]=test[\"VRDeck\"].fillna(0.0)"
   ]
  },
  {
   "cell_type": "code",
   "execution_count": 332,
   "metadata": {},
   "outputs": [
    {
     "data": {
      "text/plain": [
       "26.0"
      ]
     },
     "execution_count": 332,
     "metadata": {},
     "output_type": "execute_result"
    }
   ],
   "source": [
    "test[\"Age\"].median()"
   ]
  },
  {
   "cell_type": "code",
   "execution_count": 333,
   "metadata": {},
   "outputs": [],
   "source": [
    "test[\"Age\"]=test[\"Age\"].fillna(26.0)"
   ]
  },
  {
   "cell_type": "code",
   "execution_count": 334,
   "metadata": {},
   "outputs": [
    {
     "data": {
      "text/plain": [
       "HomePlanet      87\n",
       "CryoSleep       93\n",
       "Destination     92\n",
       "Age              0\n",
       "VIP             93\n",
       "RoomService      0\n",
       "FoodCourt        0\n",
       "ShoppingMall     0\n",
       "Spa              0\n",
       "VRDeck           0\n",
       "dtype: int64"
      ]
     },
     "execution_count": 334,
     "metadata": {},
     "output_type": "execute_result"
    }
   ],
   "source": [
    "test.isna().sum()"
   ]
  },
  {
   "cell_type": "code",
   "execution_count": 335,
   "metadata": {},
   "outputs": [
    {
     "data": {
      "text/plain": [
       "Earth     2263\n",
       "Europa    1002\n",
       "Mars       925\n",
       "Name: HomePlanet, dtype: int64"
      ]
     },
     "execution_count": 335,
     "metadata": {},
     "output_type": "execute_result"
    }
   ],
   "source": [
    "test.HomePlanet.value_counts()"
   ]
  },
  {
   "cell_type": "code",
   "execution_count": 336,
   "metadata": {},
   "outputs": [
    {
     "data": {
      "text/plain": [
       "False    2640\n",
       "True     1544\n",
       "Name: CryoSleep, dtype: int64"
      ]
     },
     "execution_count": 336,
     "metadata": {},
     "output_type": "execute_result"
    }
   ],
   "source": [
    "test.CryoSleep.value_counts()"
   ]
  },
  {
   "cell_type": "code",
   "execution_count": 337,
   "metadata": {},
   "outputs": [
    {
     "data": {
      "text/plain": [
       "TRAPPIST-1e      2956\n",
       "55 Cancri e       841\n",
       "PSO J318.5-22     388\n",
       "Name: Destination, dtype: int64"
      ]
     },
     "execution_count": 337,
     "metadata": {},
     "output_type": "execute_result"
    }
   ],
   "source": [
    "test.Destination.value_counts()"
   ]
  },
  {
   "cell_type": "code",
   "execution_count": 338,
   "metadata": {},
   "outputs": [
    {
     "data": {
      "text/plain": [
       "False    4110\n",
       "True       74\n",
       "Name: VIP, dtype: int64"
      ]
     },
     "execution_count": 338,
     "metadata": {},
     "output_type": "execute_result"
    }
   ],
   "source": [
    "test.VIP.value_counts()"
   ]
  },
  {
   "cell_type": "code",
   "execution_count": 339,
   "metadata": {},
   "outputs": [],
   "source": [
    "test[\"HomePlanet\"]=test[\"HomePlanet\"].fillna(\"Earth\")\n",
    "test[\"CryoSleep\"]=test[\"CryoSleep\"].fillna(\"False\")\n",
    "test[\"Destination\"]=test[\"Destination\"].fillna(\"TRAPPIST-1e\")\n",
    "test[\"VIP\"]=test[\"VIP\"].fillna(\"False\")"
   ]
  },
  {
   "cell_type": "code",
   "execution_count": 340,
   "metadata": {},
   "outputs": [
    {
     "data": {
      "text/plain": [
       "HomePlanet      0\n",
       "CryoSleep       0\n",
       "Destination     0\n",
       "Age             0\n",
       "VIP             0\n",
       "RoomService     0\n",
       "FoodCourt       0\n",
       "ShoppingMall    0\n",
       "Spa             0\n",
       "VRDeck          0\n",
       "dtype: int64"
      ]
     },
     "execution_count": 340,
     "metadata": {},
     "output_type": "execute_result"
    }
   ],
   "source": [
    "test.isna().sum()"
   ]
  },
  {
   "cell_type": "code",
   "execution_count": 341,
   "metadata": {},
   "outputs": [
    {
     "name": "stdout",
     "output_type": "stream",
     "text": [
      "<class 'pandas.core.frame.DataFrame'>\n",
      "RangeIndex: 4277 entries, 0 to 4276\n",
      "Data columns (total 10 columns):\n",
      " #   Column        Non-Null Count  Dtype  \n",
      "---  ------        --------------  -----  \n",
      " 0   HomePlanet    4277 non-null   object \n",
      " 1   CryoSleep     4277 non-null   object \n",
      " 2   Destination   4277 non-null   object \n",
      " 3   Age           4277 non-null   float64\n",
      " 4   VIP           4277 non-null   object \n",
      " 5   RoomService   4277 non-null   float64\n",
      " 6   FoodCourt     4277 non-null   float64\n",
      " 7   ShoppingMall  4277 non-null   float64\n",
      " 8   Spa           4277 non-null   float64\n",
      " 9   VRDeck        4277 non-null   float64\n",
      "dtypes: float64(6), object(4)\n",
      "memory usage: 334.3+ KB\n"
     ]
    }
   ],
   "source": [
    "test.info()"
   ]
  },
  {
   "cell_type": "code",
   "execution_count": 342,
   "metadata": {},
   "outputs": [],
   "source": [
    "test[\"HomePlanet\"]=labelencoder.fit_transform(test[\"HomePlanet\"])"
   ]
  },
  {
   "cell_type": "code",
   "execution_count": 343,
   "metadata": {},
   "outputs": [],
   "source": [
    "test[\"CryoSleep\"]=test[\"CryoSleep\"].astype(\"str\")\n",
    "test[\"CryoSleep\"]=labelencoder.fit_transform(test[\"CryoSleep\"])"
   ]
  },
  {
   "cell_type": "code",
   "execution_count": 344,
   "metadata": {},
   "outputs": [],
   "source": [
    "test[\"Destination\"]=labelencoder.fit_transform(test[\"Destination\"])"
   ]
  },
  {
   "cell_type": "code",
   "execution_count": 345,
   "metadata": {},
   "outputs": [],
   "source": [
    "test[\"VIP\"]=test[\"VIP\"].astype(\"str\")\n",
    "test[\"VIP\"]=labelencoder.fit_transform(test[\"VIP\"])"
   ]
  },
  {
   "cell_type": "code",
   "execution_count": 346,
   "metadata": {},
   "outputs": [
    {
     "name": "stdout",
     "output_type": "stream",
     "text": [
      "<class 'pandas.core.frame.DataFrame'>\n",
      "RangeIndex: 4277 entries, 0 to 4276\n",
      "Data columns (total 10 columns):\n",
      " #   Column        Non-Null Count  Dtype  \n",
      "---  ------        --------------  -----  \n",
      " 0   HomePlanet    4277 non-null   int32  \n",
      " 1   CryoSleep     4277 non-null   int32  \n",
      " 2   Destination   4277 non-null   int32  \n",
      " 3   Age           4277 non-null   float64\n",
      " 4   VIP           4277 non-null   int32  \n",
      " 5   RoomService   4277 non-null   float64\n",
      " 6   FoodCourt     4277 non-null   float64\n",
      " 7   ShoppingMall  4277 non-null   float64\n",
      " 8   Spa           4277 non-null   float64\n",
      " 9   VRDeck        4277 non-null   float64\n",
      "dtypes: float64(6), int32(4)\n",
      "memory usage: 267.4 KB\n"
     ]
    }
   ],
   "source": [
    "test.info()"
   ]
  },
  {
   "cell_type": "code",
   "execution_count": 352,
   "metadata": {},
   "outputs": [],
   "source": [
    "model=Sequential()\n",
    "model.add(Input(10,))\n",
    "model.add(Dense(units=8, activation='relu'))\n",
    "model.add(Dense(units=13, activation='relu'))\n",
    "model.add(Dense(units=16, activation='relu'))\n",
    "model.add(Dense(1, activation='sigmoid')) #Output layer\n",
    "model.compile(optimizer=Adam(), loss='binary_crossentropy', metrics=['accuracy'])"
   ]
  },
  {
   "cell_type": "code",
   "execution_count": 353,
   "metadata": {
    "scrolled": true
   },
   "outputs": [
    {
     "name": "stdout",
     "output_type": "stream",
     "text": [
      "Epoch 1/164\n",
      "49/49 [==============================] - 1s 7ms/step - loss: 0.7020 - accuracy: 0.5121\n",
      "Epoch 2/164\n",
      "49/49 [==============================] - 0s 7ms/step - loss: 0.6526 - accuracy: 0.6753\n",
      "Epoch 3/164\n",
      "49/49 [==============================] - 0s 7ms/step - loss: 0.5825 - accuracy: 0.7294\n",
      "Epoch 4/164\n",
      "49/49 [==============================] - 0s 7ms/step - loss: 0.5281 - accuracy: 0.7426\n",
      "Epoch 5/164\n",
      "49/49 [==============================] - 0s 7ms/step - loss: 0.4938 - accuracy: 0.7633\n",
      "Epoch 6/164\n",
      "49/49 [==============================] - 0s 7ms/step - loss: 0.4794 - accuracy: 0.7615\n",
      "Epoch 7/164\n",
      "49/49 [==============================] - 0s 7ms/step - loss: 0.4684 - accuracy: 0.7703\n",
      "Epoch 8/164\n",
      "49/49 [==============================] - 0s 7ms/step - loss: 0.4588 - accuracy: 0.7754\n",
      "Epoch 9/164\n",
      "49/49 [==============================] - 0s 7ms/step - loss: 0.4528 - accuracy: 0.7854\n",
      "Epoch 10/164\n",
      "49/49 [==============================] - 0s 7ms/step - loss: 0.4515 - accuracy: 0.7857\n",
      "Epoch 11/164\n",
      "49/49 [==============================] - 0s 7ms/step - loss: 0.4420 - accuracy: 0.7918\n",
      "Epoch 12/164\n",
      "49/49 [==============================] - 0s 7ms/step - loss: 0.4473 - accuracy: 0.7887\n",
      "Epoch 13/164\n",
      "49/49 [==============================] - 0s 7ms/step - loss: 0.4505 - accuracy: 0.7886\n",
      "Epoch 14/164\n",
      "49/49 [==============================] - 0s 7ms/step - loss: 0.4549 - accuracy: 0.7838\n",
      "Epoch 15/164\n",
      "49/49 [==============================] - 0s 7ms/step - loss: 0.4415 - accuracy: 0.7896\n",
      "Epoch 16/164\n",
      "49/49 [==============================] - 0s 7ms/step - loss: 0.4465 - accuracy: 0.7825\n",
      "Epoch 17/164\n",
      "49/49 [==============================] - 0s 7ms/step - loss: 0.4397 - accuracy: 0.7974\n",
      "Epoch 18/164\n",
      "49/49 [==============================] - 0s 7ms/step - loss: 0.4438 - accuracy: 0.7864\n",
      "Epoch 19/164\n",
      "49/49 [==============================] - 0s 7ms/step - loss: 0.4361 - accuracy: 0.7941\n",
      "Epoch 20/164\n",
      "49/49 [==============================] - 0s 7ms/step - loss: 0.4410 - accuracy: 0.7942\n",
      "Epoch 21/164\n",
      "49/49 [==============================] - 0s 7ms/step - loss: 0.4392 - accuracy: 0.7855\n",
      "Epoch 22/164\n",
      "49/49 [==============================] - 0s 7ms/step - loss: 0.4366 - accuracy: 0.7935\n",
      "Epoch 23/164\n",
      "49/49 [==============================] - 0s 7ms/step - loss: 0.4266 - accuracy: 0.8037\n",
      "Epoch 24/164\n",
      "49/49 [==============================] - 0s 7ms/step - loss: 0.4365 - accuracy: 0.7937\n",
      "Epoch 25/164\n",
      "49/49 [==============================] - 0s 7ms/step - loss: 0.4299 - accuracy: 0.7989\n",
      "Epoch 26/164\n",
      "49/49 [==============================] - 0s 6ms/step - loss: 0.4376 - accuracy: 0.7930\n",
      "Epoch 27/164\n",
      "49/49 [==============================] - 0s 7ms/step - loss: 0.4288 - accuracy: 0.7993\n",
      "Epoch 28/164\n",
      "49/49 [==============================] - 0s 7ms/step - loss: 0.4436 - accuracy: 0.7923\n",
      "Epoch 29/164\n",
      "49/49 [==============================] - 0s 7ms/step - loss: 0.4235 - accuracy: 0.8019\n",
      "Epoch 30/164\n",
      "49/49 [==============================] - 0s 7ms/step - loss: 0.4353 - accuracy: 0.7978\n",
      "Epoch 31/164\n",
      "49/49 [==============================] - 0s 7ms/step - loss: 0.4271 - accuracy: 0.7956\n",
      "Epoch 32/164\n",
      "49/49 [==============================] - 0s 7ms/step - loss: 0.4387 - accuracy: 0.7960\n",
      "Epoch 33/164\n",
      "49/49 [==============================] - 0s 7ms/step - loss: 0.4390 - accuracy: 0.7892\n",
      "Epoch 34/164\n",
      "49/49 [==============================] - 0s 7ms/step - loss: 0.4274 - accuracy: 0.7961\n",
      "Epoch 35/164\n",
      "49/49 [==============================] - 0s 7ms/step - loss: 0.4329 - accuracy: 0.7950\n",
      "Epoch 36/164\n",
      "49/49 [==============================] - 0s 7ms/step - loss: 0.4294 - accuracy: 0.8003\n",
      "Epoch 37/164\n",
      "49/49 [==============================] - 0s 7ms/step - loss: 0.4295 - accuracy: 0.7966\n",
      "Epoch 38/164\n",
      "49/49 [==============================] - 0s 7ms/step - loss: 0.4309 - accuracy: 0.7996\n",
      "Epoch 39/164\n",
      "49/49 [==============================] - 0s 7ms/step - loss: 0.4299 - accuracy: 0.7955\n",
      "Epoch 40/164\n",
      "49/49 [==============================] - 0s 7ms/step - loss: 0.4458 - accuracy: 0.7807\n",
      "Epoch 41/164\n",
      "49/49 [==============================] - 0s 7ms/step - loss: 0.4278 - accuracy: 0.7957\n",
      "Epoch 42/164\n",
      "49/49 [==============================] - 0s 7ms/step - loss: 0.4271 - accuracy: 0.8028\n",
      "Epoch 43/164\n",
      "49/49 [==============================] - 0s 7ms/step - loss: 0.4279 - accuracy: 0.7976\n",
      "Epoch 44/164\n",
      "49/49 [==============================] - 0s 7ms/step - loss: 0.4297 - accuracy: 0.7967\n",
      "Epoch 45/164\n",
      "49/49 [==============================] - 0s 7ms/step - loss: 0.4250 - accuracy: 0.8000\n",
      "Epoch 46/164\n",
      "49/49 [==============================] - 0s 7ms/step - loss: 0.4377 - accuracy: 0.7939\n",
      "Epoch 47/164\n",
      "49/49 [==============================] - 0s 7ms/step - loss: 0.4221 - accuracy: 0.8035\n",
      "Epoch 48/164\n",
      "49/49 [==============================] - 0s 7ms/step - loss: 0.4224 - accuracy: 0.7994\n",
      "Epoch 49/164\n",
      "49/49 [==============================] - 0s 7ms/step - loss: 0.4292 - accuracy: 0.7946\n",
      "Epoch 50/164\n",
      "49/49 [==============================] - 0s 7ms/step - loss: 0.4268 - accuracy: 0.8026\n",
      "Epoch 51/164\n",
      "49/49 [==============================] - 0s 7ms/step - loss: 0.4218 - accuracy: 0.8015\n",
      "Epoch 52/164\n",
      "49/49 [==============================] - 0s 7ms/step - loss: 0.4281 - accuracy: 0.7988\n",
      "Epoch 53/164\n",
      "49/49 [==============================] - 0s 7ms/step - loss: 0.4279 - accuracy: 0.8003\n",
      "Epoch 54/164\n",
      "49/49 [==============================] - 0s 7ms/step - loss: 0.4195 - accuracy: 0.8031\n",
      "Epoch 55/164\n",
      "49/49 [==============================] - 0s 7ms/step - loss: 0.4341 - accuracy: 0.7988\n",
      "Epoch 56/164\n",
      "49/49 [==============================] - 0s 7ms/step - loss: 0.4306 - accuracy: 0.7983\n",
      "Epoch 57/164\n",
      "49/49 [==============================] - 0s 7ms/step - loss: 0.4246 - accuracy: 0.8016\n",
      "Epoch 58/164\n",
      "49/49 [==============================] - 0s 7ms/step - loss: 0.4261 - accuracy: 0.7971\n",
      "Epoch 59/164\n",
      "49/49 [==============================] - 0s 7ms/step - loss: 0.4240 - accuracy: 0.7981\n",
      "Epoch 60/164\n",
      "49/49 [==============================] - 0s 7ms/step - loss: 0.4158 - accuracy: 0.8058\n",
      "Epoch 61/164\n",
      "49/49 [==============================] - 0s 7ms/step - loss: 0.4212 - accuracy: 0.7992\n",
      "Epoch 62/164\n",
      "49/49 [==============================] - 0s 7ms/step - loss: 0.4219 - accuracy: 0.8019\n",
      "Epoch 63/164\n",
      "49/49 [==============================] - 0s 7ms/step - loss: 0.4382 - accuracy: 0.7973\n",
      "Epoch 64/164\n",
      "49/49 [==============================] - 0s 7ms/step - loss: 0.4128 - accuracy: 0.8026\n",
      "Epoch 65/164\n",
      "49/49 [==============================] - 0s 7ms/step - loss: 0.4331 - accuracy: 0.7957\n",
      "Epoch 66/164\n",
      "49/49 [==============================] - 0s 7ms/step - loss: 0.4239 - accuracy: 0.8028\n",
      "Epoch 67/164\n",
      "49/49 [==============================] - 0s 7ms/step - loss: 0.4270 - accuracy: 0.7989\n",
      "Epoch 68/164\n",
      "49/49 [==============================] - 0s 7ms/step - loss: 0.4325 - accuracy: 0.7928\n",
      "Epoch 69/164\n",
      "49/49 [==============================] - 0s 7ms/step - loss: 0.4336 - accuracy: 0.7965\n",
      "Epoch 70/164\n",
      "49/49 [==============================] - 0s 7ms/step - loss: 0.4244 - accuracy: 0.7962\n",
      "Epoch 71/164\n",
      "49/49 [==============================] - 0s 7ms/step - loss: 0.4134 - accuracy: 0.8095\n",
      "Epoch 72/164\n",
      "49/49 [==============================] - 0s 7ms/step - loss: 0.4262 - accuracy: 0.8029\n",
      "Epoch 73/164\n",
      "49/49 [==============================] - 0s 7ms/step - loss: 0.4222 - accuracy: 0.8010\n",
      "Epoch 74/164\n",
      "49/49 [==============================] - 0s 7ms/step - loss: 0.4301 - accuracy: 0.7940\n",
      "Epoch 75/164\n",
      "49/49 [==============================] - 0s 7ms/step - loss: 0.4214 - accuracy: 0.7979\n",
      "Epoch 76/164\n",
      "49/49 [==============================] - 0s 7ms/step - loss: 0.4295 - accuracy: 0.7966\n",
      "Epoch 77/164\n",
      "49/49 [==============================] - 0s 7ms/step - loss: 0.4302 - accuracy: 0.7984\n",
      "Epoch 78/164\n",
      "49/49 [==============================] - 0s 8ms/step - loss: 0.4237 - accuracy: 0.8010\n",
      "Epoch 79/164\n",
      "49/49 [==============================] - 0s 6ms/step - loss: 0.4261 - accuracy: 0.7983\n",
      "Epoch 80/164\n",
      "49/49 [==============================] - 0s 7ms/step - loss: 0.4299 - accuracy: 0.7954\n",
      "Epoch 81/164\n",
      "49/49 [==============================] - 0s 7ms/step - loss: 0.4303 - accuracy: 0.7942\n",
      "Epoch 82/164\n",
      "49/49 [==============================] - 0s 7ms/step - loss: 0.4295 - accuracy: 0.7997\n",
      "Epoch 83/164\n"
     ]
    },
    {
     "name": "stdout",
     "output_type": "stream",
     "text": [
      "49/49 [==============================] - 0s 7ms/step - loss: 0.4235 - accuracy: 0.7981\n",
      "Epoch 84/164\n",
      "49/49 [==============================] - 0s 6ms/step - loss: 0.4255 - accuracy: 0.7997\n",
      "Epoch 85/164\n",
      "49/49 [==============================] - 0s 7ms/step - loss: 0.4277 - accuracy: 0.7935\n",
      "Epoch 86/164\n",
      "49/49 [==============================] - 0s 7ms/step - loss: 0.4198 - accuracy: 0.8012\n",
      "Epoch 87/164\n",
      "49/49 [==============================] - 0s 7ms/step - loss: 0.4283 - accuracy: 0.7959\n",
      "Epoch 88/164\n",
      "49/49 [==============================] - 0s 7ms/step - loss: 0.4228 - accuracy: 0.7992\n",
      "Epoch 89/164\n",
      "49/49 [==============================] - 0s 7ms/step - loss: 0.4267 - accuracy: 0.7982\n",
      "Epoch 90/164\n",
      "49/49 [==============================] - 0s 7ms/step - loss: 0.4399 - accuracy: 0.7928\n",
      "Epoch 91/164\n",
      "49/49 [==============================] - 0s 7ms/step - loss: 0.4287 - accuracy: 0.8020\n",
      "Epoch 92/164\n",
      "49/49 [==============================] - 0s 7ms/step - loss: 0.4232 - accuracy: 0.8032\n",
      "Epoch 93/164\n",
      "49/49 [==============================] - 0s 7ms/step - loss: 0.4156 - accuracy: 0.8059\n",
      "Epoch 94/164\n",
      "49/49 [==============================] - 0s 7ms/step - loss: 0.4221 - accuracy: 0.8019\n",
      "Epoch 95/164\n",
      "49/49 [==============================] - 0s 8ms/step - loss: 0.4170 - accuracy: 0.8019\n",
      "Epoch 96/164\n",
      "49/49 [==============================] - 0s 7ms/step - loss: 0.4245 - accuracy: 0.8004\n",
      "Epoch 97/164\n",
      "49/49 [==============================] - 0s 9ms/step - loss: 0.4218 - accuracy: 0.8011\n",
      "Epoch 98/164\n",
      "49/49 [==============================] - 0s 8ms/step - loss: 0.4249 - accuracy: 0.7979\n",
      "Epoch 99/164\n",
      "49/49 [==============================] - 0s 6ms/step - loss: 0.4207 - accuracy: 0.8012\n",
      "Epoch 100/164\n",
      "49/49 [==============================] - 0s 7ms/step - loss: 0.4239 - accuracy: 0.7964\n",
      "Epoch 101/164\n",
      "49/49 [==============================] - 0s 7ms/step - loss: 0.4275 - accuracy: 0.7972\n",
      "Epoch 102/164\n",
      "49/49 [==============================] - 0s 7ms/step - loss: 0.4257 - accuracy: 0.7982\n",
      "Epoch 103/164\n",
      "49/49 [==============================] - 0s 7ms/step - loss: 0.4147 - accuracy: 0.8080\n",
      "Epoch 104/164\n",
      "49/49 [==============================] - 0s 7ms/step - loss: 0.4092 - accuracy: 0.8108\n",
      "Epoch 105/164\n",
      "49/49 [==============================] - 0s 7ms/step - loss: 0.4298 - accuracy: 0.7976\n",
      "Epoch 106/164\n",
      "49/49 [==============================] - 0s 7ms/step - loss: 0.4259 - accuracy: 0.7993\n",
      "Epoch 107/164\n",
      "49/49 [==============================] - 0s 7ms/step - loss: 0.4213 - accuracy: 0.8020\n",
      "Epoch 108/164\n",
      "49/49 [==============================] - 0s 7ms/step - loss: 0.4195 - accuracy: 0.8051\n",
      "Epoch 109/164\n",
      "49/49 [==============================] - 0s 7ms/step - loss: 0.4220 - accuracy: 0.8041\n",
      "Epoch 110/164\n",
      "49/49 [==============================] - 0s 7ms/step - loss: 0.4316 - accuracy: 0.7909\n",
      "Epoch 111/164\n",
      "49/49 [==============================] - 0s 7ms/step - loss: 0.4191 - accuracy: 0.8054\n",
      "Epoch 112/164\n",
      "49/49 [==============================] - 0s 7ms/step - loss: 0.4249 - accuracy: 0.8010\n",
      "Epoch 113/164\n",
      "49/49 [==============================] - 0s 7ms/step - loss: 0.4182 - accuracy: 0.8058\n",
      "Epoch 114/164\n",
      "49/49 [==============================] - 0s 7ms/step - loss: 0.4268 - accuracy: 0.7947\n",
      "Epoch 115/164\n",
      "49/49 [==============================] - 0s 7ms/step - loss: 0.4196 - accuracy: 0.8062\n",
      "Epoch 116/164\n",
      "49/49 [==============================] - 0s 7ms/step - loss: 0.4188 - accuracy: 0.8039\n",
      "Epoch 117/164\n",
      "49/49 [==============================] - 0s 7ms/step - loss: 0.4353 - accuracy: 0.7913\n",
      "Epoch 118/164\n",
      "49/49 [==============================] - 0s 7ms/step - loss: 0.4215 - accuracy: 0.7970\n",
      "Epoch 119/164\n",
      "49/49 [==============================] - 0s 7ms/step - loss: 0.4167 - accuracy: 0.8004\n",
      "Epoch 120/164\n",
      "49/49 [==============================] - 0s 7ms/step - loss: 0.4296 - accuracy: 0.7960\n",
      "Epoch 121/164\n",
      "49/49 [==============================] - 0s 7ms/step - loss: 0.4394 - accuracy: 0.7910\n",
      "Epoch 122/164\n",
      "49/49 [==============================] - 0s 7ms/step - loss: 0.4285 - accuracy: 0.7974\n",
      "Epoch 123/164\n",
      "49/49 [==============================] - 0s 7ms/step - loss: 0.4206 - accuracy: 0.8009\n",
      "Epoch 124/164\n",
      "49/49 [==============================] - 0s 7ms/step - loss: 0.4224 - accuracy: 0.8014\n",
      "Epoch 125/164\n",
      "49/49 [==============================] - 0s 7ms/step - loss: 0.4179 - accuracy: 0.8029\n",
      "Epoch 126/164\n",
      "49/49 [==============================] - 0s 7ms/step - loss: 0.4174 - accuracy: 0.8018\n",
      "Epoch 127/164\n",
      "49/49 [==============================] - 0s 7ms/step - loss: 0.4230 - accuracy: 0.8011\n",
      "Epoch 128/164\n",
      "49/49 [==============================] - 0s 7ms/step - loss: 0.4228 - accuracy: 0.8022\n",
      "Epoch 129/164\n",
      "49/49 [==============================] - 0s 7ms/step - loss: 0.4250 - accuracy: 0.7989\n",
      "Epoch 130/164\n",
      "49/49 [==============================] - 0s 7ms/step - loss: 0.4214 - accuracy: 0.8030\n",
      "Epoch 131/164\n",
      "49/49 [==============================] - 0s 7ms/step - loss: 0.4145 - accuracy: 0.8045\n",
      "Epoch 132/164\n",
      "49/49 [==============================] - 0s 7ms/step - loss: 0.4224 - accuracy: 0.8040\n",
      "Epoch 133/164\n",
      "49/49 [==============================] - 0s 7ms/step - loss: 0.4311 - accuracy: 0.7929\n",
      "Epoch 134/164\n",
      "49/49 [==============================] - 0s 7ms/step - loss: 0.4186 - accuracy: 0.8031\n",
      "Epoch 135/164\n",
      "49/49 [==============================] - 0s 7ms/step - loss: 0.4182 - accuracy: 0.8020\n",
      "Epoch 136/164\n",
      "49/49 [==============================] - 0s 7ms/step - loss: 0.4199 - accuracy: 0.7981\n",
      "Epoch 137/164\n",
      "49/49 [==============================] - 0s 8ms/step - loss: 0.4062 - accuracy: 0.8115\n",
      "Epoch 138/164\n",
      "49/49 [==============================] - 0s 8ms/step - loss: 0.4280 - accuracy: 0.7979\n",
      "Epoch 139/164\n",
      "49/49 [==============================] - 0s 7ms/step - loss: 0.4258 - accuracy: 0.7991\n",
      "Epoch 140/164\n",
      "49/49 [==============================] - 0s 7ms/step - loss: 0.4222 - accuracy: 0.8001\n",
      "Epoch 141/164\n",
      "49/49 [==============================] - 0s 7ms/step - loss: 0.4262 - accuracy: 0.7980\n",
      "Epoch 142/164\n",
      "49/49 [==============================] - 0s 7ms/step - loss: 0.4237 - accuracy: 0.8027\n",
      "Epoch 143/164\n",
      "49/49 [==============================] - 0s 7ms/step - loss: 0.4139 - accuracy: 0.8007\n",
      "Epoch 144/164\n",
      "49/49 [==============================] - 0s 7ms/step - loss: 0.4189 - accuracy: 0.8060\n",
      "Epoch 145/164\n",
      "49/49 [==============================] - 0s 7ms/step - loss: 0.4084 - accuracy: 0.8084\n",
      "Epoch 146/164\n",
      "49/49 [==============================] - 0s 7ms/step - loss: 0.4233 - accuracy: 0.7980\n",
      "Epoch 147/164\n",
      "49/49 [==============================] - 0s 7ms/step - loss: 0.4119 - accuracy: 0.8080\n",
      "Epoch 148/164\n",
      "49/49 [==============================] - 0s 7ms/step - loss: 0.4160 - accuracy: 0.8017\n",
      "Epoch 149/164\n",
      "49/49 [==============================] - 0s 7ms/step - loss: 0.4172 - accuracy: 0.8044\n",
      "Epoch 150/164\n",
      "49/49 [==============================] - 0s 7ms/step - loss: 0.4162 - accuracy: 0.7999\n",
      "Epoch 151/164\n",
      "49/49 [==============================] - 0s 7ms/step - loss: 0.4198 - accuracy: 0.8032\n",
      "Epoch 152/164\n",
      "49/49 [==============================] - 0s 7ms/step - loss: 0.4176 - accuracy: 0.8083\n",
      "Epoch 153/164\n",
      "49/49 [==============================] - 0s 7ms/step - loss: 0.4117 - accuracy: 0.8078\n",
      "Epoch 154/164\n",
      "49/49 [==============================] - 0s 7ms/step - loss: 0.4224 - accuracy: 0.7971\n",
      "Epoch 155/164\n",
      "49/49 [==============================] - 0s 7ms/step - loss: 0.4181 - accuracy: 0.8030\n",
      "Epoch 156/164\n",
      "49/49 [==============================] - 0s 7ms/step - loss: 0.4172 - accuracy: 0.8054\n",
      "Epoch 157/164\n",
      "49/49 [==============================] - 0s 7ms/step - loss: 0.4186 - accuracy: 0.8020\n",
      "Epoch 158/164\n",
      "49/49 [==============================] - 0s 7ms/step - loss: 0.4200 - accuracy: 0.7999\n",
      "Epoch 159/164\n",
      "49/49 [==============================] - 0s 7ms/step - loss: 0.4147 - accuracy: 0.8056\n",
      "Epoch 160/164\n",
      "49/49 [==============================] - 0s 7ms/step - loss: 0.4199 - accuracy: 0.8032\n",
      "Epoch 161/164\n",
      "49/49 [==============================] - 0s 7ms/step - loss: 0.4295 - accuracy: 0.7941\n",
      "Epoch 162/164\n",
      "49/49 [==============================] - 0s 7ms/step - loss: 0.4224 - accuracy: 0.7971\n",
      "Epoch 163/164\n",
      "49/49 [==============================] - 0s 7ms/step - loss: 0.4280 - accuracy: 0.7964\n",
      "Epoch 164/164\n"
     ]
    },
    {
     "name": "stdout",
     "output_type": "stream",
     "text": [
      "49/49 [==============================] - 0s 7ms/step - loss: 0.4215 - accuracy: 0.8036\n"
     ]
    },
    {
     "data": {
      "text/plain": [
       "<tensorflow.python.keras.callbacks.History at 0x23a6f3cfca0>"
      ]
     },
     "execution_count": 353,
     "metadata": {},
     "output_type": "execute_result"
    }
   ],
   "source": [
    "model.fit(x=X,y=y,epochs=164, batch_size=180)"
   ]
  },
  {
   "cell_type": "code",
   "execution_count": 354,
   "metadata": {},
   "outputs": [
    {
     "name": "stderr",
     "output_type": "stream",
     "text": [
      "C:\\Users\\Admin\\AppData\\Roaming\\Python\\Python38\\site-packages\\tensorflow\\python\\keras\\engine\\sequential.py:450: UserWarning: `model.predict_classes()` is deprecated and will be removed after 2021-01-01. Please use instead:* `np.argmax(model.predict(x), axis=-1)`,   if your model does multi-class classification   (e.g. if it uses a `softmax` last-layer activation).* `(model.predict(x) > 0.5).astype(\"int32\")`,   if your model does binary classification   (e.g. if it uses a `sigmoid` last-layer activation).\n",
      "  warnings.warn('`model.predict_classes()` is deprecated and '\n"
     ]
    }
   ],
   "source": [
    "pred=model.predict_classes(scaler.fit_transform(test))"
   ]
  },
  {
   "cell_type": "code",
   "execution_count": 355,
   "metadata": {},
   "outputs": [],
   "source": [
    "pred=pred.flatten()"
   ]
  },
  {
   "cell_type": "code",
   "execution_count": 356,
   "metadata": {},
   "outputs": [
    {
     "data": {
      "text/plain": [
       "array([1, 0, 1, ..., 1, 1, 1])"
      ]
     },
     "execution_count": 356,
     "metadata": {},
     "output_type": "execute_result"
    }
   ],
   "source": [
    "pred"
   ]
  },
  {
   "cell_type": "code",
   "execution_count": 357,
   "metadata": {},
   "outputs": [],
   "source": [
    "df = pd.DataFrame({\n",
    "    'PassengerId': pid,\n",
    "    'Transported': pred\n",
    "})"
   ]
  },
  {
   "cell_type": "code",
   "execution_count": 360,
   "metadata": {},
   "outputs": [],
   "source": [
    "df[\"Transported\"]=df[\"Transported\"].map({0: 'False', 1: 'True'})"
   ]
  },
  {
   "cell_type": "code",
   "execution_count": 361,
   "metadata": {},
   "outputs": [
    {
     "data": {
      "text/html": [
       "<div>\n",
       "<style scoped>\n",
       "    .dataframe tbody tr th:only-of-type {\n",
       "        vertical-align: middle;\n",
       "    }\n",
       "\n",
       "    .dataframe tbody tr th {\n",
       "        vertical-align: top;\n",
       "    }\n",
       "\n",
       "    .dataframe thead th {\n",
       "        text-align: right;\n",
       "    }\n",
       "</style>\n",
       "<table border=\"1\" class=\"dataframe\">\n",
       "  <thead>\n",
       "    <tr style=\"text-align: right;\">\n",
       "      <th></th>\n",
       "      <th>PassengerId</th>\n",
       "      <th>Transported</th>\n",
       "    </tr>\n",
       "  </thead>\n",
       "  <tbody>\n",
       "    <tr>\n",
       "      <th>0</th>\n",
       "      <td>0013_01</td>\n",
       "      <td>True</td>\n",
       "    </tr>\n",
       "    <tr>\n",
       "      <th>1</th>\n",
       "      <td>0018_01</td>\n",
       "      <td>False</td>\n",
       "    </tr>\n",
       "    <tr>\n",
       "      <th>2</th>\n",
       "      <td>0019_01</td>\n",
       "      <td>True</td>\n",
       "    </tr>\n",
       "    <tr>\n",
       "      <th>3</th>\n",
       "      <td>0021_01</td>\n",
       "      <td>True</td>\n",
       "    </tr>\n",
       "    <tr>\n",
       "      <th>4</th>\n",
       "      <td>0023_01</td>\n",
       "      <td>True</td>\n",
       "    </tr>\n",
       "    <tr>\n",
       "      <th>...</th>\n",
       "      <td>...</td>\n",
       "      <td>...</td>\n",
       "    </tr>\n",
       "    <tr>\n",
       "      <th>4272</th>\n",
       "      <td>9266_02</td>\n",
       "      <td>True</td>\n",
       "    </tr>\n",
       "    <tr>\n",
       "      <th>4273</th>\n",
       "      <td>9269_01</td>\n",
       "      <td>False</td>\n",
       "    </tr>\n",
       "    <tr>\n",
       "      <th>4274</th>\n",
       "      <td>9271_01</td>\n",
       "      <td>True</td>\n",
       "    </tr>\n",
       "    <tr>\n",
       "      <th>4275</th>\n",
       "      <td>9273_01</td>\n",
       "      <td>True</td>\n",
       "    </tr>\n",
       "    <tr>\n",
       "      <th>4276</th>\n",
       "      <td>9277_01</td>\n",
       "      <td>True</td>\n",
       "    </tr>\n",
       "  </tbody>\n",
       "</table>\n",
       "<p>4277 rows × 2 columns</p>\n",
       "</div>"
      ],
      "text/plain": [
       "     PassengerId Transported\n",
       "0        0013_01        True\n",
       "1        0018_01       False\n",
       "2        0019_01        True\n",
       "3        0021_01        True\n",
       "4        0023_01        True\n",
       "...          ...         ...\n",
       "4272     9266_02        True\n",
       "4273     9269_01       False\n",
       "4274     9271_01        True\n",
       "4275     9273_01        True\n",
       "4276     9277_01        True\n",
       "\n",
       "[4277 rows x 2 columns]"
      ]
     },
     "execution_count": 361,
     "metadata": {},
     "output_type": "execute_result"
    }
   ],
   "source": [
    "df"
   ]
  },
  {
   "cell_type": "code",
   "execution_count": 362,
   "metadata": {},
   "outputs": [],
   "source": [
    "df.to_csv(\"submission1.csv\",index=False)"
   ]
  },
  {
   "cell_type": "code",
   "execution_count": null,
   "metadata": {},
   "outputs": [],
   "source": []
  },
  {
   "cell_type": "code",
   "execution_count": null,
   "metadata": {},
   "outputs": [],
   "source": []
  },
  {
   "cell_type": "code",
   "execution_count": null,
   "metadata": {},
   "outputs": [],
   "source": []
  },
  {
   "cell_type": "code",
   "execution_count": null,
   "metadata": {},
   "outputs": [],
   "source": []
  }
 ],
 "metadata": {
  "kaggle": {
   "accelerator": "none",
   "dataSources": [
    {
     "databundleVersionId": 3220602,
     "sourceId": 34377,
     "sourceType": "competition"
    }
   ],
   "dockerImageVersionId": 30615,
   "isGpuEnabled": false,
   "isInternetEnabled": true,
   "language": "python",
   "sourceType": "notebook"
  },
  "kernelspec": {
   "display_name": "Python 3 (ipykernel)",
   "language": "python",
   "name": "python3"
  },
  "language_info": {
   "codemirror_mode": {
    "name": "ipython",
    "version": 3
   },
   "file_extension": ".py",
   "mimetype": "text/x-python",
   "name": "python",
   "nbconvert_exporter": "python",
   "pygments_lexer": "ipython3",
   "version": "3.8.18"
  }
 },
 "nbformat": 4,
 "nbformat_minor": 4
}
